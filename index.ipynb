{
 "cells": [
  {
   "cell_type": "markdown",
   "metadata": {},
   "source": [
    "# Nearest Neighbors Lab"
   ]
  },
  {
   "cell_type": "markdown",
   "metadata": {},
   "source": [
    "### Introduction\n",
    "\n",
    "In this lab, you apply nearest neighbors technique to help a taxi company predict the length of their rides.  Imagine that we are hired to consult for LiftOff, a limo and taxi service that is just opening up.  It wants to do some initial research on NYC trips.  LiftOff has a theory that the pickup location of a taxi ride can help predict the length of the ride.  So the hypothesis is that trips that have a similar pickup location will have a similar trip length. It wants to target the locations that generally have longer rides, as it makes more money that way.\n",
    "\n",
    "LiftOff asks us to do some analysis. Lucky for us, information about NYC taxi trips is available on [it's website](https://data.cityofnewyork.us/Transportation/2014-Yellow-Taxi-Trip-Data/gn7m-em8n).  "
   ]
  },
  {
   "cell_type": "markdown",
   "metadata": {},
   "source": [
    "### A little different"
   ]
  },
  {
   "cell_type": "markdown",
   "metadata": {},
   "source": [
    "Before we get started, note that our problem here is a little bit different than what we worked with previously.  \n",
    "\n",
    "Before our job would be complete upon finding the closest trips to a given location -- that is, upon finding our nearest neighbors.  Now, we still need to find the closest trips, but then we also need to use this data to predict the length of the trip.  As you'll see, to predict a trip length from a given location, we'll find the trips that occurred nearest to the given location, then take the median of those nearest trips, to make a prediction about trip length.\n",
    "\n",
    "The second new thing that we'll see with our problem is the task of choosing the correct number of neighbors or trips.  Say we choose the 500 closest neighbors to a given point.  Well in a dataset of only 1000 trips, we would be including trips from all over the map, and our nearest neighbors formula wouldn't tell us too much about how a specific point is different.  However, if we only choose one neighbor at a given point and assume that the one neighbor's trip distance predicts the length of our trip, then we run the risk of that trip just being a special case and not the norm for that area.  So how to choose the correct number of neighbors, referred to as $k$, is something that we'll need to explore.   "
   ]
  },
  {
   "cell_type": "markdown",
   "metadata": {},
   "source": [
    "### Exploring and Gathering the Data"
   ]
  },
  {
   "cell_type": "markdown",
   "metadata": {},
   "source": [
    "If you go to [NYC Open Data](https://opendata.cityofnewyork.us/), you can find NYC taxi data after a quick search [it's website](https://data.cityofnewyork.us/Transportation/2014-Yellow-Taxi-Trip-Data/gn7m-em8n) if you click on the button, \"API\", you'll find the data that we'll be working with.  For you're reading pleasure, the data has already been moved to the \"trips.json\" file in this lab."
   ]
  },
  {
   "cell_type": "markdown",
   "metadata": {
    "collapsed": true
   },
   "source": [
    "```python\n",
    "[\n",
    "  {\n",
    "    \"dropoff_datetime\": \"2014-11-26T22:31:00.000\",\n",
    "    \"dropoff_latitude\": \"40.746769999999998\",\n",
    "    \"dropoff_longitude\": \"-73.997450000000001\",\n",
    "    \"fare_amount\": \"52\",\n",
    "    \"imp_surcharge\": \"0\",\n",
    "    \"mta_tax\": \"0.5\",\n",
    "    \"passenger_count\": \"1\",\n",
    "    \"payment_type\": \"CSH\",\n",
    "    \"pickup_datetime\": \"2014-11-26T21:59:00.000\",\n",
    "    \"pickup_latitude\": \"40.64499\",\n",
    "    \"pickup_longitude\": \"-73.781149999999997\",\n",
    "    \"rate_code\": \"2\",\n",
    "    \"tip_amount\": \"0\",\n",
    "    \"tolls_amount\": \"5.3300000000000001\",\n",
    "    \"total_amount\": \"57.829999999999998\",\n",
    "    \"trip_distance\": \"18.379999999999999\",\n",
    "    \"vendor_id\": \"VTS\"\n",
    "  },\n",
    "...\n",
    "...\n",
    "]\n",
    "```"
   ]
  },
  {
   "cell_type": "markdown",
   "metadata": {
    "collapsed": true
   },
   "source": [
    "### Document Retrieval "
   ]
  },
  {
   "cell_type": "markdown",
   "metadata": {},
   "source": [
    "Now, we like the amount of data, but we don't need all of the attributes provided.  We decide that all we need for this exploration is `pickup_latitude`, and `pickup_longitude`."
   ]
  },
  {
   "cell_type": "markdown",
   "metadata": {},
   "source": [
    "The first step is to load the data from a JSON file, which can be a little tricky in python.  We'll write a function to do it for you - using the pandas library. "
   ]
  },
  {
   "cell_type": "code",
   "execution_count": 4,
   "metadata": {},
   "outputs": [
    {
     "name": "stdout",
     "output_type": "stream",
     "text": [
      "Collecting gmplot\n",
      "\u001b[?25l  Downloading https://files.pythonhosted.org/packages/e2/b1/e1429c31a40b3ef5840c16f78b506d03be9f27e517d3870a6fd0b356bd46/gmplot-1.2.0.tar.gz (115kB)\n",
      "\u001b[K    100% |████████████████████████████████| 122kB 8.9MB/s ta 0:00:01\n",
      "\u001b[?25hRequirement already satisfied: requests in /opt/conda/lib/python3.6/site-packages (from gmplot) (2.18.4)\n",
      "Requirement already satisfied: chardet<3.1.0,>=3.0.2 in /opt/conda/lib/python3.6/site-packages (from requests->gmplot) (3.0.4)\n",
      "Requirement already satisfied: idna<2.7,>=2.5 in /opt/conda/lib/python3.6/site-packages (from requests->gmplot) (2.6)\n",
      "Requirement already satisfied: urllib3<1.23,>=1.21.1 in /opt/conda/lib/python3.6/site-packages (from requests->gmplot) (1.22)\n",
      "Requirement already satisfied: certifi>=2017.4.17 in /opt/conda/lib/python3.6/site-packages (from requests->gmplot) (2018.4.16)\n",
      "Building wheels for collected packages: gmplot\n",
      "  Running setup.py bdist_wheel for gmplot ... \u001b[?25ldone\n",
      "\u001b[?25h  Stored in directory: /home/allinthemind66/.cache/pip/wheels/81/6a/76/4dd6a7cc310ba765894159ee84871e8cd55221d82ef14b81a1\n",
      "Successfully built gmplot\n",
      "\u001b[31mmkl-random 1.0.1 requires cython, which is not installed.\u001b[0m\n",
      "\u001b[31mmkl-fft 1.0.2 requires cython, which is not installed.\u001b[0m\n",
      "Installing collected packages: gmplot\n",
      "Successfully installed gmplot-1.2.0\n"
     ]
    }
   ],
   "source": [
    "import pandas\n",
    "!pip install gmplot\n",
    "def parse_file(fileName):\n",
    "    trips_df = pandas.read_json(fileName)\n",
    "    return trips_df.to_dict('records')\n",
    "\n",
    "trips = parse_file('trips.json')"
   ]
  },
  {
   "cell_type": "code",
   "execution_count": 5,
   "metadata": {},
   "outputs": [
    {
     "data": {
      "text/plain": [
       "{'dropoff_datetime': '2014-11-26T22:31:00.000',\n",
       " 'dropoff_latitude': 40.74677,\n",
       " 'dropoff_longitude': -73.99745,\n",
       " 'fare_amount': 52.0,\n",
       " 'imp_surcharge': 0.0,\n",
       " 'mta_tax': 0.5,\n",
       " 'passenger_count': 1,\n",
       " 'payment_type': 'CSH',\n",
       " 'pickup_datetime': '2014-11-26T21:59:00.000',\n",
       " 'pickup_latitude': 40.64499,\n",
       " 'pickup_longitude': -73.78115,\n",
       " 'rate_code': 2,\n",
       " 'store_and_fwd_flag': nan,\n",
       " 'tip_amount': 0.0,\n",
       " 'tolls_amount': 5.33,\n",
       " 'total_amount': 57.83,\n",
       " 'trip_distance': 18.38,\n",
       " 'vendor_id': 'VTS'}"
      ]
     },
     "execution_count": 5,
     "metadata": {},
     "output_type": "execute_result"
    }
   ],
   "source": [
    "trips[0]"
   ]
  },
  {
   "cell_type": "code",
   "execution_count": 6,
   "metadata": {},
   "outputs": [
    {
     "data": {
      "text/plain": [
       "1000"
      ]
     },
     "execution_count": 6,
     "metadata": {},
     "output_type": "execute_result"
    }
   ],
   "source": [
    "len(trips)"
   ]
  },
  {
   "cell_type": "markdown",
   "metadata": {
    "collapsed": true
   },
   "source": [
    "Ok, so as you can see from above, the `trips` variable returns an array of dictionaries with each dictionary representing a trip.  Write a function called `parse_trips(trips)` that returns an array of the trips with just the following attributes: `trip_distance`, `pickup_latitude`, `pickup_longitude`.  \n",
    "\n",
    "Run the `index-tests.py` file to ensure that you wrote it correctly."
   ]
  },
  {
   "cell_type": "code",
   "execution_count": 7,
   "metadata": {},
   "outputs": [],
   "source": [
    "def parse_trips(trips):\n",
    "    trips_array = []\n",
    "    for trip in trips:\n",
    "#         print({'pickup_latitude': trip['pickup_latitude'], 'pickup_longitude': trip['pickup_longitude'],'trip_distance': trip['trip_distance']})\n",
    "        trips_array.append({'pickup_latitude': trip['pickup_latitude'], 'pickup_longitude': trip['pickup_longitude'],'trip_distance': trip['trip_distance']})\n",
    "    return trips_array"
   ]
  },
  {
   "cell_type": "code",
   "execution_count": 8,
   "metadata": {},
   "outputs": [
    {
     "data": {
      "text/plain": [
       "{'pickup_latitude', 'pickup_longitude', 'trip_distance'}"
      ]
     },
     "execution_count": 8,
     "metadata": {},
     "output_type": "execute_result"
    }
   ],
   "source": [
    "parsed_trips = parse_trips(trips)\n",
    "parsed_trips[0]\n",
    "    # {'pickup_latitude': 40.64499,\n",
    "    #  'pickup_longitude': -73.78115,\n",
    "    #  'trip_distance': 18.38}\n",
    "\n",
    "len(parsed_trips)\n",
    "    # 1000\n",
    "\n",
    "\n",
    "set([key for trip in parsed_trips for key in list(trip.keys())])\n",
    "    # {'pickup_latitude', 'pickup_longitude', 'trip_distance'}"
   ]
  },
  {
   "cell_type": "markdown",
   "metadata": {},
   "source": [
    "### Exploring the Data"
   ]
  },
  {
   "cell_type": "markdown",
   "metadata": {},
   "source": [
    "Now that we have paired down our data, let's answer some initial questions.  Here is where our data will go. "
   ]
  },
  {
   "cell_type": "code",
   "execution_count": 9,
   "metadata": {},
   "outputs": [],
   "source": [
    "\n",
    "import gmplot\n",
    "gmap = gmplot.GoogleMapPlotter(40.758896, -73.985130, 12)\n",
    "gmap.draw(\"mymap.html\")"
   ]
  },
  {
   "cell_type": "markdown",
   "metadata": {},
   "source": [
    "![](./Manhattan.png)"
   ]
  },
  {
   "cell_type": "markdown",
   "metadata": {},
   "source": [
    "Now, plotting the data feeds into the following function.\n",
    "```python\n",
    "gmap.plot(latitudes, longitudes, 'cornflowerblue', edge_width=10)\n",
    "```\n",
    "So we'll need an array of latitudes, each element representing the latitude of a trip, and an array of longitudes, each representing the longitudes associated with a trip.  Write a function called `trip_latitudes` that given a list of trips returns a list of latitudes, and `trip_longitudes` that given a list of trips, returns a list of `longitudes` accordingly.  Run the file `nearest-neighbor-lab-tests.py` to get feedback.  "
   ]
  },
  {
   "cell_type": "code",
   "execution_count": 10,
   "metadata": {},
   "outputs": [],
   "source": [
    "def trip_latitudes(trips):\n",
    "    arr = []\n",
    "    for item in trips:\n",
    "        arr.append(item['pickup_longitude'])\n",
    "    return arr"
   ]
  },
  {
   "cell_type": "code",
   "execution_count": 11,
   "metadata": {},
   "outputs": [],
   "source": [
    "def trip_longitudes(trips):\n",
    "    arr = []\n",
    "    for item in trips:\n",
    "        arr.append(item['pickup_latitude'])\n",
    "    return arr"
   ]
  },
  {
   "cell_type": "code",
   "execution_count": 22,
   "metadata": {},
   "outputs": [],
   "source": [
    "latitudes = trip_latitudes(parsed_trips)\n",
    "longitudes = trip_longitudes(parsed_trips)\n"
   ]
  },
  {
   "cell_type": "code",
   "execution_count": 23,
   "metadata": {},
   "outputs": [
    {
     "data": {
      "text/plain": [
       "1000"
      ]
     },
     "execution_count": 23,
     "metadata": {},
     "output_type": "execute_result"
    }
   ],
   "source": [
    "len(latitudes) \n",
    "# 1000"
   ]
  },
  {
   "cell_type": "code",
   "execution_count": 24,
   "metadata": {},
   "outputs": [],
   "source": [
    "gmap.plot(latitudes or [], longitudes or [], 'cornflowerblue', edge_width=10)\n",
    "gmap.draw(\"myplot.html\")"
   ]
  },
  {
   "cell_type": "markdown",
   "metadata": {},
   "source": [
    "Plotting the trips give you the following."
   ]
  },
  {
   "cell_type": "markdown",
   "metadata": {
    "collapsed": true
   },
   "source": [
    "![](./map-plotting.png)"
   ]
  },
  {
   "cell_type": "markdown",
   "metadata": {},
   "source": [
    "### Using Nearest Neighbors"
   ]
  },
  {
   "cell_type": "markdown",
   "metadata": {},
   "source": [
    "Ok, let's write a function that given a latitude and longitude will predict the fare distance for us.  We'll do this by first finding the nearest trips given a latitude and longitude. "
   ]
  },
  {
   "cell_type": "markdown",
   "metadata": {},
   "source": [
    " First write a method `distance_location` that calculates the distance between two individuals."
   ]
  },
  {
   "cell_type": "code",
   "execution_count": 25,
   "metadata": {},
   "outputs": [],
   "source": [
    "import math\n",
    "\n",
    "def distance_location(selected_individual, neighbor):\n",
    "    distance_squared = (selected_individual['pickup_latitude'] - neighbor['pickup_latitude'])**2 + (selected_individual['pickup_longitude'] - neighbor['pickup_longitude'])**2\n",
    "    return math.sqrt(distance_squared)\n",
    "#     pass"
   ]
  },
  {
   "cell_type": "code",
   "execution_count": 27,
   "metadata": {},
   "outputs": [
    {
     "data": {
      "text/plain": [
       "{'pickup_latitude': 40.64499,\n",
       " 'pickup_longitude': -73.78115,\n",
       " 'trip_distance': 18.38}"
      ]
     },
     "execution_count": 27,
     "metadata": {},
     "output_type": "execute_result"
    }
   ],
   "source": [
    "first_trip = parsed_trips[0]\n",
    "second_trip = parsed_trips[1]\n",
    "first_trip\n",
    "\n",
    "# distance_location(first_trip, second_trip) \n",
    "    # 0.23505256047318146"
   ]
  },
  {
   "cell_type": "markdown",
   "metadata": {},
   "source": [
    "Write the nearest neighbors formula.  If no number is provided, it should return the top 3 neighbors."
   ]
  },
  {
   "cell_type": "code",
   "execution_count": 32,
   "metadata": {},
   "outputs": [],
   "source": [
    "def nearest_neighbors(selected_individual, neighbors, number = 3):\n",
    "    number = number\n",
    "    neighbors_list = []\n",
    "#     remaining_neighbors = filter(lambda neighbor: neighbor != selected_individual, neighbors)\n",
    "    for item in parsed_trips:\n",
    "        distance = distance_location(selected_individual, item)\n",
    "        new_item = item['distance'] = distance\n",
    "        \n",
    "        neighbors_list.append(new_item)\n",
    "    \n",
    "    return neighbors_list.sorted\n",
    "#     pass"
   ]
  },
  {
   "cell_type": "code",
   "execution_count": 33,
   "metadata": {},
   "outputs": [
    {
     "data": {
      "text/plain": [
       "[0.0,\n",
       " 0.23505256047318146,\n",
       " 0.2162779533470808,\n",
       " 0.24242215976473674,\n",
       " 0.22076481039332593,\n",
       " 0.22738831254047148,\n",
       " 0.2429929981398639,\n",
       " 0.0042359798158141185,\n",
       " 0.21646564692347695,\n",
       " 0.24081901347692852,\n",
       " 0.2213034450635568,\n",
       " 0.09963928314676157,\n",
       " 0.23721661975503053,\n",
       " 0.21847920584119773,\n",
       " 0.2236387910560279,\n",
       " 0.24223070036021363,\n",
       " 0.21604141184736217,\n",
       " 0.2404449185842875,\n",
       " 0.15932251381710127,\n",
       " 0.23305312520753735,\n",
       " 0.22668665863918644,\n",
       " 0.22555015838168296,\n",
       " 0.21857296133099804,\n",
       " 0.22024778163242495,\n",
       " 0.22157421406157182,\n",
       " 0.23269502210403928,\n",
       " 0.21957140197439562,\n",
       " 0.22691966814051334,\n",
       " 0.21674167219065868,\n",
       " 0.2396341172391779,\n",
       " 0.22656775818505578,\n",
       " 0.24262328688318888,\n",
       " 0.23092203453547114,\n",
       " 0.0011292165425673159,\n",
       " 0.2460236334765476,\n",
       " 0.15708580608699615,\n",
       " 0.21906413978787692,\n",
       " 0.21874887253194822,\n",
       " 0.22661230123937096,\n",
       " 0.21796077882958448,\n",
       " 0.21141167339814346,\n",
       " 0.22834032926533512,\n",
       " 0.17361501752153158,\n",
       " 0.24262747014302266,\n",
       " 0.14850336267236677,\n",
       " 0.2407216518263404,\n",
       " 0.23154940920676315,\n",
       " 0.22421402039346996,\n",
       " 0.22655136853482336,\n",
       " 0.24385373829818963,\n",
       " 0.23426191502035304,\n",
       " 0.2191253792147375,\n",
       " 0.23898338955040813,\n",
       " 0.22190896923063805,\n",
       " 0.2287664787507171,\n",
       " 0.1858972900125233,\n",
       " 0.2236368967970206,\n",
       " 0.2176366054343872,\n",
       " 0.21371943664533735,\n",
       " 0.21921606758858478,\n",
       " 0.24428089088792698,\n",
       " 0.2152853456090395,\n",
       " 0.24219123459159708,\n",
       " 0.2379947632470118,\n",
       " 0.23937344426231005,\n",
       " 0.22789386387746413,\n",
       " 84.23581962219279,\n",
       " 0.2285769883715342,\n",
       " 0.24076559879891543,\n",
       " 0.23151768578879758,\n",
       " 0.2212110286604215,\n",
       " 0.24546143817919336,\n",
       " 0.23507100016803525,\n",
       " 0.22225849348225643,\n",
       " 0.2150800363422906,\n",
       " 0.15011601849569428,\n",
       " 0.23824432996610465,\n",
       " 0.23431368365719166,\n",
       " 0.006149132052581531,\n",
       " 0.22447806685732974,\n",
       " 0.23659568476623366,\n",
       " 0.22151781077150584,\n",
       " 0.22545830241754564,\n",
       " 0.22689613501336778,\n",
       " 0.21153841100140727,\n",
       " 0.23059408116646082,\n",
       " 0.2370575441744035,\n",
       " 0.23319462587289244,\n",
       " 0.24236212696087986,\n",
       " 0.23594550991701782,\n",
       " 0.23948336023198694,\n",
       " 0.24411366292979952,\n",
       " 0.23589310562202312,\n",
       " 0.21124661285805324,\n",
       " 0.232623880399237,\n",
       " 0.22617159985285412,\n",
       " 0.15692022039558665,\n",
       " 0.21851141089197632,\n",
       " 0.22174140593267813,\n",
       " 0.21784469317383143,\n",
       " 0.2187142048267509,\n",
       " 0.2086117530845358,\n",
       " 0.2404826499126326,\n",
       " 0.24109308838704416,\n",
       " 0.218772193875273,\n",
       " 0.22867508555372143,\n",
       " 0.23783949682507385,\n",
       " 0.21859624120510202,\n",
       " 0.21485698646542573,\n",
       " 0.23711687221284533,\n",
       " 0.22103082467837062,\n",
       " 0.2434562881052793,\n",
       " 0.22354748502499638,\n",
       " 0.24991737013061496,\n",
       " 0.2439370540385343,\n",
       " 0.24239128831087028,\n",
       " 0.2427974979957655,\n",
       " 0.22755600000440362,\n",
       " 0.23278046823778556,\n",
       " 0.22621252459800165,\n",
       " 0.2208774681944762,\n",
       " 0.22417508638116398,\n",
       " 0.23466542311341715,\n",
       " 0.22567871961928446,\n",
       " 0.23703629249758587,\n",
       " 0.24314764158839683,\n",
       " 0.22218662167196992,\n",
       " 0.23518654330977373,\n",
       " 0.23085121832037664,\n",
       " 0.2214315044635729,\n",
       " 84.23581962219279,\n",
       " 0.22709135874797393,\n",
       " 0.22940196182683445,\n",
       " 0.21851700640453697,\n",
       " 0.24257052855819514,\n",
       " 0.21800866016972595,\n",
       " 0.24077590696953086,\n",
       " 0.23619879489319817,\n",
       " 0.2407364390282488,\n",
       " 0.1582547965307915,\n",
       " 0.24259522030329075,\n",
       " 0.21813047926412987,\n",
       " 0.15729624443705073,\n",
       " 0.24163579522289472,\n",
       " 0.2234215524899089,\n",
       " 0.23252079380778312,\n",
       " 0.22135481946413899,\n",
       " 0.24419204061762775,\n",
       " 0.24425390681420603,\n",
       " 0.23444131710303018,\n",
       " 0.22100328051863977,\n",
       " 0.2185952770304038,\n",
       " 0.2302059568842635,\n",
       " 0.2371003701578693,\n",
       " 0.22932946842698315,\n",
       " 0.22205608358701326,\n",
       " 0.23798976143523426,\n",
       " 0.22802320581247626,\n",
       " 0.14805549928659145,\n",
       " 0.21712882809061018,\n",
       " 0.2296212296827195,\n",
       " 0.23572818479978463,\n",
       " 0.24421858610679106,\n",
       " 0.22443665096859935,\n",
       " 0.22263245020661804,\n",
       " 0.23181135698882502,\n",
       " 0.21875425190153755,\n",
       " 0.22350842154157013,\n",
       " 0.23096235296905676,\n",
       " 0.21398564177065785,\n",
       " 0.21613017973897172,\n",
       " 0.008583382200508133,\n",
       " 0.22875968268906452,\n",
       " 0.23182604786348632,\n",
       " 0.21683597340847544,\n",
       " 0.21840270886827864,\n",
       " 0.15940373278251582,\n",
       " 0.24090302250075454,\n",
       " 0.22257287202397538,\n",
       " 0.005151419707228516,\n",
       " 0.23652115202239146,\n",
       " 0.18893994081189622,\n",
       " 0.22822043100696238,\n",
       " 0.23818564902193773,\n",
       " 0.23434185511342837,\n",
       " 0.24254292857141938,\n",
       " 0.2407685982515212,\n",
       " 0.22010389853204207,\n",
       " 0.22043033136344833,\n",
       " 0.23767693431420658,\n",
       " 0.23302404634072219,\n",
       " 0.2487644735668702,\n",
       " 0.22259062978481606,\n",
       " 0.2423762933003203,\n",
       " 0.2102479143416244,\n",
       " 0.23575955137597557,\n",
       " 0.2170779358502405,\n",
       " 0.22181668288251138,\n",
       " 0.22978530927803237,\n",
       " 0.2212209343303668,\n",
       " 0.21416981582379774,\n",
       " 0.22988424685915512,\n",
       " 0.23265355838241908,\n",
       " 0.22879251178305815,\n",
       " 0.22171741958178065,\n",
       " 0.23348815641912168,\n",
       " 0.23491624313572484,\n",
       " 0.22378818612697893,\n",
       " 0.24308085048601005,\n",
       " 0.23942148039389072,\n",
       " 0.2251636199855571,\n",
       " 0.23475797627556513,\n",
       " 0.22792879890219692,\n",
       " 0.22451576541748605,\n",
       " 0.21920145139346892,\n",
       " 0.23143992578637632,\n",
       " 0.2311719878294091,\n",
       " 0.23513123981725467,\n",
       " 0.2253938984489153,\n",
       " 0.24140240680035258,\n",
       " 0.23158807500603873,\n",
       " 0.23700606385702783,\n",
       " 0.21212229444591232,\n",
       " 0.2126022166958785,\n",
       " 0.22283466163279245,\n",
       " 0.19236883967265345,\n",
       " 0.24216659181645936,\n",
       " 0.23031031457579013,\n",
       " 0.23656891681706674,\n",
       " 0.22133706710354584,\n",
       " 0.21770951211649775,\n",
       " 0.22089391930291544,\n",
       " 0.2387918300528717,\n",
       " 0.23206005075410846,\n",
       " 0.22220909983617257,\n",
       " 0.22038567127651687,\n",
       " 0.19303566222333352,\n",
       " 0.21636186999562454,\n",
       " 0.23105844525790475,\n",
       " 0.17281410605039918,\n",
       " 0.24241110096075175,\n",
       " 0.23231119115962312,\n",
       " 0.1576860281350266,\n",
       " 0.23121747320002015,\n",
       " 0.2396409071527723,\n",
       " 0.213984902233785,\n",
       " 0.23756693812481705,\n",
       " 0.23037599599134284,\n",
       " 0.22021296782887773,\n",
       " 0.1639583785263808,\n",
       " 0.21816911252742086,\n",
       " 0.2425419445312495,\n",
       " 0.21851237928548395,\n",
       " 0.24388360598449446,\n",
       " 0.24233208537253836,\n",
       " 0.22588844386998502,\n",
       " 0.1712549043794084,\n",
       " 0.23721422331091302,\n",
       " 0.22354107494821449,\n",
       " 0.2216255371409248,\n",
       " 0.22381510816967357,\n",
       " 0.2437104170280806,\n",
       " 0.24046472392017015,\n",
       " 0.004445020697364217,\n",
       " 0.2260673438447106,\n",
       " 84.23581962219279,\n",
       " 0.2306061538836338,\n",
       " 0.2394822921491325,\n",
       " 0.2180218155712895,\n",
       " 0.2330162841519909,\n",
       " 0.2424862176042192,\n",
       " 84.23581962219279,\n",
       " 0.24434470763248356,\n",
       " 0.24268643091033923,\n",
       " 0.0045102359140052955,\n",
       " 0.24532028448132598,\n",
       " 0.23569863693496754,\n",
       " 0.1894948668486909,\n",
       " 0.2412405795425051,\n",
       " 0.22300753871787246,\n",
       " 0.22622299679078062,\n",
       " 0.22119546152667885,\n",
       " 0.23096765791340332,\n",
       " 0.22285737462332592,\n",
       " 0.1868444431311863,\n",
       " 0.23774924458345234,\n",
       " 0.22117825774700892,\n",
       " 0.22021182444410883,\n",
       " 0.2422247231415476,\n",
       " 84.23581962219279,\n",
       " 84.23581962219279,\n",
       " 0.2850134654643588,\n",
       " 0.2340394356791176,\n",
       " 0.21960077124865343,\n",
       " 0.23371774209289212,\n",
       " 0.23795507724778872,\n",
       " 0.22817539010376145,\n",
       " 0.24236179643045888,\n",
       " 0.23716039056511815,\n",
       " 0.22743401660262397,\n",
       " 0.23199057265328515,\n",
       " 0.22363233877505345,\n",
       " 0.22661701107595703,\n",
       " 0.24410134322040225,\n",
       " 0.2292932882249274,\n",
       " 0.2227587566584124,\n",
       " 0.2256580072809271,\n",
       " 0.21338289554929088,\n",
       " 0.2227140028736495,\n",
       " 0.21745652566432705,\n",
       " 0.23777885284019848,\n",
       " 0.15779613057360375,\n",
       " 0.23039946050284227,\n",
       " 0.008091869314319596,\n",
       " 0.21265358999555892,\n",
       " 0.23628747780617598,\n",
       " 0.23292592058635747,\n",
       " 0.220212990484216,\n",
       " 0.23593322598778418,\n",
       " 0.22049899461222697,\n",
       " 0.2206600386884788,\n",
       " 0.22709384585232498,\n",
       " 0.2189411635143142,\n",
       " 0.21626491749241572,\n",
       " 0.23743946860200418,\n",
       " 0.004354220940644754,\n",
       " 0.23395034039941068,\n",
       " 0.22672503225052992,\n",
       " 0.15194650906816182,\n",
       " 0.21892149431703573,\n",
       " 0.23589638254962528,\n",
       " 0.2342458946150462,\n",
       " 0.24718439363762768,\n",
       " 0.22789314826910134,\n",
       " 0.23685924507394812,\n",
       " 0.1430639714568314,\n",
       " 0.2360526366808938,\n",
       " 0.23053480650435332,\n",
       " 0.2165823064633871,\n",
       " 0.1899865424839425,\n",
       " 0.23736924859173417,\n",
       " 0.23870848012167187,\n",
       " 0.23456104427846333,\n",
       " 0.22236841009685618,\n",
       " 0.21916822104037126,\n",
       " 0.2262101389261784,\n",
       " 0.24687264879690274,\n",
       " 0.2398770223447902,\n",
       " 0.23788867284719445,\n",
       " 0.2177848343112984,\n",
       " 0.22897761921200885,\n",
       " 0.2305149162418817,\n",
       " 0.17758673135682382,\n",
       " 84.23581962219279,\n",
       " 0.24350955543469066,\n",
       " 0.23126128372254923,\n",
       " 0.21602550038826185,\n",
       " 0.15854385389538378,\n",
       " 0.22029272012711476,\n",
       " 0.2435527351211643,\n",
       " 0.22413698483740388,\n",
       " 0.22401955814839253,\n",
       " 0.2169469992624979,\n",
       " 0.21324744401281587,\n",
       " 0.23266104268656138,\n",
       " 0.22943713371858793,\n",
       " 0.22212968969501573,\n",
       " 0.2245469719234703,\n",
       " 0.23688320813853486,\n",
       " 0.23244519969447128,\n",
       " 0.21590691644549576,\n",
       " 0.20993647942414254,\n",
       " 0.22951891914176117,\n",
       " 0.008060432556630562,\n",
       " 0.2239485495309162,\n",
       " 0.23600947720165927,\n",
       " 0.23563658655863404,\n",
       " 0.21629954247062572,\n",
       " 0.23201915983383464,\n",
       " 0.23313707785978505,\n",
       " 0.2272769390369412,\n",
       " 0.21228221556457327,\n",
       " 0.23799844201591858,\n",
       " 0.23590518146917058,\n",
       " 0.23437094790950883,\n",
       " 0.222116897484193,\n",
       " 0.22590442967990415,\n",
       " 0.22252941288737466,\n",
       " 0.24420209809500365,\n",
       " 0.2349253325654739,\n",
       " 0.21370354075214082,\n",
       " 0.004483681523031949,\n",
       " 0.2425233694389066,\n",
       " 0.22278044353354515,\n",
       " 0.22887843950010367,\n",
       " 0.22463758031326772,\n",
       " 0.22501434483383473,\n",
       " 0.24230390952893105,\n",
       " 0.22643215595404956,\n",
       " 84.23581962219279,\n",
       " 0.22736571791939938,\n",
       " 0.22696119912443208,\n",
       " 0.21446238837847956,\n",
       " 0.23796385682283422,\n",
       " 0.2325344073852288,\n",
       " 0.22190259914882268,\n",
       " 0.22023198775155928,\n",
       " 0.21868443962248707,\n",
       " 0.23197442896362944,\n",
       " 0.23535528398572084,\n",
       " 0.21915951337782158,\n",
       " 0.21614761023198809,\n",
       " 0.2161982311306058,\n",
       " 0.241340936421906,\n",
       " 0.24311363813040948,\n",
       " 0.2256579392110982,\n",
       " 0.23349003076149027,\n",
       " 0.22418959330441382,\n",
       " 0.22570352122419293,\n",
       " 0.2227148908582514,\n",
       " 0.23112748223437107,\n",
       " 0.2377167904419049,\n",
       " 0.24211144232769927,\n",
       " 0.24098547777822923,\n",
       " 0.22823139230613987,\n",
       " 0.229592343794388,\n",
       " 0.23034664882520206,\n",
       " 0.23579222211515072,\n",
       " 0.23459364622470225,\n",
       " 0.21661944176134978,\n",
       " 0.235075925453883,\n",
       " 0.16494075784960227,\n",
       " 0.009194046987051402,\n",
       " 0.22095208557966212,\n",
       " 0.24417128346306574,\n",
       " 0.21434084196205505,\n",
       " 0.2219186186150253,\n",
       " 0.24638209023385366,\n",
       " 0.23040949925947807,\n",
       " 0.2238222164531543,\n",
       " 0.22139445113192077,\n",
       " 0.2220079801921552,\n",
       " 0.2406989292414874,\n",
       " 0.23658542968873855,\n",
       " 0.21292741828614004,\n",
       " 0.2415861606839309,\n",
       " 0.21287074137373435,\n",
       " 0.2381453980407736,\n",
       " 0.21886697593059443,\n",
       " 0.21139079479722855,\n",
       " 0.22107305836080737,\n",
       " 0.22386047509107787,\n",
       " 0.2456771977697632,\n",
       " 0.22360984721831978,\n",
       " 84.23581962219279,\n",
       " 0.22210144196965376,\n",
       " 0.22190909616552457,\n",
       " 0.2116073372759111,\n",
       " 0.21394780137454292,\n",
       " 0.2228349565575401,\n",
       " 0.24563319862958757,\n",
       " 0.23053933470885743,\n",
       " 0.23651118162573032,\n",
       " 0.16501403128825104,\n",
       " 0.24253917033130812,\n",
       " 0.2236175458098045,\n",
       " 0.24460473679796776,\n",
       " 0.18393737588647427,\n",
       " 0.24507375430673795,\n",
       " 0.24266081991949934,\n",
       " 0.19101554404288879,\n",
       " 0.24634101551508203,\n",
       " 0.2350581491482495,\n",
       " 0.2461673474244785,\n",
       " 0.23820373984050072,\n",
       " 0.2170026346683443,\n",
       " 0.2283928062702484,\n",
       " 0.2192019522039028,\n",
       " 0.22547715810032817,\n",
       " 0.24235060612674034,\n",
       " 0.24252493597360908,\n",
       " 0.22216130664227599,\n",
       " 0.21949736913685725,\n",
       " 0.2106366011618175,\n",
       " 0.22335630380403296,\n",
       " 0.23537003760036926,\n",
       " 0.22812202574938517,\n",
       " 0.23239045275785897,\n",
       " 0.24449660199683906,\n",
       " 0.24678171083976166,\n",
       " 0.25022671336209934,\n",
       " 0.22691340112255237,\n",
       " 0.2397781108212376,\n",
       " 0.19010356068207196,\n",
       " 0.21775589435191045,\n",
       " 0.2316783168533532,\n",
       " 0.2348780757776297,\n",
       " 0.2258924858599801,\n",
       " 0.21947354904179786,\n",
       " 0.23965316059673475,\n",
       " 0.22003452501824441,\n",
       " 0.2177339262356764,\n",
       " 0.21671170403095588,\n",
       " 0.22106673220772377,\n",
       " 0.21527667439367631,\n",
       " 0.21125097937050735,\n",
       " 0.2319426001578915,\n",
       " 0.23723721910568446,\n",
       " 0.23943884798628232,\n",
       " 0.23966301612264432,\n",
       " 0.2339651232064361,\n",
       " 0.2255005592653841,\n",
       " 0.24506033870049038,\n",
       " 0.2217429662672502,\n",
       " 0.0004569288784918792,\n",
       " 0.2419975770477898,\n",
       " 0.22071988131792442,\n",
       " 0.22768463959828078,\n",
       " 0.23761226893618667,\n",
       " 0.23783323121254377,\n",
       " 0.21152122293992134,\n",
       " 0.24347019990955762,\n",
       " 0.22864480160284376,\n",
       " 0.21338994102816197,\n",
       " 0.2410091539112158,\n",
       " 0.22612790785084327,\n",
       " 0.24267575236929245,\n",
       " 0.2423984573053253,\n",
       " 0.2177093957389047,\n",
       " 0.23330100910197513,\n",
       " 0.2379171966231168,\n",
       " 0.2269863791376006,\n",
       " 0.22048611712305838,\n",
       " 0.2379979853402118,\n",
       " 0.01056802242617023,\n",
       " 0.23994564667232207,\n",
       " 0.22564688154061002,\n",
       " 0.23578520063820677,\n",
       " 0.2481796133851418,\n",
       " 0.23816285947645013,\n",
       " 0.22246611765390548,\n",
       " 84.23581962219279,\n",
       " 0.22257483528018301,\n",
       " 0.24398114066459864,\n",
       " 0.004935515069375294,\n",
       " 0.2435562507594482,\n",
       " 0.2288080905497031,\n",
       " 0.22524020948534057,\n",
       " 0.2127744703506549,\n",
       " 0.2418035855089887,\n",
       " 0.2204541477269148,\n",
       " 0.22692021865184175,\n",
       " 0.2293215965058725,\n",
       " 0.2261271232249707,\n",
       " 0.20270869839255298,\n",
       " 0.22672241306055274,\n",
       " 0.22823365291078834,\n",
       " 0.22442667075907236,\n",
       " 0.22378876771188075,\n",
       " 0.23797645604975282,\n",
       " 0.24365110924024033,\n",
       " 0.24995552351768432,\n",
       " 0.24451696166932507,\n",
       " 0.21825270330513658,\n",
       " 0.2162670501694629,\n",
       " 0.24116854831839143,\n",
       " 0.24131999357699624,\n",
       " 0.15143432214989852,\n",
       " 0.23801187160727788,\n",
       " 0.24507483765781238,\n",
       " 0.23812649852547038,\n",
       " 0.22407867262415268,\n",
       " 0.24456944262111263,\n",
       " 0.1731343681912959,\n",
       " 0.22706619570512807,\n",
       " 0.2174253583393698,\n",
       " 0.2314802205373113,\n",
       " 0.2162461905514261,\n",
       " 0.15664909353712037,\n",
       " 0.23640762429540854,\n",
       " 0.21134821193944825,\n",
       " 0.2397520725124235,\n",
       " 0.22030815612001528,\n",
       " 0.2189107966843994,\n",
       " 0.2410228293938227,\n",
       " 0.22415153533491852,\n",
       " 0.2213086071530057,\n",
       " 0.23870589037558926,\n",
       " 0.2243768490375047,\n",
       " 0.2377301410591445,\n",
       " 0.24073590556666782,\n",
       " 0.18576582534201758,\n",
       " 0.23809913925506102,\n",
       " 0.2221837758703457,\n",
       " 0.1775481997233464,\n",
       " 0.23806748021938026,\n",
       " 0.23381089484025946,\n",
       " 0.2383156414673683,\n",
       " 0.24604091208171963,\n",
       " 0.23212597602164264,\n",
       " 0.2458434016299874,\n",
       " 0.240353734202328,\n",
       " 0.22097566297898258,\n",
       " 0.2466481263054706,\n",
       " 0.23931770321896928,\n",
       " 0.22541129642057559,\n",
       " 0.2293113061953155,\n",
       " 0.23509577255450856,\n",
       " 0.23271444927206225,\n",
       " 0.2222295342410674,\n",
       " 0.2379926902007767,\n",
       " 0.22377955359907095,\n",
       " 0.22097163376551077,\n",
       " 0.2251313353311876,\n",
       " 0.23539423687508298,\n",
       " 0.21910294133123806,\n",
       " 0.23597629044037277,\n",
       " 0.2376210228494079,\n",
       " 0.23896090446974413,\n",
       " 0.2387017018058291,\n",
       " 0.21852587028770906,\n",
       " 84.23581962219279,\n",
       " 0.24232213258387855,\n",
       " 0.15853860854694424,\n",
       " 0.24644070353940967,\n",
       " 0.2443262413822986,\n",
       " 0.24088392059246905,\n",
       " 0.23459358931565355,\n",
       " 0.2171763149563087,\n",
       " 0.23799910925884,\n",
       " 0.2424068508541065,\n",
       " 0.24062694053867553,\n",
       " 0.2407103850127798,\n",
       " 0.22115378468839575,\n",
       " 0.23463263411981658,\n",
       " 0.2267861182369834,\n",
       " 0.2272824108394662,\n",
       " 0.23471352851721275,\n",
       " 0.21996175810354437,\n",
       " 0.21705040495931543,\n",
       " 0.15842707564681147,\n",
       " 0.23786310881891962,\n",
       " 0.2132787422904665,\n",
       " 0.1566834058986488,\n",
       " 0.23811870651631228,\n",
       " 0.22706604875674494,\n",
       " 0.24144954439799454,\n",
       " 0.21516779800890395,\n",
       " 0.24356914416239836,\n",
       " 0.23411744311349797,\n",
       " 0.23553587785516591,\n",
       " 0.1790060587494237,\n",
       " 0.22201466179062065,\n",
       " 0.23577523857479962,\n",
       " 0.23635366832990728,\n",
       " 0.22056881564038017,\n",
       " 0.21909194483823155,\n",
       " 0.2296920983599584,\n",
       " 0.2176833484513679,\n",
       " 0.24512888783658984,\n",
       " 0.23067751364188213,\n",
       " 0.24408717166823812,\n",
       " 0.22386802800311495,\n",
       " 0.2156009192304159,\n",
       " 0.22351862165152567,\n",
       " 0.23543735725878406,\n",
       " 0.21540173893680814,\n",
       " 0.23504731181828484,\n",
       " 0.22578402372400008,\n",
       " 0.23090206542385275,\n",
       " 0.23839678879758167,\n",
       " 0.22617564778286842,\n",
       " 0.2448525950444456,\n",
       " 0.24245917305806294,\n",
       " 0.21795892129710717,\n",
       " 0.21145456743471058,\n",
       " 0.2443658771043993,\n",
       " 0.2278833317379807,\n",
       " 0.2314694440417558,\n",
       " 0.22409692780135063,\n",
       " 0.24299444073065377,\n",
       " 0.23116303426153528,\n",
       " 0.2296168638057785,\n",
       " 0.23029609742243357,\n",
       " 0.22417609807471348,\n",
       " 0.21206290753689475,\n",
       " 0.23785559621123575,\n",
       " 0.22623166866068914,\n",
       " 0.23564847943069953,\n",
       " 0.22254965972565074,\n",
       " 0.16008077343641747,\n",
       " 0.23693579581397237,\n",
       " 0.22266182208004145,\n",
       " 0.22105068823688787,\n",
       " 0.23553992195804918,\n",
       " 0.23054013771575205,\n",
       " 0.21455753922200713,\n",
       " 0.23871384846715674,\n",
       " 0.24193784498502957,\n",
       " 0.21642270606385278,\n",
       " 0.23936140556280905,\n",
       " 0.22106138921123908,\n",
       " 0.23472621423692602,\n",
       " 0.22795536182332835,\n",
       " 0.21944163449309162,\n",
       " 0.23519277189999221,\n",
       " 0.21957749579135735,\n",
       " 0.2446813387265179,\n",
       " 0.22342096619835095,\n",
       " 0.22014842667618897,\n",
       " 0.24347132156581028,\n",
       " 0.24493646275923053,\n",
       " 0.24093957795265694,\n",
       " 0.23729874344379429,\n",
       " 0.2350942876805027,\n",
       " 0.21610058817134337,\n",
       " 0.21627981794425657,\n",
       " 0.21451363753617353,\n",
       " 0.23425850870352452,\n",
       " 0.22001507252458508,\n",
       " 0.2234765832072845,\n",
       " 0.2239490458564144,\n",
       " 0.2219439460629657,\n",
       " 0.2351627691493724,\n",
       " 0.2443238834518657,\n",
       " 0.22879298298898798,\n",
       " 0.23741461896859262,\n",
       " 0.21505460662120826,\n",
       " 0.2294521640538603,\n",
       " 84.23581962219279,\n",
       " 0.223707099936501,\n",
       " 0.22340743525004078,\n",
       " 0.24090769704805953,\n",
       " 0.2413797098018045,\n",
       " 0.224866862051748,\n",
       " 0.24362830187398085,\n",
       " 0.21632478036508532,\n",
       " 0.22138368899492883,\n",
       " 0.22214278158202766,\n",
       " 0.23678227541140343,\n",
       " 0.22498063340875044,\n",
       " 0.16513203798173234,\n",
       " 0.22390720231827774,\n",
       " 0.2429515648601633,\n",
       " 0.22409657215808015,\n",
       " 0.2238504870421382,\n",
       " 0.22872316693331385,\n",
       " 0.23109504858391317,\n",
       " 0.24865824650913695,\n",
       " 0.21875196782886916,\n",
       " 0.22058673153207117,\n",
       " 0.3991082709403558,\n",
       " 0.23825472023445582,\n",
       " 0.23863695958924663,\n",
       " 0.15932197660398323,\n",
       " 0.2264125319941521,\n",
       " 0.23828649120963988,\n",
       " 0.223262219159453,\n",
       " 0.2337659979124471,\n",
       " 0.23539247774302455,\n",
       " 0.22142000925391195,\n",
       " 0.21147424464695924,\n",
       " 0.2468161719276124,\n",
       " 0.23846324380080702,\n",
       " 0.21134681920720627,\n",
       " 0.19325253838953863,\n",
       " 0.22442763731100973,\n",
       " 0.21612479636543552,\n",
       " 0.2260868479544993,\n",
       " 0.2383861095030476,\n",
       " 0.23913580169645177,\n",
       " 0.2412466417258471,\n",
       " 0.2393570728535067,\n",
       " 0.22599675069566394,\n",
       " 0.22567951886247814,\n",
       " 0.22278995960321732,\n",
       " 0.2102847878568507,\n",
       " 0.22998129425890385,\n",
       " 0.24348858783113372,\n",
       " 0.22336163504281709,\n",
       " 0.2212655139736006,\n",
       " 0.22114889701963478,\n",
       " 0.24497155489770886,\n",
       " 0.21222762151049948,\n",
       " 0.22841830268172691,\n",
       " 0.2259660605046757,\n",
       " 0.21667995913098015,\n",
       " 0.23070860806003798,\n",
       " 0.23020866983239133,\n",
       " 0.22554953078426324,\n",
       " 0.23835954544343976,\n",
       " 0.24022946114080257,\n",
       " 0.24024866997551436,\n",
       " 0.23045727455214682,\n",
       " 0.2298031032079509,\n",
       " 0.2248177200333659,\n",
       " 0.22982282054879455,\n",
       " 0.22308817560104638,\n",
       " 0.23515356216736633,\n",
       " 0.23485958271486596,\n",
       " 0.15700760687941853,\n",
       " 0.23308781216099644,\n",
       " 0.2420987381730802,\n",
       " 0.17093527057924798,\n",
       " 0.23468391633003047,\n",
       " 0.22062077620433504,\n",
       " 0.2187821133753907,\n",
       " 0.23265831829960854,\n",
       " 0.22023883461597915,\n",
       " 0.22599550358580345,\n",
       " 0.2328501631049529,\n",
       " 0.21398900103743487,\n",
       " 0.22346791212163625,\n",
       " 0.22859029353190666,\n",
       " 0.23821823214229976,\n",
       " 0.16465445754063396,\n",
       " 0.21865608225704605,\n",
       " 0.21934572234944982,\n",
       " 0.2203709941167375,\n",
       " 0.23049645617232742,\n",
       " 0.23614446016792956,\n",
       " 0.22143912976933525,\n",
       " 0.24143973027031101,\n",
       " 0.2168360246545818,\n",
       " 0.22449178891220553,\n",
       " 0.2289538785388929,\n",
       " 0.22228010930805858,\n",
       " 0.22455924969816315,\n",
       " 0.22337780015928152,\n",
       " 0.23756869304056577,\n",
       " 0.22029776832278974,\n",
       " 0.22888324578264835,\n",
       " 0.24542875753464571,\n",
       " 0.23535725146679165,\n",
       " 0.22391532752583596,\n",
       " 0.2165304369574892,\n",
       " 0.21894806347625048,\n",
       " 0.25669347441842233,\n",
       " 0.22806051378746475,\n",
       " 0.22390545931933217,\n",
       " 0.22967351677545103,\n",
       " 0.24103402332450644,\n",
       " 0.21654415363385135,\n",
       " 0.2240500230662835,\n",
       " 0.23621588729169196,\n",
       " 0.24064277072873494,\n",
       " 0.22014066067858049,\n",
       " 0.21375154939555957,\n",
       " 0.21941723226083054,\n",
       " 0.24593950810921045,\n",
       " 0.22080651414304417,\n",
       " 0.22357199737221606,\n",
       " 0.21154735852759446,\n",
       " 0.24623692410766426,\n",
       " 0.21602982373737395,\n",
       " 0.21518718726959685,\n",
       " 0.20803208694814002,\n",
       " 0.23827625018033147,\n",
       " 0.22957521783503515,\n",
       " 0.21917120108490643,\n",
       " 0.21961088900371506,\n",
       " 0.22671790426431263,\n",
       " 0.22185150313892307,\n",
       " 0.23789753681995895,\n",
       " 0.2350330030017066,\n",
       " 0.23927469770538487,\n",
       " 0.23275476344427545,\n",
       " 0.23808461301185282,\n",
       " 0.23683392419583818,\n",
       " 0.21636160214788724,\n",
       " 0.2370485764563851,\n",
       " 0.23064818234706222,\n",
       " 0.23137483900589362,\n",
       " 0.222340875335604,\n",
       " 0.204924270463505,\n",
       " 0.23454637489631006,\n",
       " 0.22413062881498022,\n",
       " 0.22181657204321825,\n",
       " 0.22136816193843123,\n",
       " 0.23596232460712607,\n",
       " 0.2144234770471797,\n",
       " 0.24208689108045692,\n",
       " 0.2330158956466297,\n",
       " 0.2318842011737834,\n",
       " 0.22835355438443086,\n",
       " 0.24045214256895173,\n",
       " 0.23814475010799352,\n",
       " 0.2217010019824005,\n",
       " 0.22522475675867176,\n",
       " 0.15731021794213085,\n",
       " 0.23717805150140536,\n",
       " 0.23300066892822238,\n",
       " 0.229084588228896,\n",
       " 0.2235604743106504,\n",
       " 0.22713784304691137,\n",
       " 0.2241466871002154,\n",
       " 84.23581962219279,\n",
       " 0.23768537541043935,\n",
       " 0.2350713422112602,\n",
       " 0.2220462891583601,\n",
       " 0.24523219581654615,\n",
       " 0.2332435161906978,\n",
       " 0.22489496688899274,\n",
       " 0.2348586437923928,\n",
       " 0.23570521955399765,\n",
       " 0.19317730693330024,\n",
       " 0.1937434442581256,\n",
       " 0.2361809887861475,\n",
       " 0.2360188236772644,\n",
       " 0.24794832377937964,\n",
       " 0.23775876296995077,\n",
       " 0.14985716032275284,\n",
       " 0.23726850579038294,\n",
       " 0.2379110694019939,\n",
       " 0.24003258765842772,\n",
       " 0.22404543825974874,\n",
       " 0.2277662682532252,\n",
       " 0.23456653573772876,\n",
       " 0.2403611122706826,\n",
       " 0.2400097375774622,\n",
       " 84.23581962219279,\n",
       " 0.2434941039388868,\n",
       " 0.23089645579783993,\n",
       " 0.2331938596275718,\n",
       " 0.23768171706927788,\n",
       " 0.23840651666009133,\n",
       " 0.22542564440187363,\n",
       " 0.23421332974021733,\n",
       " 0.23684969104687797,\n",
       " 0.20656597540011276,\n",
       " 0.2411296007731161,\n",
       " 0.2244841239687116,\n",
       " 0.21880740377327,\n",
       " 0.22478939256335487,\n",
       " 0.2236137755193156,\n",
       " 0.24692002238174326,\n",
       " 0.23841943345709007,\n",
       " 0.24368225099297514,\n",
       " 0.2378322461168808,\n",
       " 0.23866142523038816,\n",
       " 0.24002000738272136,\n",
       " 0.23055234564844365,\n",
       " 0.2207195307828495,\n",
       " 0.02384164627285503,\n",
       " 0.21887934828348357,\n",
       " 0.2297236450107013,\n",
       " 0.22689724488851712,\n",
       " 0.23681336013409593,\n",
       " 0.23775986371547217,\n",
       " 0.22384480043548957,\n",
       " 0.2193569713913848,\n",
       " 0.2123847874330917,\n",
       " 0.24470550797643137,\n",
       " 0.15198122339289416,\n",
       " 0.23595292168142074,\n",
       " 0.23875883400619918,\n",
       " 0.22524144984660543,\n",
       " 84.23581962219279,\n",
       " 0.22700415524831416,\n",
       " 0.21815419283158352,\n",
       " 0.2392704708588214,\n",
       " 0.24317605957207233,\n",
       " 0.22154733041272012,\n",
       " 0.21657536519420512,\n",
       " 0.23127923362897151,\n",
       " 0.2201204422787649,\n",
       " 0.21158100200396132,\n",
       " 0.24563587787617974,\n",
       " 0.2238957298230586,\n",
       " 0.2293664761577007,\n",
       " 0.23854034722034909,\n",
       " 0.23710075223204763,\n",
       " 0.21740317791606237,\n",
       " 0.22584516724960493,\n",
       " 0.242694577726818,\n",
       " 0.22956265206039758,\n",
       " 0.22173321523398956,\n",
       " 0.22540479419923667,\n",
       " 0.24204501062406236,\n",
       " 0.22625644963183772,\n",
       " 0.24471900810929964,\n",
       " 0.23331216379778297,\n",
       " 0.2398634145362772,\n",
       " 0.2329689190814931,\n",
       " 0.22280774559471406,\n",
       " 0.227548074254659,\n",
       " 0.2426976363997004,\n",
       " 0.22032276872352616,\n",
       " 0.21360973274642817,\n",
       " 0.2393278945902501,\n",
       " 0.14832319519886364,\n",
       " 0.21359264218132767,\n",
       " 0.2198032773390841,\n",
       " 0.23708673097413882,\n",
       " 0.22697016960384928,\n",
       " 0.23305172433603788,\n",
       " 0.1593657515685297,\n",
       " 0.2423895340253037,\n",
       " 0.23653305762197543,\n",
       " 0.2425285787778478]"
      ]
     },
     "execution_count": 33,
     "metadata": {},
     "output_type": "execute_result"
    }
   ],
   "source": [
    "selected_trip = {'pickup_latitude': 40.64499,\n",
    "'pickup_longitude': -73.78115,\n",
    "'trip_distance': 18.38}\n",
    "\n",
    "\n",
    "nearest_neighbors(selected_trip, parsed_trips or [], number = 3)\n",
    "\n",
    "# [{'distance': 0.0004569288784918792,\n",
    "#   'pickup_latitude': 40.64483,\n",
    "#   'pickup_longitude': -73.781578,\n",
    "#   'trip_distance': 7.78},\n",
    "#  {'distance': 0.0011292165425673159,\n",
    "#   'pickup_latitude': 40.644657,\n",
    "#   'pickup_longitude': -73.782229,\n",
    "#   'trip_distance': 12.7},\n",
    "#  {'distance': 0.0042359798158141185,\n",
    "#   'pickup_latitude': 40.648509,\n",
    "#   'pickup_longitude': -73.783508,\n",
    "#   'trip_distance': 17.3}]"
   ]
  },
  {
   "cell_type": "markdown",
   "metadata": {},
   "source": [
    "### Choosing the correct number of neighbors"
   ]
  },
  {
   "cell_type": "markdown",
   "metadata": {},
   "source": [
    "Now in working with a nearest neighbors formula, one tricky question is how many neighbors we should use.  Remember that our guess is that trips that have similar pickup locations will have similar lengths of trips.  Then we will just take the median of the trip lengths of this group together to make a prediction.  \n",
    "\n",
    "If we choose too many neighbors, then we'll be averaging together distances from all over town, and we won't really be differentiating between locations.  But if we  look at the trip distances of the three neighbors above, this may be small.  Take a look at the `trip_distances` of the 3 neighbors above.  It's hard to tell if the trip distance of 7 is more typical than the distance of 17.  In other words, our sample size is small.\n",
    "\n",
    "The choice of the correct number of neighbors is called choosing the correct $k$, as that the variable often assigned to the number of neighbors.  We'll experiment with the our $k$ size throughout the rest of this lab."
   ]
  },
  {
   "cell_type": "markdown",
   "metadata": {},
   "source": [
    "Let's increase the number of our neighbors to see what happens. "
   ]
  },
  {
   "cell_type": "code",
   "execution_count": 128,
   "metadata": {
    "collapsed": true
   },
   "outputs": [],
   "source": [
    "seven_closest = nearest_neighbors(selected_trip, parsed_trips or [], number = 7)\n",
    "seven_closest"
   ]
  },
  {
   "cell_type": "markdown",
   "metadata": {},
   "source": [
    "Notice that most of the data is a distance of .0045 away, so going to the top 7 nearest neighbors didn't seem to give us neighbors too far from each other, which is a good sign.  Still, it's hard to know what distance in latitude and longitude really look like, so let's try mapping the data.  "
   ]
  },
  {
   "cell_type": "code",
   "execution_count": 129,
   "metadata": {
    "collapsed": true
   },
   "outputs": [],
   "source": [
    "# seven_lats = trip_latitudes(seven_closest)\n",
    "# seven_longs = trip_longitudes(seven_closest)"
   ]
  },
  {
   "cell_type": "code",
   "execution_count": 130,
   "metadata": {
    "collapsed": true
   },
   "outputs": [],
   "source": [
    "# gmap = gmplot.GoogleMapPlotter(first_trip['pickup_latitude'], first_trip['pickup_longitude'], 15)\n",
    "# gmap.scatter(seven_lats, seven_longs, 'cornflowerblue', edge_width=10)\n",
    "# gmap.draw(\"nearestneighbors.html\")"
   ]
  },
  {
   "cell_type": "markdown",
   "metadata": {},
   "source": [
    "![](./airportdata.png)"
   ]
  },
  {
   "cell_type": "markdown",
   "metadata": {},
   "source": [
    "Well, it looks like we can't really make an assessment of a good $k$ size with this data.  Our location is the airport, which is probably not a very typical place to see if our $k$ size is good for predicting trip lengths.\n",
    "\n",
    "Let's choose another spot that we expect to be less atypical.  Fifty-first street and 7th Avenue is at $40.761710, -73.982760$.  Now let's again try to see if seven locations is a good spread, but this time starting from midtown."
   ]
  },
  {
   "cell_type": "code",
   "execution_count": 131,
   "metadata": {
    "collapsed": true
   },
   "outputs": [],
   "source": [
    "# midtown_loc = {'pickup_latitude': 40.761710, 'pickup_longitude': -73.982760}\n",
    "# midtown_neighbors = nearest_neighbors(midtown_loc, parsed_trips, number = 7)\n",
    "# list(map(lambda trip: trip['distance'], midtown_neighbors))"
   ]
  },
  {
   "cell_type": "markdown",
   "metadata": {},
   "source": [
    "The distances between neighbors double in size as our $k$ goes from four to five.  How far is this distance really?"
   ]
  },
  {
   "cell_type": "code",
   "execution_count": 132,
   "metadata": {
    "collapsed": true
   },
   "outputs": [],
   "source": [
    "# gmap = gmplot.GoogleMapPlotter(midtown_loc['pickup_latitude'], midtown_loc['pickup_longitude'], 15)\n",
    "# closest_lats = trip_latitudes(midtown_neighbors)\n",
    "# closest_longs = trip_longitudes(midtown_neighbors)\n",
    "\n",
    "# gmap.scatter(closest_lats, closest_longs, 'cornflowerblue', edge_width=10)\n",
    "# gmap.draw(\"nearestmidtown.html\")"
   ]
  },
  {
   "cell_type": "markdown",
   "metadata": {},
   "source": [
    "![](./midtown.png)"
   ]
  },
  {
   "cell_type": "markdown",
   "metadata": {},
   "source": [
    "So essentially this is one or two blocks away from our location of 51st and 7th.  Not too bad.  Looking at the length of the trip for our seven it seems like our neighbor size, $k$, is large enough so we can start to see what would be an expected trip distance."
   ]
  },
  {
   "cell_type": "code",
   "execution_count": 133,
   "metadata": {
    "collapsed": true
   },
   "outputs": [],
   "source": [
    "# midtown_neighbors"
   ]
  },
  {
   "cell_type": "markdown",
   "metadata": {},
   "source": [
    "### Calculating an expected trip distance"
   ]
  },
  {
   "cell_type": "markdown",
   "metadata": {},
   "source": [
    "Another way of thinking about the number of neighbors we should choose, is to think the deviation from the median distance.  We want to make sure our number is not so large so that when we choose a location, it just looks like the expected distance across all taxi trips in Manhattan. \n",
    "\n",
    "Let's write a function called `median_of` that takes a list of trips, and returns the median `trip_distance`."
   ]
  },
  {
   "cell_type": "code",
   "execution_count": 134,
   "metadata": {
    "collapsed": true
   },
   "outputs": [],
   "source": [
    "import statistics\n",
    "def median_of(neighbors):\n",
    "    pass"
   ]
  },
  {
   "cell_type": "code",
   "execution_count": 135,
   "metadata": {
    "collapsed": true
   },
   "outputs": [],
   "source": [
    "median_of(parsed_trips or [])"
   ]
  },
  {
   "cell_type": "markdown",
   "metadata": {},
   "source": [
    "So when we compare this with our `midtown_neighbors`, we can see that the number is different.  So our number of neighbors is not so large so that we look like the median."
   ]
  },
  {
   "cell_type": "code",
   "execution_count": 136,
   "metadata": {
    "collapsed": true
   },
   "outputs": [],
   "source": [
    "# median_of(midtown_neighbors)"
   ]
  },
  {
   "cell_type": "markdown",
   "metadata": {},
   "source": [
    "Still, if we begin to change the number of neighbors from seven to ten, our median really starts to change."
   ]
  },
  {
   "cell_type": "code",
   "execution_count": 137,
   "metadata": {
    "collapsed": true
   },
   "outputs": [],
   "source": [
    "# median_of(nearest_neighbors(midtown_loc, parsed_trips, number = 10))"
   ]
  },
  {
   "cell_type": "markdown",
   "metadata": {},
   "source": [
    "Notice however, that between 15 to 20, to 25, our formula begins to give us a similar result.  "
   ]
  },
  {
   "cell_type": "code",
   "execution_count": 138,
   "metadata": {
    "collapsed": true
   },
   "outputs": [],
   "source": [
    "# median_of(nearest_neighbors(midtown_loc, parsed_trips, number = 25))"
   ]
  },
  {
   "cell_type": "markdown",
   "metadata": {},
   "source": [
    "So it appears that around 20 could be a sweet spot. Let's try another location to see how we do."
   ]
  },
  {
   "cell_type": "code",
   "execution_count": 139,
   "metadata": {
    "collapsed": true
   },
   "outputs": [],
   "source": [
    "# uws_loc = {'pickup_latitude': 40.786430, 'pickup_longitude': -73.975979}"
   ]
  },
  {
   "cell_type": "code",
   "execution_count": 140,
   "metadata": {
    "collapsed": true
   },
   "outputs": [],
   "source": [
    "# median_of(nearest_neighbors(uws_loc, parsed_trips, number = 20))"
   ]
  },
  {
   "cell_type": "code",
   "execution_count": 141,
   "metadata": {
    "collapsed": true
   },
   "outputs": [],
   "source": [
    "# downtown_loc = {'pickup_latitude': 40.713186, 'pickup_longitude': -74.007243}"
   ]
  },
  {
   "cell_type": "code",
   "execution_count": 142,
   "metadata": {
    "collapsed": true
   },
   "outputs": [],
   "source": [
    "# median_of(nearest_neighbors(downtown_loc, parsed_trips, number = 20))"
   ]
  },
  {
   "cell_type": "markdown",
   "metadata": {},
   "source": [
    "### Summary"
   ]
  },
  {
   "cell_type": "markdown",
   "metadata": {},
   "source": [
    "Alright, at this point we should be pretty happy as we can make a recommendation to LiftOff.  We can tell LiftOff the neighborhoods in Manhattan that will have the largest expected distance."
   ]
  }
 ],
 "metadata": {
  "kernelspec": {
   "display_name": "Python 3",
   "language": "python",
   "name": "python3"
  },
  "language_info": {
   "codemirror_mode": {
    "name": "ipython",
    "version": 3
   },
   "file_extension": ".py",
   "mimetype": "text/x-python",
   "name": "python",
   "nbconvert_exporter": "python",
   "pygments_lexer": "ipython3",
   "version": "3.6.4"
  }
 },
 "nbformat": 4,
 "nbformat_minor": 2
}
