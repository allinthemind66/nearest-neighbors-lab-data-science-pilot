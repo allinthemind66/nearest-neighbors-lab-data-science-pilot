{
 "cells": [
  {
   "cell_type": "markdown",
   "metadata": {},
   "source": [
    "# Nearest Neighbors Lab"
   ]
  },
  {
   "cell_type": "markdown",
   "metadata": {},
   "source": [
    "### Introduction\n",
    "\n",
    "In this lab, you apply nearest neighbors technique to help a taxi company predict the length of their rides.  Imagine that we are hired to consult for LiftOff, a limo and taxi service that is just opening up.  It wants to do some initial research on NYC trips.  LiftOff has a theory that the pickup location of a taxi ride can help predict the length of the ride.  So the hypothesis is that trips that have a similar pickup location will have a similar trip length. It wants to target the locations that generally have longer rides, as it makes more money that way.\n",
    "\n",
    "LiftOff asks us to do some analysis. Lucky for us, information about NYC taxi trips is available on [it's website](https://data.cityofnewyork.us/Transportation/2014-Yellow-Taxi-Trip-Data/gn7m-em8n).  "
   ]
  },
  {
   "cell_type": "markdown",
   "metadata": {},
   "source": [
    "### A little different"
   ]
  },
  {
   "cell_type": "markdown",
   "metadata": {},
   "source": [
    "Before we get started, note that our problem here is a little bit different than what we worked with previously.  \n",
    "\n",
    "Before our job would be complete upon finding the closest trips to a given location -- that is, upon finding our nearest neighbors.  Now, we still need to find the closest trips, but then we also need to use this data to predict the length of the trip.  As you'll see, to predict a trip length from a given location, we'll find the trips that occurred nearest to the given location, then take the median of those nearest trips, to make a prediction about trip length.\n",
    "\n",
    "The second new thing that we'll see with our problem is the task of choosing the correct number of neighbors or trips.  Say we choose the 500 closest neighbors to a given point.  Well in a dataset of only 1000 trips, we would be including trips from all over the map, and our nearest neighbors formula wouldn't tell us too much about how a specific point is different.  However, if we only choose one neighbor at a given point and assume that the one neighbor's trip distance predicts the length of our trip, then we run the risk of that trip just being a special case and not the norm for that area.  So how to choose the correct number of neighbors, referred to as $k$, is something that we'll need to explore.   "
   ]
  },
  {
   "cell_type": "markdown",
   "metadata": {},
   "source": [
    "### Exploring and Gathering the Data"
   ]
  },
  {
   "cell_type": "markdown",
   "metadata": {},
   "source": [
    "If you go to [NYC Open Data](https://opendata.cityofnewyork.us/), you can find NYC taxi data after a quick search [it's website](https://data.cityofnewyork.us/Transportation/2014-Yellow-Taxi-Trip-Data/gn7m-em8n) if you click on the button, \"API\", you'll find the data that we'll be working with.  For you're reading pleasure, the data has already been moved to the \"trips.json\" file in this lab."
   ]
  },
  {
   "cell_type": "markdown",
   "metadata": {
    "collapsed": true
   },
   "source": [
    "```python\n",
    "[\n",
    "  {\n",
    "    \"dropoff_datetime\": \"2014-11-26T22:31:00.000\",\n",
    "    \"dropoff_latitude\": \"40.746769999999998\",\n",
    "    \"dropoff_longitude\": \"-73.997450000000001\",\n",
    "    \"fare_amount\": \"52\",\n",
    "    \"imp_surcharge\": \"0\",\n",
    "    \"mta_tax\": \"0.5\",\n",
    "    \"passenger_count\": \"1\",\n",
    "    \"payment_type\": \"CSH\",\n",
    "    \"pickup_datetime\": \"2014-11-26T21:59:00.000\",\n",
    "    \"pickup_latitude\": \"40.64499\",\n",
    "    \"pickup_longitude\": \"-73.781149999999997\",\n",
    "    \"rate_code\": \"2\",\n",
    "    \"tip_amount\": \"0\",\n",
    "    \"tolls_amount\": \"5.3300000000000001\",\n",
    "    \"total_amount\": \"57.829999999999998\",\n",
    "    \"trip_distance\": \"18.379999999999999\",\n",
    "    \"vendor_id\": \"VTS\"\n",
    "  },\n",
    "...\n",
    "...\n",
    "]\n",
    "```"
   ]
  },
  {
   "cell_type": "markdown",
   "metadata": {
    "collapsed": true
   },
   "source": [
    "### Document Retrieval "
   ]
  },
  {
   "cell_type": "markdown",
   "metadata": {},
   "source": [
    "Now, we like the amount of data, but we don't need all of the attributes provided.  We decide that all we need for this exploration is `pickup_latitude`, and `pickup_longitude`."
   ]
  },
  {
   "cell_type": "markdown",
   "metadata": {},
   "source": [
    "The first step is to load the data from a JSON file, which can be a little tricky in python.  We'll write a function to do it for you - using the pandas library. "
   ]
  },
  {
   "cell_type": "code",
   "execution_count": 4,
   "metadata": {},
   "outputs": [
    {
     "name": "stdout",
     "output_type": "stream",
     "text": [
      "Collecting gmplot\n",
      "\u001b[?25l  Downloading https://files.pythonhosted.org/packages/e2/b1/e1429c31a40b3ef5840c16f78b506d03be9f27e517d3870a6fd0b356bd46/gmplot-1.2.0.tar.gz (115kB)\n",
      "\u001b[K    100% |████████████████████████████████| 122kB 8.9MB/s ta 0:00:01\n",
      "\u001b[?25hRequirement already satisfied: requests in /opt/conda/lib/python3.6/site-packages (from gmplot) (2.18.4)\n",
      "Requirement already satisfied: chardet<3.1.0,>=3.0.2 in /opt/conda/lib/python3.6/site-packages (from requests->gmplot) (3.0.4)\n",
      "Requirement already satisfied: idna<2.7,>=2.5 in /opt/conda/lib/python3.6/site-packages (from requests->gmplot) (2.6)\n",
      "Requirement already satisfied: urllib3<1.23,>=1.21.1 in /opt/conda/lib/python3.6/site-packages (from requests->gmplot) (1.22)\n",
      "Requirement already satisfied: certifi>=2017.4.17 in /opt/conda/lib/python3.6/site-packages (from requests->gmplot) (2018.4.16)\n",
      "Building wheels for collected packages: gmplot\n",
      "  Running setup.py bdist_wheel for gmplot ... \u001b[?25ldone\n",
      "\u001b[?25h  Stored in directory: /home/allinthemind66/.cache/pip/wheels/81/6a/76/4dd6a7cc310ba765894159ee84871e8cd55221d82ef14b81a1\n",
      "Successfully built gmplot\n",
      "\u001b[31mmkl-random 1.0.1 requires cython, which is not installed.\u001b[0m\n",
      "\u001b[31mmkl-fft 1.0.2 requires cython, which is not installed.\u001b[0m\n",
      "Installing collected packages: gmplot\n",
      "Successfully installed gmplot-1.2.0\n"
     ]
    }
   ],
   "source": [
    "import pandas\n",
    "!pip install gmplot\n",
    "def parse_file(fileName):\n",
    "    trips_df = pandas.read_json(fileName)\n",
    "    return trips_df.to_dict('records')\n",
    "\n",
    "trips = parse_file('trips.json')"
   ]
  },
  {
   "cell_type": "code",
   "execution_count": 5,
   "metadata": {},
   "outputs": [
    {
     "data": {
      "text/plain": [
       "{'dropoff_datetime': '2014-11-26T22:31:00.000',\n",
       " 'dropoff_latitude': 40.74677,\n",
       " 'dropoff_longitude': -73.99745,\n",
       " 'fare_amount': 52.0,\n",
       " 'imp_surcharge': 0.0,\n",
       " 'mta_tax': 0.5,\n",
       " 'passenger_count': 1,\n",
       " 'payment_type': 'CSH',\n",
       " 'pickup_datetime': '2014-11-26T21:59:00.000',\n",
       " 'pickup_latitude': 40.64499,\n",
       " 'pickup_longitude': -73.78115,\n",
       " 'rate_code': 2,\n",
       " 'store_and_fwd_flag': nan,\n",
       " 'tip_amount': 0.0,\n",
       " 'tolls_amount': 5.33,\n",
       " 'total_amount': 57.83,\n",
       " 'trip_distance': 18.38,\n",
       " 'vendor_id': 'VTS'}"
      ]
     },
     "execution_count": 5,
     "metadata": {},
     "output_type": "execute_result"
    }
   ],
   "source": [
    "trips[0]"
   ]
  },
  {
   "cell_type": "code",
   "execution_count": 6,
   "metadata": {},
   "outputs": [
    {
     "data": {
      "text/plain": [
       "1000"
      ]
     },
     "execution_count": 6,
     "metadata": {},
     "output_type": "execute_result"
    }
   ],
   "source": [
    "len(trips)"
   ]
  },
  {
   "cell_type": "markdown",
   "metadata": {
    "collapsed": true
   },
   "source": [
    "Ok, so as you can see from above, the `trips` variable returns an array of dictionaries with each dictionary representing a trip.  Write a function called `parse_trips(trips)` that returns an array of the trips with just the following attributes: `trip_distance`, `pickup_latitude`, `pickup_longitude`.  \n",
    "\n",
    "Run the `index-tests.py` file to ensure that you wrote it correctly."
   ]
  },
  {
   "cell_type": "code",
   "execution_count": 7,
   "metadata": {},
   "outputs": [],
   "source": [
    "def parse_trips(trips):\n",
    "    trips_array = []\n",
    "    for trip in trips:\n",
    "#         print({'pickup_latitude': trip['pickup_latitude'], 'pickup_longitude': trip['pickup_longitude'],'trip_distance': trip['trip_distance']})\n",
    "        trips_array.append({'pickup_latitude': trip['pickup_latitude'], 'pickup_longitude': trip['pickup_longitude'],'trip_distance': trip['trip_distance']})\n",
    "    return trips_array"
   ]
  },
  {
   "cell_type": "code",
   "execution_count": 8,
   "metadata": {},
   "outputs": [
    {
     "data": {
      "text/plain": [
       "{'pickup_latitude', 'pickup_longitude', 'trip_distance'}"
      ]
     },
     "execution_count": 8,
     "metadata": {},
     "output_type": "execute_result"
    }
   ],
   "source": [
    "parsed_trips = parse_trips(trips)\n",
    "parsed_trips[0]\n",
    "    # {'pickup_latitude': 40.64499,\n",
    "    #  'pickup_longitude': -73.78115,\n",
    "    #  'trip_distance': 18.38}\n",
    "\n",
    "len(parsed_trips)\n",
    "    # 1000\n",
    "\n",
    "\n",
    "set([key for trip in parsed_trips for key in list(trip.keys())])\n",
    "    # {'pickup_latitude', 'pickup_longitude', 'trip_distance'}"
   ]
  },
  {
   "cell_type": "markdown",
   "metadata": {},
   "source": [
    "### Exploring the Data"
   ]
  },
  {
   "cell_type": "markdown",
   "metadata": {},
   "source": [
    "Now that we have paired down our data, let's answer some initial questions.  Here is where our data will go. "
   ]
  },
  {
   "cell_type": "code",
   "execution_count": 9,
   "metadata": {},
   "outputs": [],
   "source": [
    "\n",
    "import gmplot\n",
    "gmap = gmplot.GoogleMapPlotter(40.758896, -73.985130, 12)\n",
    "gmap.draw(\"mymap.html\")"
   ]
  },
  {
   "cell_type": "markdown",
   "metadata": {},
   "source": [
    "![](./Manhattan.png)"
   ]
  },
  {
   "cell_type": "markdown",
   "metadata": {},
   "source": [
    "Now, plotting the data feeds into the following function.\n",
    "```python\n",
    "gmap.plot(latitudes, longitudes, 'cornflowerblue', edge_width=10)\n",
    "```\n",
    "So we'll need an array of latitudes, each element representing the latitude of a trip, and an array of longitudes, each representing the longitudes associated with a trip.  Write a function called `trip_latitudes` that given a list of trips returns a list of latitudes, and `trip_longitudes` that given a list of trips, returns a list of `longitudes` accordingly.  Run the file `nearest-neighbor-lab-tests.py` to get feedback.  "
   ]
  },
  {
   "cell_type": "code",
   "execution_count": 10,
   "metadata": {},
   "outputs": [],
   "source": [
    "def trip_latitudes(trips):\n",
    "    arr = []\n",
    "    for item in trips:\n",
    "        arr.append(item['pickup_longitude'])\n",
    "    return arr"
   ]
  },
  {
   "cell_type": "code",
   "execution_count": 11,
   "metadata": {},
   "outputs": [],
   "source": [
    "def trip_longitudes(trips):\n",
    "    arr = []\n",
    "    for item in trips:\n",
    "        arr.append(item['pickup_latitude'])\n",
    "    return arr"
   ]
  },
  {
   "cell_type": "code",
   "execution_count": 22,
   "metadata": {},
   "outputs": [],
   "source": [
    "latitudes = trip_latitudes(parsed_trips)\n",
    "longitudes = trip_longitudes(parsed_trips)\n"
   ]
  },
  {
   "cell_type": "code",
   "execution_count": 23,
   "metadata": {},
   "outputs": [
    {
     "data": {
      "text/plain": [
       "1000"
      ]
     },
     "execution_count": 23,
     "metadata": {},
     "output_type": "execute_result"
    }
   ],
   "source": [
    "len(latitudes) \n",
    "# 1000"
   ]
  },
  {
   "cell_type": "code",
   "execution_count": 24,
   "metadata": {},
   "outputs": [],
   "source": [
    "gmap.plot(latitudes or [], longitudes or [], 'cornflowerblue', edge_width=10)\n",
    "gmap.draw(\"myplot.html\")"
   ]
  },
  {
   "cell_type": "markdown",
   "metadata": {},
   "source": [
    "Plotting the trips give you the following."
   ]
  },
  {
   "cell_type": "markdown",
   "metadata": {
    "collapsed": true
   },
   "source": [
    "![](./map-plotting.png)"
   ]
  },
  {
   "cell_type": "markdown",
   "metadata": {},
   "source": [
    "### Using Nearest Neighbors"
   ]
  },
  {
   "cell_type": "markdown",
   "metadata": {},
   "source": [
    "Ok, let's write a function that given a latitude and longitude will predict the fare distance for us.  We'll do this by first finding the nearest trips given a latitude and longitude. "
   ]
  },
  {
   "cell_type": "markdown",
   "metadata": {},
   "source": [
    " First write a method `distance_location` that calculates the distance between two individuals."
   ]
  },
  {
   "cell_type": "code",
   "execution_count": 25,
   "metadata": {},
   "outputs": [],
   "source": [
    "import math\n",
    "\n",
    "def distance_location(selected_individual, neighbor):\n",
    "    distance_squared = (selected_individual['pickup_latitude'] - neighbor['pickup_latitude'])**2 + (selected_individual['pickup_longitude'] - neighbor['pickup_longitude'])**2\n",
    "    return math.sqrt(distance_squared)\n",
    "#     pass"
   ]
  },
  {
   "cell_type": "code",
   "execution_count": 27,
   "metadata": {},
   "outputs": [
    {
     "data": {
      "text/plain": [
       "{'pickup_latitude': 40.64499,\n",
       " 'pickup_longitude': -73.78115,\n",
       " 'trip_distance': 18.38}"
      ]
     },
     "execution_count": 27,
     "metadata": {},
     "output_type": "execute_result"
    }
   ],
   "source": [
    "first_trip = parsed_trips[0]\n",
    "second_trip = parsed_trips[1]\n",
    "first_trip\n",
    "\n",
    "# distance_location(first_trip, second_trip) \n",
    "    # 0.23505256047318146"
   ]
  },
  {
   "cell_type": "markdown",
   "metadata": {},
   "source": [
    "Write the nearest neighbors formula.  If no number is provided, it should return the top 3 neighbors."
   ]
  },
  {
   "cell_type": "code",
   "execution_count": 40,
   "metadata": {},
   "outputs": [],
   "source": [
    "def nearest_neighbors(selected_individual, neighbors, number = 3):\n",
    "    number = number\n",
    "    neighbors_list = []\n",
    "#     remaining_neighbors = filter(lambda neighbor: neighbor != selected_individual, neighbors)\n",
    "    for item in parsed_trips:\n",
    "        distance = distance_location(selected_individual, item)\n",
    "        new_item = item['distance'] = distance\n",
    "        print(item)\n",
    "#         print(new_item)\n",
    "        neighbors_list.append(new_item)\n",
    "    \n",
    "    return neighbors_list.sorted()\n",
    "#     pass"
   ]
  },
  {
   "cell_type": "code",
   "execution_count": 41,
   "metadata": {},
   "outputs": [
    {
     "name": "stdout",
     "output_type": "stream",
     "text": [
      "{'pickup_latitude': 40.64499, 'pickup_longitude': -73.78115, 'trip_distance': 18.38, 'distance': 0.0}\n",
      "{'pickup_latitude': 40.766931, 'pickup_longitude': -73.982098, 'trip_distance': 1.3, 'distance': 0.23505256047318146}\n",
      "{'pickup_latitude': 40.77773, 'pickup_longitude': -73.951902, 'trip_distance': 4.5, 'distance': 0.2162779533470808}\n",
      "{'pickup_latitude': 40.795678, 'pickup_longitude': -73.971049, 'trip_distance': 2.4, 'distance': 0.24242215976473674}\n",
      "{'pickup_latitude': 40.762912, 'pickup_longitude': -73.967782, 'trip_distance': 0.84, 'distance': 0.22076481039332593}\n",
      "{'pickup_latitude': 40.731176, 'pickup_longitude': -73.991572, 'trip_distance': 0.8, 'distance': 0.22738831254047148}\n",
      "{'pickup_latitude': 40.800219, 'pickup_longitude': -73.968098, 'trip_distance': 0.5, 'distance': 0.2429929981398639}\n",
      "{'pickup_latitude': 40.648509, 'pickup_longitude': -73.783508, 'trip_distance': 17.3, 'distance': 0.0042359798158141185}\n",
      "{'pickup_latitude': 40.721897, 'pickup_longitude': -73.983493, 'trip_distance': 0.63, 'distance': 0.21646564692347695}\n",
      "{'pickup_latitude': 40.791566, 'pickup_longitude': -73.972224, 'trip_distance': 2.8, 'distance': 0.24081901347692852}\n",
      "{'pickup_latitude': 40.744896, 'pickup_longitude': -73.978619, 'trip_distance': 0.6, 'distance': 0.2213034450635568}\n",
      "{'pickup_latitude': 40.721951, 'pickup_longitude': -73.844435, 'trip_distance': 1.1, 'distance': 0.09963928314676157}\n",
      "{'pickup_latitude': 40.732382, 'pickup_longitude': -74.001682, 'trip_distance': 4.2, 'distance': 0.23721661975503053}\n",
      "{'pickup_latitude': 40.768339, 'pickup_longitude': -73.961478, 'trip_distance': 0.4, 'distance': 0.21847920584119773}\n",
      "{'pickup_latitude': 40.775933, 'pickup_longitude': -73.962446, 'trip_distance': 0.6, 'distance': 0.2236387910560279}\n",
      "{'pickup_latitude': 40.794829, 'pickup_longitude': -73.971476, 'trip_distance': 9.8, 'distance': 0.24223070036021363}\n",
      "{'pickup_latitude': 40.758647, 'pickup_longitude': -73.964878, 'trip_distance': 1.05, 'distance': 0.21604141184736217}\n",
      "{'pickup_latitude': 40.713638, 'pickup_longitude': -74.011587, 'trip_distance': 0.74, 'distance': 0.2404449185842875}\n",
      "{'pickup_latitude': 40.77403, 'pickup_longitude': -73.874597, 'trip_distance': 8.4, 'distance': 0.15932251381710127}\n",
      "{'pickup_latitude': 40.728127, 'pickup_longitude': -73.99887, 'trip_distance': 5.1, 'distance': 0.23305312520753735}\n",
      "{'pickup_latitude': 40.759671, 'pickup_longitude': -73.976688, 'trip_distance': 1.4, 'distance': 0.22668665863918644}\n",
      "{'pickup_latitude': 40.772651, 'pickup_longitude': -73.967095, 'trip_distance': 2.7, 'distance': 0.22555015838168296}\n",
      "{'pickup_latitude': 40.770319, 'pickup_longitude': -73.960222, 'trip_distance': 0.8, 'distance': 0.21857296133099804}\n",
      "{'pickup_latitude': 40.720457, 'pickup_longitude': -73.988065, 'trip_distance': 1.12, 'distance': 0.22024778163242495}\n",
      "{'pickup_latitude': 40.754789, 'pickup_longitude': -73.973606, 'trip_distance': 16.0, 'distance': 0.22157421406157182}\n",
      "{'pickup_latitude': 40.755654, 'pickup_longitude': -73.985846, 'trip_distance': 1.4, 'distance': 0.23269502210403928}\n",
      "{'pickup_latitude': 40.741568, 'pickup_longitude': -73.978341, 'trip_distance': 0.9, 'distance': 0.21957140197439562}\n",
      "{'pickup_latitude': 40.736907, 'pickup_longitude': -73.98862, 'trip_distance': 0.74, 'distance': 0.22691966814051334}\n",
      "{'pickup_latitude': 40.76003, 'pickup_longitude': -73.964842, 'trip_distance': 1.5, 'distance': 0.21674167219065868}\n",
      "{'pickup_latitude': 40.721366, 'pickup_longitude': -74.008287, 'trip_distance': 0.7, 'distance': 0.2396341172391779}\n",
      "{'pickup_latitude': 40.760147, 'pickup_longitude': -73.97627, 'trip_distance': 1.97, 'distance': 0.22656775818505578}\n",
      "{'pickup_latitude': 40.745847, 'pickup_longitude': -74.001817, 'trip_distance': 0.96, 'distance': 0.24262328688318888}\n",
      "{'pickup_latitude': 40.753015, 'pickup_longitude': -73.985247, 'trip_distance': 0.74, 'distance': 0.23092203453547114}\n",
      "{'pickup_latitude': 40.644657, 'pickup_longitude': -73.782229, 'trip_distance': 12.7, 'distance': 0.0011292165425673159}\n",
      "{'pickup_latitude': 40.738767, 'pickup_longitude': -74.0086, 'trip_distance': 1.17, 'distance': 0.2460236334765476}\n",
      "{'pickup_latitude': 40.773797, 'pickup_longitude': -73.871065, 'trip_distance': 22.8, 'distance': 0.15708580608699615}\n",
      "{'pickup_latitude': 40.743411, 'pickup_longitude': -73.97686, 'trip_distance': 1.5, 'distance': 0.21906413978787692}\n",
      "{'pickup_latitude': 40.758905, 'pickup_longitude': -73.967897, 'trip_distance': 1.5, 'distance': 0.21874887253194822}\n",
      "{'pickup_latitude': 40.733877, 'pickup_longitude': -73.989602, 'trip_distance': 1.7, 'distance': 0.22661230123937096}\n",
      "{'pickup_latitude': 40.726162, 'pickup_longitude': -73.983432, 'trip_distance': 0.95, 'distance': 0.21796077882958448}\n",
      "{'pickup_latitude': 40.775122, 'pickup_longitude': -73.947765, 'trip_distance': 5.88, 'distance': 0.21141167339814346}\n",
      "{'pickup_latitude': 40.75987, 'pickup_longitude': -73.978487, 'trip_distance': 4.1, 'distance': 0.22834032926533512}\n",
      "{'pickup_latitude': 40.707087, 'pickup_longitude': -73.94328, 'trip_distance': 1.09, 'distance': 0.17361501752153158}\n",
      "{'pickup_latitude': 40.741912, 'pickup_longitude': -74.003578, 'trip_distance': 1.39, 'distance': 0.24262747014302266}\n",
      "{'pickup_latitude': 40.769112, 'pickup_longitude': -73.862679, 'trip_distance': 11.2, 'distance': 0.14850336267236677}\n",
      "{'pickup_latitude': 40.785807, 'pickup_longitude': -73.976387, 'trip_distance': 2.56, 'distance': 0.2407216518263404}\n",
      "{'pickup_latitude': 40.7513, 'pickup_longitude': -73.986852, 'trip_distance': 1.03, 'distance': 0.23154940920676315}\n",
      "{'pickup_latitude': 40.733385, 'pickup_longitude': -73.987204, 'trip_distance': 1.3, 'distance': 0.22421402039346996}\n",
      "{'pickup_latitude': 40.760257, 'pickup_longitude': -73.976186, 'trip_distance': 0.9, 'distance': 0.22655136853482336}\n",
      "{'pickup_latitude': 40.741249, 'pickup_longitude': -74.005201, 'trip_distance': 3.4, 'distance': 0.24385373829818963}\n",
      "{'pickup_latitude': 40.759795, 'pickup_longitude': -73.985352, 'trip_distance': 0.8, 'distance': 0.23426191502035304}\n",
      "{'pickup_latitude': 40.756636, 'pickup_longitude': -73.9697, 'trip_distance': 0.8, 'distance': 0.2191253792147375}\n",
      "{'pickup_latitude': 40.73925, 'pickup_longitude': -74.000759, 'trip_distance': 0.6, 'distance': 0.23898338955040813}\n",
      "{'pickup_latitude': 40.751055, 'pickup_longitude': -73.97607, 'trip_distance': 1.07, 'distance': 0.22190896923063805}\n",
      "{'pickup_latitude': 40.723584, 'pickup_longitude': -73.995992, 'trip_distance': 3.9, 'distance': 0.2287664787507171}\n",
      "{'pickup_latitude': 40.757037, 'pickup_longitude': -73.929485, 'trip_distance': 14.43, 'distance': 0.1858972900125233}\n",
      "{'pickup_latitude': 40.743385, 'pickup_longitude': -73.981978, 'trip_distance': 0.6, 'distance': 0.2236368967970206}\n",
      "{'pickup_latitude': 40.737486, 'pickup_longitude': -73.978153, 'trip_distance': 2.1, 'distance': 0.2176366054343872}\n",
      "{'pickup_latitude': 40.77225, 'pickup_longitude': -73.95285, 'trip_distance': 1.76, 'distance': 0.21371943664533735}\n",
      "{'pickup_latitude': 40.732882, 'pickup_longitude': -73.981975, 'trip_distance': 2.45, 'distance': 0.21921606758858478}\n",
      "{'pickup_latitude': 40.774567, 'pickup_longitude': -73.988232, 'trip_distance': 2.03, 'distance': 0.24428089088792698}\n",
      "{'pickup_latitude': 40.757437, 'pickup_longitude': -73.964735, 'trip_distance': 0.8, 'distance': 0.2152853456090395}\n",
      "{'pickup_latitude': 40.789637, 'pickup_longitude': -73.975402, 'trip_distance': 2.14, 'distance': 0.24219123459159708}\n",
      "{'pickup_latitude': 40.754317, 'pickup_longitude': -73.992548, 'trip_distance': 1.3, 'distance': 0.2379947632470118}\n",
      "{'pickup_latitude': 40.745007, 'pickup_longitude': -73.998627, 'trip_distance': 0.44, 'distance': 0.23937344426231005}\n",
      "{'pickup_latitude': 40.734982, 'pickup_longitude': -73.990523, 'trip_distance': 1.0, 'distance': 0.22789386387746413}\n",
      "{'pickup_latitude': 0.0, 'pickup_longitude': 0.0, 'trip_distance': 1.95, 'distance': 84.23581962219279}\n",
      "{'pickup_latitude': 40.738617, 'pickup_longitude': -73.989672, 'trip_distance': 1.48, 'distance': 0.2285769883715342}\n",
      "{'pickup_latitude': 40.790712, 'pickup_longitude': -73.972809, 'trip_distance': 0.5, 'distance': 0.24076559879891543}\n",
      "{'pickup_latitude': 40.750167, 'pickup_longitude': -73.987398, 'trip_distance': 1.5, 'distance': 0.23151768578879758}\n",
      "{'pickup_latitude': 40.732141, 'pickup_longitude': -73.98447, 'trip_distance': 12.7, 'distance': 0.2212110286604215}\n",
      "{'pickup_latitude': 40.765758, 'pickup_longitude': -73.994847, 'trip_distance': 1.1, 'distance': 0.24546143817919336}\n",
      "{'pickup_latitude': 40.792594, 'pickup_longitude': -73.964102, 'trip_distance': 1.0, 'distance': 0.23507100016803525}\n",
      "{'pickup_latitude': 40.762908, 'pickup_longitude': -73.969549, 'trip_distance': 1.8, 'distance': 0.22225849348225643}\n",
      "{'pickup_latitude': 40.750722, 'pickup_longitude': -73.968447, 'trip_distance': 4.85, 'distance': 0.2150800363422906}\n",
      "{'pickup_latitude': 40.769887, 'pickup_longitude': -73.86443, 'trip_distance': 5.09, 'distance': 0.15011601849569428}\n",
      "{'pickup_latitude': 40.77247, 'pickup_longitude': -73.982419, 'trip_distance': 1.2, 'distance': 0.23824432996610465}\n",
      "{'pickup_latitude': 40.764545, 'pickup_longitude': -73.982668, 'trip_distance': 1.44, 'distance': 0.23431368365719166}\n",
      "{'pickup_latitude': 40.641805, 'pickup_longitude': -73.78641, 'trip_distance': 16.63, 'distance': 0.006149132052581531}\n",
      "{'pickup_latitude': 40.75224, 'pickup_longitude': -73.97835, 'trip_distance': 0.79, 'distance': 0.22447806685732974}\n",
      "{'pickup_latitude': 40.758835, 'pickup_longitude': -73.988555, 'trip_distance': 1.36, 'distance': 0.23659568476623366}\n",
      "{'pickup_latitude': 40.722785, 'pickup_longitude': -73.988558, 'trip_distance': 2.04, 'distance': 0.22151781077150584}\n",
      "{'pickup_latitude': 40.720338, 'pickup_longitude': -73.993645, 'trip_distance': 0.9, 'distance': 0.22545830241754564}\n",
      "{'pickup_latitude': 40.72973, 'pickup_longitude': -73.991628, 'trip_distance': 1.65, 'distance': 0.22689613501336778}\n",
      "{'pickup_latitude': 40.760442, 'pickup_longitude': -73.958405, 'trip_distance': 0.64, 'distance': 0.21153841100140727}\n",
      "{'pickup_latitude': 40.756227, 'pickup_longitude': -73.98314, 'trip_distance': 1.34, 'distance': 0.23059408116646082}\n",
      "{'pickup_latitude': 40.751555, 'pickup_longitude': -73.992905, 'trip_distance': 1.13, 'distance': 0.2370575441744035}\n",
      "{'pickup_latitude': 40.71333, 'pickup_longitude': -74.004106, 'trip_distance': 1.3, 'distance': 0.23319462587289244}\n",
      "{'pickup_latitude': 40.764762, 'pickup_longitude': -73.991849, 'trip_distance': 1.1, 'distance': 0.24236212696087986}\n",
      "{'pickup_latitude': 40.763353, 'pickup_longitude': -73.985259, 'trip_distance': 1.9, 'distance': 0.23594550991701782}\n",
      "{'pickup_latitude': 40.775292, 'pickup_longitude': -73.982082, 'trip_distance': 0.66, 'distance': 0.23948336023198694}\n",
      "{'pickup_latitude': 40.779515, 'pickup_longitude': -73.984852, 'trip_distance': 0.9, 'distance': 0.24411366292979952}\n",
      "{'pickup_latitude': 40.768322, 'pickup_longitude': -73.982234, 'trip_distance': 3.8, 'distance': 0.23589310562202312}\n",
      "{'pickup_latitude': 40.766602, 'pickup_longitude': -73.95388, 'trip_distance': 6.52, 'distance': 0.21124661285805324}\n",
      "{'pickup_latitude': 40.763684, 'pickup_longitude': -73.981214, 'trip_distance': 2.1, 'distance': 0.232623880399237}\n",
      "{'pickup_latitude': 40.793086, 'pickup_longitude': -73.952092, 'trip_distance': 0.7, 'distance': 0.22617159985285412}\n",
      "{'pickup_latitude': 40.773602, 'pickup_longitude': -73.871055, 'trip_distance': 3.4, 'distance': 0.15692022039558665}\n",
      "{'pickup_latitude': 40.771909, 'pickup_longitude': -73.959023, 'trip_distance': 0.8, 'distance': 0.21851141089197632}\n",
      "{'pickup_latitude': 40.774029, 'pickup_longitude': -73.961478, 'trip_distance': 4.1, 'distance': 0.22174140593267813}\n",
      "{'pickup_latitude': 40.74964, 'pickup_longitude': -73.972212, 'trip_distance': 0.48, 'distance': 0.21784469317383143}\n",
      "{'pickup_latitude': 40.771542, 'pickup_longitude': -73.959533, 'trip_distance': 1.2, 'distance': 0.2187142048267509}\n",
      "{'pickup_latitude': 40.694095, 'pickup_longitude': -73.9839, 'trip_distance': 3.89, 'distance': 0.2086117530845358}\n",
      "{'pickup_latitude': 40.756312, 'pickup_longitude': -73.994315, 'trip_distance': 6.98, 'distance': 0.2404826499126326}\n",
      "{'pickup_latitude': 40.730282, 'pickup_longitude': -74.006652, 'trip_distance': 1.8, 'distance': 0.24109308838704416}\n",
      "{'pickup_latitude': 40.777707, 'pickup_longitude': -73.955068, 'trip_distance': 0.97, 'distance': 0.218772193875273}\n",
      "{'pickup_latitude': 40.726087, 'pickup_longitude': -73.994962, 'trip_distance': 1.7, 'distance': 0.22867508555372143}\n",
      "{'pickup_latitude': 40.738385, 'pickup_longitude': -73.999885, 'trip_distance': 4.25, 'distance': 0.23783949682507385}\n",
      "{'pickup_latitude': 40.7678, 'pickup_longitude': -73.961987, 'trip_distance': 1.1, 'distance': 0.21859624120510202}\n",
      "{'pickup_latitude': 40.742682, 'pickup_longitude': -73.972513, 'trip_distance': 0.12, 'distance': 0.21485698646542573}\n",
      "{'pickup_latitude': 40.770602, 'pickup_longitude': -73.982262, 'trip_distance': 1.02, 'distance': 0.23711687221284533}\n",
      "{'pickup_latitude': 40.747967, 'pickup_longitude': -73.976727, 'trip_distance': 2.39, 'distance': 0.22103082467837062}\n",
      "{'pickup_latitude': 40.742803, 'pickup_longitude': -74.004093, 'trip_distance': 1.6, 'distance': 0.2434562881052793}\n",
      "{'pickup_latitude': 40.755521, 'pickup_longitude': -73.97546, 'trip_distance': 1.7, 'distance': 0.22354748502499638}\n",
      "{'pickup_latitude': 40.760528, 'pickup_longitude': -74.002757, 'trip_distance': 1.5, 'distance': 0.24991737013061496}\n",
      "{'pickup_latitude': 40.740732, 'pickup_longitude': -74.005513, 'trip_distance': 1.3, 'distance': 0.2439370540385343}\n",
      "{'pickup_latitude': 40.735497, 'pickup_longitude': -74.00601, 'trip_distance': 1.11, 'distance': 0.24239128831087028}\n",
      "{'pickup_latitude': 40.715387, 'pickup_longitude': -74.013518, 'trip_distance': 6.01, 'distance': 0.2427974979957655}\n",
      "{'pickup_latitude': 40.721587, 'pickup_longitude': -73.995427, 'trip_distance': 1.0, 'distance': 0.22755600000440362}\n",
      "{'pickup_latitude': 40.760057, 'pickup_longitude': -73.983502, 'trip_distance': 1.26, 'distance': 0.23278046823778556}\n",
      "{'pickup_latitude': 40.740332, 'pickup_longitude': -73.986289, 'trip_distance': 1.2, 'distance': 0.22621252459800165}\n",
      "{'pickup_latitude': 40.7455, 'pickup_longitude': -73.977834, 'trip_distance': 5.4, 'distance': 0.2208774681944762}\n",
      "{'pickup_latitude': 40.733125, 'pickup_longitude': -73.987273, 'trip_distance': 1.2, 'distance': 0.22417508638116398}\n",
      "{'pickup_latitude': 40.752092, 'pickup_longitude': -73.989949, 'trip_distance': 3.2, 'distance': 0.23466542311341715}\n",
      "{'pickup_latitude': 40.72381, 'pickup_longitude': -73.992617, 'trip_distance': 0.8, 'distance': 0.22567871961928446}\n",
      "{'pickup_latitude': 40.767446, 'pickup_longitude': -73.984105, 'trip_distance': 0.8, 'distance': 0.23703629249758587}\n",
      "{'pickup_latitude': 40.800479, 'pickup_longitude': -73.968083, 'trip_distance': 2.0, 'distance': 0.24314764158839683}\n",
      "{'pickup_latitude': 40.717055, 'pickup_longitude': -73.991325, 'trip_distance': 0.88, 'distance': 0.22218662167196992}\n",
      "{'pickup_latitude': 40.748863, 'pickup_longitude': -73.992155, 'trip_distance': 0.88, 'distance': 0.23518654330977373}\n",
      "{'pickup_latitude': 40.80474, 'pickup_longitude': -73.9478, 'trip_distance': 1.3, 'distance': 0.23085121832037664}\n",
      "{'pickup_latitude': 40.762202, 'pickup_longitude': -73.969015, 'trip_distance': 1.23, 'distance': 0.2214315044635729}\n",
      "{'pickup_latitude': 0.0, 'pickup_longitude': 0.0, 'trip_distance': 5.19, 'distance': 84.23581962219279}\n",
      "{'pickup_latitude': 40.740407, 'pickup_longitude': -73.987223, 'trip_distance': 0.9, 'distance': 0.22709135874797393}\n",
      "{'pickup_latitude': 40.722399, 'pickup_longitude': -73.997097, 'trip_distance': 5.6, 'distance': 0.22940196182683445}\n",
      "{'pickup_latitude': 40.747572, 'pickup_longitude': -73.974092, 'trip_distance': 1.1, 'distance': 0.21851700640453697}\n",
      "{'pickup_latitude': 40.794651, 'pickup_longitude': -73.972048, 'trip_distance': 0.7, 'distance': 0.24257052855819514}\n",
      "{'pickup_latitude': 40.751087, 'pickup_longitude': -73.9716, 'trip_distance': 0.06, 'distance': 0.21800866016972595}\n",
      "{'pickup_latitude': 40.719886, 'pickup_longitude': -74.009981, 'trip_distance': 3.9, 'distance': 0.24077590696953086}\n",
      "{'pickup_latitude': 40.760887, 'pickup_longitude': -73.98696, 'trip_distance': 0.73, 'distance': 0.23619879489319817}\n",
      "{'pickup_latitude': 40.727514, 'pickup_longitude': -74.0073, 'trip_distance': 1.4, 'distance': 0.2407364390282488}\n",
      "{'pickup_latitude': 40.774453, 'pickup_longitude': -73.872166, 'trip_distance': 1.2, 'distance': 0.1582547965307915}\n",
      "{'pickup_latitude': 40.741907, 'pickup_longitude': -74.003545, 'trip_distance': 4.9, 'distance': 0.24259522030329075}\n",
      "{'pickup_latitude': 40.735118, 'pickup_longitude': -73.97979, 'trip_distance': 1.4, 'distance': 0.21813047926412987}\n",
      "{'pickup_latitude': 40.773907, 'pickup_longitude': -73.871275, 'trip_distance': 8.73, 'distance': 0.15729624443705073}\n",
      "{'pickup_latitude': 40.758937, 'pickup_longitude': -73.994232, 'trip_distance': 1.48, 'distance': 0.24163579522289472}\n",
      "{'pickup_latitude': 40.752144, 'pickup_longitude': -73.977199, 'trip_distance': 0.4, 'distance': 0.2234215524899089}\n",
      "{'pickup_latitude': 40.745642, 'pickup_longitude': -73.990757, 'trip_distance': 0.61, 'distance': 0.23252079380778312}\n",
      "{'pickup_latitude': 40.71879, 'pickup_longitude': -73.98984, 'trip_distance': 1.92, 'distance': 0.22135481946413899}\n",
      "{'pickup_latitude': 40.739945, 'pickup_longitude': -74.006124, 'trip_distance': 1.9, 'distance': 0.24419204061762775}\n",
      "{'pickup_latitude': 40.777575, 'pickup_longitude': -73.986287, 'trip_distance': 1.85, 'distance': 0.24425390681420603}\n",
      "{'pickup_latitude': 40.753632, 'pickup_longitude': -73.988899, 'trip_distance': 1.6, 'distance': 0.23444131710303018}\n",
      "{'pickup_latitude': 40.74733, 'pickup_longitude': -73.97703, 'trip_distance': 3.61, 'distance': 0.22100328051863977}\n",
      "{'pickup_latitude': 40.769822, 'pickup_longitude': -73.960596, 'trip_distance': 0.4, 'distance': 0.2185952770304038}\n",
      "{'pickup_latitude': 40.724658, 'pickup_longitude': -73.997131, 'trip_distance': 2.1, 'distance': 0.2302059568842635}\n",
      "{'pickup_latitude': 40.758345, 'pickup_longitude': -73.989398, 'trip_distance': 1.21, 'distance': 0.2371003701578693}\n",
      "{'pickup_latitude': 40.764807, 'pickup_longitude': -73.97669, 'trip_distance': 0.55, 'distance': 0.22932946842698315}\n",
      "{'pickup_latitude': 40.772847, 'pickup_longitude': -73.962703, 'trip_distance': 1.27, 'distance': 0.22205608358701326}\n",
      "{'pickup_latitude': 40.793682, 'pickup_longitude': -73.966972, 'trip_distance': 0.5, 'distance': 0.23798976143523426}\n",
      "{'pickup_latitude': 40.760007, 'pickup_longitude': -73.97804, 'trip_distance': 4.5, 'distance': 0.22802320581247626}\n",
      "{'pickup_latitude': 40.747252, 'pickup_longitude': -73.888215, 'trip_distance': 1.52, 'distance': 0.14805549928659145}\n",
      "{'pickup_latitude': 40.756392, 'pickup_longitude': -73.967522, 'trip_distance': 2.6, 'distance': 0.21712882809061018}\n",
      "{'pickup_latitude': 40.763685, 'pickup_longitude': -73.977714, 'trip_distance': 0.6, 'distance': 0.2296212296827195}\n",
      "{'pickup_latitude': 40.767068, 'pickup_longitude': -73.982805, 'trip_distance': 3.4, 'distance': 0.23572818479978463}\n",
      "{'pickup_latitude': 40.77596, 'pickup_longitude': -73.98728, 'trip_distance': 2.3, 'distance': 0.24421858610679106}\n",
      "{'pickup_latitude': 40.739617, 'pickup_longitude': -73.984663, 'trip_distance': 1.44, 'distance': 0.22443665096859935}\n",
      "{'pickup_latitude': 40.751953, 'pickup_longitude': -73.976404, 'trip_distance': 10.9, 'distance': 0.22263245020661804}\n",
      "{'pickup_latitude': 40.718635, 'pickup_longitude': -74.000952, 'trip_distance': 2.8, 'distance': 0.23181135698882502}\n",
      "{'pickup_latitude': 40.7331, 'pickup_longitude': -73.981375, 'trip_distance': 2.67, 'distance': 0.21875425190153755}\n",
      "{'pickup_latitude': 40.77463, 'pickup_longitude': -73.96322, 'trip_distance': 0.84, 'distance': 0.22350842154157013}\n",
      "{'pickup_latitude': 40.753675, 'pickup_longitude': -73.984942, 'trip_distance': 1.89, 'distance': 0.23096235296905676}\n",
      "{'pickup_latitude': 40.763262, 'pickup_longitude': -73.95948, 'trip_distance': 2.61, 'distance': 0.21398564177065785}\n",
      "{'pickup_latitude': 40.768895, 'pickup_longitude': -73.958237, 'trip_distance': 1.29, 'distance': 0.21613017973897172}\n",
      "{'pickup_latitude': 40.641375, 'pickup_longitude': -73.788935, 'trip_distance': 11.5, 'distance': 0.008583382200508133}\n",
      "{'pickup_latitude': 40.745472, 'pickup_longitude': -73.98666, 'trip_distance': 1.21, 'distance': 0.22875968268906452}\n",
      "{'pickup_latitude': 40.707562, 'pickup_longitude': -74.004372, 'trip_distance': 2.33, 'distance': 0.23182604786348632}\n",
      "{'pickup_latitude': 40.75331, 'pickup_longitude': -73.968992, 'trip_distance': 1.05, 'distance': 0.21683597340847544}\n",
      "{'pickup_latitude': 40.769545, 'pickup_longitude': -73.960554, 'trip_distance': 1.2, 'distance': 0.21840270886827864}\n",
      "{'pickup_latitude': 40.77411, 'pickup_longitude': -73.874625, 'trip_distance': 9.37, 'distance': 0.15940373278251582}\n",
      "{'pickup_latitude': 40.720615, 'pickup_longitude': -74.009875, 'trip_distance': 1.77, 'distance': 0.24090302250075454}\n",
      "{'pickup_latitude': 40.76305, 'pickup_longitude': -73.969831, 'trip_distance': 0.6, 'distance': 0.22257287202397538}\n",
      "{'pickup_latitude': 40.648605, 'pickup_longitude': -73.78482, 'trip_distance': 18.2, 'distance': 0.005151419707228516}\n",
      "{'pickup_latitude': 40.730875, 'pickup_longitude': -74.001527, 'trip_distance': 2.29, 'distance': 0.23652115202239146}\n",
      "{'pickup_latitude': 40.763843, 'pickup_longitude': -73.928025, 'trip_distance': 3.1, 'distance': 0.18893994081189622}\n",
      "{'pickup_latitude': 40.759867, 'pickup_longitude': -73.97835, 'trip_distance': 1.9, 'distance': 0.22822043100696238}\n",
      "{'pickup_latitude': 40.77302, 'pickup_longitude': -73.982, 'trip_distance': 0.94, 'distance': 0.23818564902193773}\n",
      "{'pickup_latitude': 40.767437, 'pickup_longitude': -73.980957, 'trip_distance': 2.7, 'distance': 0.23434185511342837}\n",
      "{'pickup_latitude': 40.7951, 'pickup_longitude': -73.97166, 'trip_distance': 0.2, 'distance': 0.24254292857141938}\n",
      "{'pickup_latitude': 40.78045, 'pickup_longitude': -73.980198, 'trip_distance': 2.1, 'distance': 0.2407685982515212}\n",
      "{'pickup_latitude': 40.777608, 'pickup_longitude': -73.956815, 'trip_distance': 1.4, 'distance': 0.22010389853204207}\n",
      "{'pickup_latitude': 40.783897, 'pickup_longitude': -73.952306, 'trip_distance': 2.5, 'distance': 0.22043033136344833}\n",
      "{'pickup_latitude': 40.738437, 'pickup_longitude': -73.999686, 'trip_distance': 0.3, 'distance': 0.23767693431420658}\n",
      "{'pickup_latitude': 40.766227, 'pickup_longitude': -73.980152, 'trip_distance': 2.61, 'distance': 0.23302404634072219}\n",
      "{'pickup_latitude': 40.7472, 'pickup_longitude': -74.007947, 'trip_distance': 3.2, 'distance': 0.2487644735668702}\n",
      "{'pickup_latitude': 40.729602, 'pickup_longitude': -73.987032, 'trip_distance': 1.63, 'distance': 0.22259062978481606}\n",
      "{'pickup_latitude': 40.747295, 'pickup_longitude': -74.000877, 'trip_distance': 1.86, 'distance': 0.2423762933003203}\n",
      "{'pickup_latitude': 40.764276, 'pickup_longitude': -73.954283, 'trip_distance': 2.3, 'distance': 0.2102479143416244}\n",
      "{'pickup_latitude': 40.717463, 'pickup_longitude': -74.005494, 'trip_distance': 2.0, 'distance': 0.23575955137597557}\n",
      "{'pickup_latitude': 40.756667, 'pickup_longitude': -73.967298, 'trip_distance': 3.06, 'distance': 0.2170779358502405}\n",
      "{'pickup_latitude': 40.723036, 'pickup_longitude': -73.988783, 'trip_distance': 3.4, 'distance': 0.22181668288251138}\n",
      "{'pickup_latitude': 40.742832, 'pickup_longitude': -73.989064, 'trip_distance': 1.4, 'distance': 0.22978530927803237}\n",
      "{'pickup_latitude': 40.759825, 'pickup_longitude': -73.970231, 'trip_distance': 2.3, 'distance': 0.2212209343303668}\n",
      "{'pickup_latitude': 40.770567, 'pickup_longitude': -73.954641, 'trip_distance': 3.8, 'distance': 0.21416981582379774}\n",
      "{'pickup_latitude': 40.743565, 'pickup_longitude': -73.988827, 'trip_distance': 0.73, 'distance': 0.22988424685915512}\n",
      "{'pickup_latitude': 40.761372, 'pickup_longitude': -73.982602, 'trip_distance': 0.58, 'distance': 0.23265355838241908}\n",
      "{'pickup_latitude': 40.725012, 'pickup_longitude': -73.995492, 'trip_distance': 0.06, 'distance': 0.22879251178305815}\n",
      "{'pickup_latitude': 40.751251, 'pickup_longitude': -73.975745, 'trip_distance': 1.1, 'distance': 0.22171741958178065}\n",
      "{'pickup_latitude': 40.742522, 'pickup_longitude': -73.993292, 'trip_distance': 0.64, 'distance': 0.23348815641912168}\n",
      "{'pickup_latitude': 40.762107, 'pickup_longitude': -73.98479, 'trip_distance': 1.72, 'distance': 0.23491624313572484}\n",
      "{'pickup_latitude': 40.787171, 'pickup_longitude': -73.953967, 'trip_distance': 0.2, 'distance': 0.22378818612697893}\n",
      "{'pickup_latitude': 40.739887, 'pickup_longitude': -74.004942, 'trip_distance': 0.87, 'distance': 0.24308085048601005}\n",
      "{'pickup_latitude': 40.775297, 'pickup_longitude': -73.982005, 'trip_distance': 2.47, 'distance': 0.23942148039389072}\n",
      "{'pickup_latitude': 40.743232, 'pickup_longitude': -73.983751, 'trip_distance': 0.7, 'distance': 0.2251636199855571}\n",
      "{'pickup_latitude': 40.757386, 'pickup_longitude': -73.987253, 'trip_distance': 1.9, 'distance': 0.23475797627556513}\n",
      "{'pickup_latitude': 40.749027, 'pickup_longitude': -73.98395, 'trip_distance': 0.57, 'distance': 0.22792879890219692}\n",
      "{'pickup_latitude': 40.752385, 'pickup_longitude': -73.978314, 'trip_distance': 2.1, 'distance': 0.22451576541748605}\n",
      "{'pickup_latitude': 40.721988, 'pickup_longitude': -73.986383, 'trip_distance': 4.0, 'distance': 0.21920145139346892}\n",
      "{'pickup_latitude': 40.742422, 'pickup_longitude': -73.991082, 'trip_distance': 1.04, 'distance': 0.23143992578637632}\n",
      "{'pickup_latitude': 40.735396, 'pickup_longitude': -73.993911, 'trip_distance': 0.8, 'distance': 0.2311719878294091}\n",
      "{'pickup_latitude': 40.749873, 'pickup_longitude': -73.991593, 'trip_distance': 3.3, 'distance': 0.23513123981725467}\n",
      "{'pickup_latitude': 40.779447, 'pickup_longitude': -73.962047, 'trip_distance': 1.35, 'distance': 0.2253938984489153}\n",
      "{'pickup_latitude': 40.730843, 'pickup_longitude': -74.00677, 'trip_distance': 5.0, 'distance': 0.24140240680035258}\n",
      "{'pickup_latitude': 40.750116, 'pickup_longitude': -73.987503, 'trip_distance': 2.0, 'distance': 0.23158807500603873}\n",
      "{'pickup_latitude': 40.701734, 'pickup_longitude': -74.011263, 'trip_distance': 5.2, 'distance': 0.23700606385702783}\n",
      "{'pickup_latitude': 40.72635, 'pickup_longitude': -73.977049, 'trip_distance': 2.2, 'distance': 0.21212229444591232}\n",
      "{'pickup_latitude': 40.688702, 'pickup_longitude': -73.98921, 'trip_distance': 5.5, 'distance': 0.2126022166958785}\n",
      "{'pickup_latitude': 40.771385, 'pickup_longitude': -73.96467, 'trip_distance': 1.49, 'distance': 0.22283466163279245}\n",
      "{'pickup_latitude': 40.715884, 'pickup_longitude': -73.959979, 'trip_distance': 0.6, 'distance': 0.19236883967265345}\n",
      "{'pickup_latitude': 40.790046, 'pickup_longitude': -73.975066, 'trip_distance': 1.4, 'distance': 0.24216659181645936}\n",
      "{'pickup_latitude': 40.76418, 'pickup_longitude': -73.97822, 'trip_distance': 1.44, 'distance': 0.23031031457579013}\n",
      "{'pickup_latitude': 40.76041, 'pickup_longitude': -73.987652, 'trip_distance': 5.3, 'distance': 0.23656891681706674}\n",
      "{'pickup_latitude': 40.745647, 'pickup_longitude': -73.978275, 'trip_distance': 0.43, 'distance': 0.22133706710354584}\n",
      "{'pickup_latitude': 40.793261, 'pickup_longitude': -73.940565, 'trip_distance': 0.5, 'distance': 0.21770951211649775}\n",
      "{'pickup_latitude': 40.762111, 'pickup_longitude': -73.968438, 'trip_distance': 0.9, 'distance': 0.22089391930291544}\n",
      "{'pickup_latitude': 40.74733, 'pickup_longitude': -73.9969, 'trip_distance': 1.65, 'distance': 0.2387918300528717}\n",
      "{'pickup_latitude': 40.74886, 'pickup_longitude': -73.988666, 'trip_distance': 0.5, 'distance': 0.23206005075410846}\n",
      "{'pickup_latitude': 40.730145, 'pickup_longitude': -73.986395, 'trip_distance': 2.0, 'distance': 0.22220909983617257}\n",
      "{'pickup_latitude': 40.75318, 'pickup_longitude': -73.973152, 'trip_distance': 6.6, 'distance': 0.22038567127651687}\n",
      "{'pickup_latitude': 40.829557, 'pickup_longitude': -73.837699, 'trip_distance': 1.9, 'distance': 0.19303566222333352}\n",
      "{'pickup_latitude': 40.743102, 'pickup_longitude': -73.973988, 'trip_distance': 2.3, 'distance': 0.21636186999562454}\n",
      "{'pickup_latitude': 40.750445, 'pickup_longitude': -73.98674, 'trip_distance': 0.6, 'distance': 0.23105844525790475}\n",
      "{'pickup_latitude': 40.743475, 'pickup_longitude': -73.923155, 'trip_distance': 8.26, 'distance': 0.17281410605039918}\n",
      "{'pickup_latitude': 40.762752, 'pickup_longitude': -73.993035, 'trip_distance': 1.03, 'distance': 0.24241110096075175}\n",
      "{'pickup_latitude': 40.765577, 'pickup_longitude': -73.979713, 'trip_distance': 3.02, 'distance': 0.23231119115962312}\n",
      "{'pickup_latitude': 40.750027, 'pickup_longitude': -73.89876, 'trip_distance': 0.98, 'distance': 0.1576860281350266}\n",
      "{'pickup_latitude': 40.751947, 'pickup_longitude': -73.986142, 'trip_distance': 1.13, 'distance': 0.23121747320002015}\n",
      "{'pickup_latitude': 40.71972, 'pickup_longitude': -74.008841, 'trip_distance': 1.4, 'distance': 0.2396409071527723}\n",
      "{'pickup_latitude': 40.78079, 'pickup_longitude': -73.946522, 'trip_distance': 0.7, 'distance': 0.213984902233785}\n",
      "{'pickup_latitude': 40.751607, 'pickup_longitude': -73.993449, 'trip_distance': 0.4, 'distance': 0.23756693812481705}\n",
      "{'pickup_latitude': 40.745595, 'pickup_longitude': -73.988398, 'trip_distance': 1.36, 'distance': 0.23037599599134284}\n",
      "{'pickup_latitude': 40.72245, 'pickup_longitude': -73.98729, 'trip_distance': 7.46, 'distance': 0.22021296782887773}\n",
      "{'pickup_latitude': 40.702557, 'pickup_longitude': -73.93467, 'trip_distance': 3.03, 'distance': 0.1639583785263808}\n",
      "{'pickup_latitude': 40.734659, 'pickup_longitude': -73.98004, 'trip_distance': 2.1, 'distance': 0.21816911252742086}\n",
      "{'pickup_latitude': 40.764774, 'pickup_longitude': -73.992049, 'trip_distance': 0.5, 'distance': 0.2425419445312495}\n",
      "{'pickup_latitude': 40.723516, 'pickup_longitude': -73.985065, 'trip_distance': 0.4, 'distance': 0.21851237928548395}\n",
      "{'pickup_latitude': 40.781072, 'pickup_longitude': -73.983538, 'trip_distance': 1.88, 'distance': 0.24388360598449446}\n",
      "{'pickup_latitude': 40.793005, 'pickup_longitude': -73.973026, 'trip_distance': 1.3, 'distance': 0.24233208537253836}\n",
      "{'pickup_latitude': 40.721025, 'pickup_longitude': -73.993857, 'trip_distance': 5.29, 'distance': 0.22588844386998502}\n",
      "{'pickup_latitude': 40.768497, 'pickup_longitude': -73.899785, 'trip_distance': 0.7, 'distance': 0.1712549043794084}\n",
      "{'pickup_latitude': 40.80726, 'pickup_longitude': -73.954179, 'trip_distance': 0.0, 'distance': 0.23721422331091302}\n",
      "{'pickup_latitude': 40.773715, 'pickup_longitude': -73.963908, 'trip_distance': 1.72, 'distance': 0.22354107494821449}\n",
      "{'pickup_latitude': 40.780082, 'pickup_longitude': -73.956843, 'trip_distance': 1.42, 'distance': 0.2216255371409248}\n",
      "{'pickup_latitude': 40.741824, 'pickup_longitude': -73.982933, 'trip_distance': 7.4, 'distance': 0.22381510816967357}\n",
      "{'pickup_latitude': 40.742112, 'pickup_longitude': -74.004672, 'trip_distance': 3.12, 'distance': 0.2437104170280806}\n",
      "{'pickup_latitude': 40.725925, 'pickup_longitude': -74.007585, 'trip_distance': 5.4, 'distance': 0.24046472392017015}\n",
      "{'pickup_latitude': 40.645718, 'pickup_longitude': -73.776765, 'trip_distance': 20.5, 'distance': 0.004445020697364217}\n",
      "{'pickup_latitude': 40.718398, 'pickup_longitude': -73.994967, 'trip_distance': 9.4, 'distance': 0.2260673438447106}\n",
      "{'pickup_latitude': 0.0, 'pickup_longitude': 0.0, 'trip_distance': 2.8, 'distance': 84.23581962219279}\n",
      "{'pickup_latitude': 40.736343, 'pickup_longitude': -73.99289, 'trip_distance': 0.7, 'distance': 0.2306061538836338}\n",
      "{'pickup_latitude': 40.753827, 'pickup_longitude': -73.994472, 'trip_distance': 17.65, 'distance': 0.2394822921491325}\n",
      "{'pickup_latitude': 40.750693, 'pickup_longitude': -73.971834, 'trip_distance': 1.8, 'distance': 0.2180218155712895}\n",
      "{'pickup_latitude': 40.745964, 'pickup_longitude': -73.991152, 'trip_distance': 0.8, 'distance': 0.2330162841519909}\n",
      "{'pickup_latitude': 40.740482, 'pickup_longitude': -74.004042, 'trip_distance': 1.93, 'distance': 0.2424862176042192}\n",
      "{'pickup_latitude': 0.0, 'pickup_longitude': 0.0, 'trip_distance': 0.3, 'distance': 84.23581962219279}\n",
      "{'pickup_latitude': 40.803842, 'pickup_longitude': -73.966812, 'trip_distance': 8.74, 'distance': 0.24434470763248356}\n",
      "{'pickup_latitude': 40.797632, 'pickup_longitude': -73.969822, 'trip_distance': 0.73, 'distance': 0.24268643091033923}\n",
      "{'pickup_latitude': 40.645322, 'pickup_longitude': -73.776652, 'trip_distance': 19.05, 'distance': 0.0045102359140052955}\n",
      "{'pickup_latitude': 40.749207, 'pickup_longitude': -74.003233, 'trip_distance': 0.75, 'distance': 0.24532028448132598}\n",
      "{'pickup_latitude': 40.765548, 'pickup_longitude': -73.983683, 'trip_distance': 2.1, 'distance': 0.23569863693496754}\n",
      "{'pickup_latitude': 40.760289, 'pickup_longitude': -73.931531, 'trip_distance': 0.8, 'distance': 0.1894948668486909}\n",
      "{'pickup_latitude': 40.778967, 'pickup_longitude': -73.981767, 'trip_distance': 3.6, 'distance': 0.2412405795425051}\n",
      "{'pickup_latitude': 40.7582, 'pickup_longitude': -73.973285, 'trip_distance': 3.59, 'distance': 0.22300753871787246}\n",
      "{'pickup_latitude': 40.730709, 'pickup_longitude': -73.990504, 'trip_distance': 2.5, 'distance': 0.22622299679078062}\n",
      "{'pickup_latitude': 40.7456, 'pickup_longitude': -73.97814, 'trip_distance': 1.29, 'distance': 0.22119546152667885}\n",
      "{'pickup_latitude': 40.719471, 'pickup_longitude': -73.999779, 'trip_distance': 1.4, 'distance': 0.23096765791340332}\n",
      "{'pickup_latitude': 40.75619, 'pickup_longitude': -73.974282, 'trip_distance': 1.03, 'distance': 0.22285737462332592}\n",
      "{'pickup_latitude': 40.639542, 'pickup_longitude': -73.967915, 'trip_distance': 3.08, 'distance': 0.1868444431311863}\n",
      "{'pickup_latitude': 40.78366, 'pickup_longitude': -73.97427, 'trip_distance': 1.77, 'distance': 0.23774924458345234}\n",
      "{'pickup_latitude': 40.7464, 'pickup_longitude': -73.97771, 'trip_distance': 0.74, 'distance': 0.22117825774700892}\n",
      "{'pickup_latitude': 40.727475, 'pickup_longitude': -73.98533, 'trip_distance': 3.98, 'distance': 0.22021182444410883}\n",
      "{'pickup_latitude': 40.735015, 'pickup_longitude': -74.006024, 'trip_distance': 1.3, 'distance': 0.2422247231415476}\n",
      "{'pickup_latitude': 0.0, 'pickup_longitude': 0.0, 'trip_distance': 1.1, 'distance': 84.23581962219279}\n",
      "{'pickup_latitude': 0.0, 'pickup_longitude': 0.0, 'trip_distance': 1.33, 'distance': 84.23581962219279}\n",
      "{'pickup_latitude': 40.754176, 'pickup_longitude': -74.04442, 'trip_distance': 1.8, 'distance': 0.2850134654643588}\n",
      "{'pickup_latitude': 40.740112, 'pickup_longitude': -73.994987, 'trip_distance': 1.1, 'distance': 0.2340394356791176}\n",
      "{'pickup_latitude': 40.719972, 'pickup_longitude': -73.987553, 'trip_distance': 2.07, 'distance': 0.21960077124865343}\n",
      "{'pickup_latitude': 40.70517, 'pickup_longitude': -74.006987, 'trip_distance': 2.43, 'distance': 0.23371774209289212}\n",
      "{'pickup_latitude': 40.789142, 'pickup_longitude': -73.970472, 'trip_distance': 2.18, 'distance': 0.23795507724778872}\n",
      "{'pickup_latitude': 40.749115, 'pickup_longitude': -73.984182, 'trip_distance': 4.72, 'distance': 0.22817539010376145}\n",
      "{'pickup_latitude': 40.76443, 'pickup_longitude': -73.992037, 'trip_distance': 2.15, 'distance': 0.24236179643045888}\n",
      "{'pickup_latitude': 40.756477, 'pickup_longitude': -73.990472, 'trip_distance': 3.5, 'distance': 0.23716039056511815}\n",
      "{'pickup_latitude': 40.746142, 'pickup_longitude': -73.984852, 'trip_distance': 1.52, 'distance': 0.22743401660262397}\n",
      "{'pickup_latitude': 40.747856, 'pickup_longitude': -73.989088, 'trip_distance': 1.4, 'distance': 0.23199057265328515}\n",
      "{'pickup_latitude': 40.772615, 'pickup_longitude': -73.964789, 'trip_distance': 1.3, 'distance': 0.22363233877505345}\n",
      "{'pickup_latitude': 40.761912, 'pickup_longitude': -73.975275, 'trip_distance': 0.6, 'distance': 0.22661701107595703}\n",
      "{'pickup_latitude': 40.740991, 'pickup_longitude': -74.005581, 'trip_distance': 1.0, 'distance': 0.24410134322040225}\n",
      "{'pickup_latitude': 40.764115, 'pickup_longitude': -73.97707, 'trip_distance': 3.84, 'distance': 0.2292932882249274}\n",
      "{'pickup_latitude': 40.728808, 'pickup_longitude': -73.987538, 'trip_distance': 16.4, 'distance': 0.2227587566584124}\n",
      "{'pickup_latitude': 40.725511, 'pickup_longitude': -73.991953, 'trip_distance': 4.2, 'distance': 0.2256580072809271}\n",
      "{'pickup_latitude': 40.768967, 'pickup_longitude': -73.954822, 'trip_distance': 1.09, 'distance': 0.21338289554929088}\n",
      "{'pickup_latitude': 40.75652, 'pickup_longitude': -73.973926, 'trip_distance': 2.7, 'distance': 0.2227140028736495}\n",
      "{'pickup_latitude': 40.751217, 'pickup_longitude': -73.970895, 'trip_distance': 0.88, 'distance': 0.21745652566432705}\n",
      "{'pickup_latitude': 40.779557, 'pickup_longitude': -73.977187, 'trip_distance': 1.09, 'distance': 0.23777885284019848}\n",
      "{'pickup_latitude': 40.771472, 'pickup_longitude': -73.8755, 'trip_distance': 12.06, 'distance': 0.15779613057360375}\n",
      "{'pickup_latitude': 40.73832, 'pickup_longitude': -73.9918, 'trip_distance': 0.45, 'distance': 0.23039946050284227}\n",
      "{'pickup_latitude': 40.643172, 'pickup_longitude': -73.789035, 'trip_distance': 19.03, 'distance': 0.008091869314319596}\n",
      "{'pickup_latitude': 40.769387, 'pickup_longitude': -73.953623, 'trip_distance': 0.45, 'distance': 0.21265358999555892}\n",
      "{'pickup_latitude': 40.731752, 'pickup_longitude': -74.000932, 'trip_distance': 1.28, 'distance': 0.23628747780617598}\n",
      "{'pickup_latitude': 40.745874, 'pickup_longitude': -73.991095, 'trip_distance': 16.1, 'distance': 0.23292592058635747}\n",
      "{'pickup_latitude': 40.767867, 'pickup_longitude': -73.963893, 'trip_distance': 0.2, 'distance': 0.220212990484216}\n",
      "{'pickup_latitude': 40.766245, 'pickup_longitude': -73.98354, 'trip_distance': 1.04, 'distance': 0.23593322598778418}\n",
      "{'pickup_latitude': 40.753485, 'pickup_longitude': -73.97311, 'trip_distance': 0.76, 'distance': 0.22049899461222697}\n",
      "{'pickup_latitude': 40.726597, 'pickup_longitude': -73.986165, 'trip_distance': 1.26, 'distance': 0.2206600386884788}\n",
      "{'pickup_latitude': 40.7446, 'pickup_longitude': -73.985232, 'trip_distance': 0.59, 'distance': 0.22709384585232498}\n",
      "{'pickup_latitude': 40.756806, 'pickup_longitude': -73.969385, 'trip_distance': 2.8, 'distance': 0.2189411635143142}\n",
      "{'pickup_latitude': 40.783447, 'pickup_longitude': -73.947283, 'trip_distance': 1.42, 'distance': 0.21626491749241572}\n",
      "{'pickup_latitude': 40.758985, 'pickup_longitude': -73.989435, 'trip_distance': 6.13, 'distance': 0.23743946860200418}\n",
      "{'pickup_latitude': 40.645316, 'pickup_longitude': -73.776808, 'trip_distance': 17.5, 'distance': 0.004354220940644754}\n",
      "{'pickup_latitude': 40.762868, 'pickup_longitude': -73.983233, 'trip_distance': 8.3, 'distance': 0.23395034039941068}\n",
      "{'pickup_latitude': 40.761322, 'pickup_longitude': -73.975755, 'trip_distance': 0.65, 'distance': 0.22672503225052992}\n",
      "{'pickup_latitude': 40.771097, 'pickup_longitude': -73.865913, 'trip_distance': 9.61, 'distance': 0.15194650906816182}\n",
      "{'pickup_latitude': 40.760195, 'pickup_longitude': -73.967307, 'trip_distance': 2.3, 'distance': 0.21892149431703573}\n",
      "{'pickup_latitude': 40.73286, 'pickup_longitude': -74.00007, 'trip_distance': 4.92, 'distance': 0.23589638254962528}\n",
      "{'pickup_latitude': 40.75952, 'pickup_longitude': -73.985488, 'trip_distance': 2.4, 'distance': 0.2342458946150462}\n",
      "{'pickup_latitude': 40.821517, 'pickup_longitude': -73.954177, 'trip_distance': 0.6, 'distance': 0.24718439363762768}\n",
      "{'pickup_latitude': 40.734922, 'pickup_longitude': -73.990548, 'trip_distance': 1.2, 'distance': 0.22789314826910134}\n",
      "{'pickup_latitude': 40.757594, 'pickup_longitude': -73.989531, 'trip_distance': 1.3, 'distance': 0.23685924507394812}\n",
      "{'pickup_latitude': 40.748042, 'pickup_longitude': -73.880385, 'trip_distance': 0.63, 'distance': 0.1430639714568314}\n",
      "{'pickup_latitude': 40.74957, 'pickup_longitude': -73.992772, 'trip_distance': 6.04, 'distance': 0.2360526366808938}\n",
      "{'pickup_latitude': 40.759663, 'pickup_longitude': -73.981141, 'trip_distance': 2.2, 'distance': 0.23053480650435332}\n",
      "{'pickup_latitude': 40.756397, 'pickup_longitude': -73.966882, 'trip_distance': 1.85, 'distance': 0.2165823064633871}\n",
      "{'pickup_latitude': 40.68078, 'pickup_longitude': -73.967735, 'trip_distance': 1.56, 'distance': 0.1899865424839425}\n",
      "{'pickup_latitude': 40.749994, 'pickup_longitude': -73.994031, 'trip_distance': 2.9, 'distance': 0.23736924859173417}\n",
      "{'pickup_latitude': 40.801351, 'pickup_longitude': -73.961519, 'trip_distance': 0.7, 'distance': 0.23870848012167187}\n",
      "{'pickup_latitude': 40.766223, 'pickup_longitude': -73.981952, 'trip_distance': 2.4, 'distance': 0.23456104427846333}\n",
      "{'pickup_latitude': 40.740045, 'pickup_longitude': -73.982178, 'trip_distance': 2.08, 'distance': 0.22236841009685618}\n",
      "{'pickup_latitude': 40.801657, 'pickup_longitude': -73.934415, 'trip_distance': 6.58, 'distance': 0.21916822104037126}\n",
      "{'pickup_latitude': 40.738722, 'pickup_longitude': -73.987027, 'trip_distance': 5.25, 'distance': 0.2262101389261784}\n",
      "{'pickup_latitude': 40.742172, 'pickup_longitude': -74.00809, 'trip_distance': 1.3, 'distance': 0.24687264879690274}\n",
      "{'pickup_latitude': 40.775633, 'pickup_longitude': -73.98233, 'trip_distance': 2.8, 'distance': 0.2398770223447902}\n",
      "{'pickup_latitude': 40.792377, 'pickup_longitude': -73.96788, 'trip_distance': 1.29, 'distance': 0.23788867284719445}\n",
      "{'pickup_latitude': 40.659956, 'pickup_longitude': -73.99842, 'trip_distance': 3.2, 'distance': 0.2177848343112984}\n",
      "{'pickup_latitude': 40.7655, 'pickup_longitude': -73.97585, 'trip_distance': 0.78, 'distance': 0.22897761921200885}\n",
      "{'pickup_latitude': 40.737997, 'pickup_longitude': -73.992069, 'trip_distance': 7.4, 'distance': 0.2305149162418817}\n",
      "{'pickup_latitude': 40.711467, 'pickup_longitude': -73.945825, 'trip_distance': 8.8, 'distance': 0.17758673135682382}\n",
      "{'pickup_latitude': 0.0, 'pickup_longitude': 0.0, 'trip_distance': 0.1, 'distance': 84.23581962219279}\n",
      "{'pickup_latitude': 40.710822, 'pickup_longitude': -74.015592, 'trip_distance': 3.63, 'distance': 0.24350955543469066}\n",
      "{'pickup_latitude': 40.763597, 'pickup_longitude': -73.97968, 'trip_distance': 1.51, 'distance': 0.23126128372254923}\n",
      "{'pickup_latitude': 40.744277, 'pickup_longitude': -73.973007, 'trip_distance': 1.5, 'distance': 0.21602550038826185}\n",
      "{'pickup_latitude': 40.774152, 'pickup_longitude': -73.873092, 'trip_distance': 6.54, 'distance': 0.15854385389538378}\n",
      "{'pickup_latitude': 40.773736, 'pickup_longitude': -73.959905, 'trip_distance': 0.2, 'distance': 0.22029272012711476}\n",
      "{'pickup_latitude': 40.740018, 'pickup_longitude': -74.005399, 'trip_distance': 4.5, 'distance': 0.2435527351211643}\n",
      "{'pickup_latitude': 40.750094, 'pickup_longitude': -73.979116, 'trip_distance': 1.0, 'distance': 0.22413698483740388}\n",
      "{'pickup_latitude': 40.741317, 'pickup_longitude': -73.983402, 'trip_distance': 2.06, 'distance': 0.22401955814839253}\n",
      "{'pickup_latitude': 40.75885, 'pickup_longitude': -73.965817, 'trip_distance': 1.9, 'distance': 0.2169469992624979}\n",
      "{'pickup_latitude': 40.687077, 'pickup_longitude': -73.990203, 'trip_distance': 2.6, 'distance': 0.21324744401281587}\n",
      "{'pickup_latitude': 40.76705, 'pickup_longitude': -73.979222, 'trip_distance': 0.72, 'distance': 0.23266104268656138}\n",
      "{'pickup_latitude': 40.72257, 'pickup_longitude': -73.997073, 'trip_distance': 1.0, 'distance': 0.22943713371858793}\n",
      "{'pickup_latitude': 40.77958, 'pickup_longitude': -73.957862, 'trip_distance': 0.25, 'distance': 0.22212968969501573}\n",
      "{'pickup_latitude': 40.7385, 'pickup_longitude': -73.9853, 'trip_distance': 1.34, 'distance': 0.2245469719234703}\n",
      "{'pickup_latitude': 40.770377, 'pickup_longitude': -73.982127, 'trip_distance': 2.1, 'distance': 0.23688320813853486}\n",
      "{'pickup_latitude': 40.75906, 'pickup_longitude': -73.983681, 'trip_distance': 3.3, 'distance': 0.23244519969447128}\n",
      "{'pickup_latitude': 40.689827, 'pickup_longitude': -73.99235, 'trip_distance': 2.24, 'distance': 0.21590691644549576}\n",
      "{'pickup_latitude': 40.766367, 'pickup_longitude': -73.952442, 'trip_distance': 17.55, 'distance': 0.20993647942414254}\n",
      "{'pickup_latitude': 40.717302, 'pickup_longitude': -73.99898, 'trip_distance': 3.08, 'distance': 0.22951891914176117}\n",
      "{'pickup_latitude': 40.642817, 'pickup_longitude': -73.788912, 'trip_distance': 24.55, 'distance': 0.008060432556630562}\n",
      "{'pickup_latitude': 40.766804, 'pickup_longitude': -73.969071, 'trip_distance': 5.1, 'distance': 0.2239485495309162}\n",
      "{'pickup_latitude': 40.762317, 'pickup_longitude': -73.98593, 'trip_distance': 1.18, 'distance': 0.23600947720165927}\n",
      "{'pickup_latitude': 40.734099, 'pickup_longitude': -73.999288, 'trip_distance': 1.3, 'distance': 0.23563658655863404}\n",
      "{'pickup_latitude': 40.770737, 'pickup_longitude': -73.957142, 'trip_distance': 2.58, 'distance': 0.21629954247062572}\n",
      "{'pickup_latitude': 40.724919, 'pickup_longitude': -73.998967, 'trip_distance': 2.6, 'distance': 0.23201915983383464}\n",
      "{'pickup_latitude': 40.729687, 'pickup_longitude': -73.998358, 'trip_distance': 1.2, 'distance': 0.23313707785978505}\n",
      "{'pickup_latitude': 40.744083, 'pickup_longitude': -73.985687, 'trip_distance': 0.9, 'distance': 0.2272769390369412}\n",
      "{'pickup_latitude': 40.726413, 'pickup_longitude': -73.977196, 'trip_distance': 1.3, 'distance': 0.21228221556457327}\n",
      "{'pickup_latitude': 40.794009, 'pickup_longitude': -73.966721, 'trip_distance': 0.6, 'distance': 0.23799844201591858}\n",
      "{'pickup_latitude': 40.74589, 'pickup_longitude': -73.994388, 'trip_distance': 1.4, 'distance': 0.23590518146917058}\n",
      "{'pickup_latitude': 40.75284, 'pickup_longitude': -73.989232, 'trip_distance': 0.35, 'distance': 0.23437094790950883}\n",
      "{'pickup_latitude': 40.777652, 'pickup_longitude': -73.959298, 'trip_distance': 1.14, 'distance': 0.222116897484193}\n",
      "{'pickup_latitude': 40.726935, 'pickup_longitude': -73.991668, 'trip_distance': 2.06, 'distance': 0.22590442967990415}\n",
      "{'pickup_latitude': 40.74969, 'pickup_longitude': -73.97751, 'trip_distance': 1.01, 'distance': 0.22252941288737466}\n",
      "{'pickup_latitude': 40.709355, 'pickup_longitude': -74.016717, 'trip_distance': 5.14, 'distance': 0.24420209809500365}\n",
      "{'pickup_latitude': 40.750099, 'pickup_longitude': -73.99125, 'trip_distance': 3.0, 'distance': 0.2349253325654739}\n",
      "{'pickup_latitude': 40.777513, 'pickup_longitude': -73.948801, 'trip_distance': 0.5, 'distance': 0.21370354075214082}\n",
      "{'pickup_latitude': 40.64534, 'pickup_longitude': -73.77668, 'trip_distance': 21.44, 'distance': 0.004483681523031949}\n",
      "{'pickup_latitude': 40.794572, 'pickup_longitude': -73.97205, 'trip_distance': 0.76, 'distance': 0.2425233694389066}\n",
      "{'pickup_latitude': 40.76084, 'pickup_longitude': -73.971439, 'trip_distance': 1.1, 'distance': 0.22278044353354515}\n",
      "{'pickup_latitude': 40.758902, 'pickup_longitude': -73.979668, 'trip_distance': 0.2, 'distance': 0.22887843950010367}\n",
      "{'pickup_latitude': 40.756082, 'pickup_longitude': -73.976395, 'trip_distance': 1.12, 'distance': 0.22463758031326772}\n",
      "{'pickup_latitude': 40.746631, 'pickup_longitude': -73.9819, 'trip_distance': 0.6, 'distance': 0.22501434483383473}\n",
      "{'pickup_latitude': 40.787612, 'pickup_longitude': -73.977033, 'trip_distance': 1.06, 'distance': 0.24230390952893105}\n",
      "{'pickup_latitude': 40.748875, 'pickup_longitude': -73.982345, 'trip_distance': 1.44, 'distance': 0.22643215595404956}\n",
      "{'pickup_latitude': 0.0, 'pickup_longitude': 0.0, 'trip_distance': 1.18, 'distance': 84.23581962219279}\n",
      "{'pickup_latitude': 40.734924, 'pickup_longitude': -73.989973, 'trip_distance': 3.3, 'distance': 0.22736571791939938}\n",
      "{'pickup_latitude': 40.755682, 'pickup_longitude': -73.979288, 'trip_distance': 1.24, 'distance': 0.22696119912443208}\n",
      "{'pickup_latitude': 40.757465, 'pickup_longitude': -73.963752, 'trip_distance': 1.05, 'distance': 0.21446238837847956}\n",
      "{'pickup_latitude': 40.751163, 'pickup_longitude': -73.994115, 'trip_distance': 1.1, 'distance': 0.23796385682283422}\n",
      "{'pickup_latitude': 40.754707, 'pickup_longitude': -73.986173, 'trip_distance': 5.64, 'distance': 0.2325344073852288}\n",
      "{'pickup_latitude': 40.768512, 'pickup_longitude': -73.965495, 'trip_distance': 1.14, 'distance': 0.22190259914882268}\n",
      "{'pickup_latitude': 40.770792, 'pickup_longitude': -73.961915, 'trip_distance': 0.37, 'distance': 0.22023198775155928}\n",
      "{'pickup_latitude': 40.780672, 'pickup_longitude': -73.952653, 'trip_distance': 1.21, 'distance': 0.21868443962248707}\n",
      "{'pickup_latitude': 40.733568, 'pickup_longitude': -73.995547, 'trip_distance': 2.3, 'distance': 0.23197442896362944}\n",
      "{'pickup_latitude': 40.74998, 'pickup_longitude': -73.99179, 'trip_distance': 1.42, 'distance': 0.23535528398572084}\n",
      "{'pickup_latitude': 40.72235, 'pickup_longitude': -73.986202, 'trip_distance': 3.2, 'distance': 0.21915951337782158}\n",
      "{'pickup_latitude': 40.77081, 'pickup_longitude': -73.956903, 'trip_distance': 2.9, 'distance': 0.21614761023198809}\n",
      "{'pickup_latitude': 40.771152, 'pickup_longitude': -73.95672, 'trip_distance': 4.33, 'distance': 0.2161982311306058}\n",
      "{'pickup_latitude': 40.790777, 'pickup_longitude': -73.973482, 'trip_distance': 19.6, 'distance': 0.241340936421906}\n",
      "{'pickup_latitude': 40.716232, 'pickup_longitude': -74.013591, 'trip_distance': 4.0, 'distance': 0.24311363813040948}\n",
      "{'pickup_latitude': 40.74277, 'pickup_longitude': -73.984523, 'trip_distance': 0.4, 'distance': 0.2256579392110982}\n",
      "{'pickup_latitude': 40.726791, 'pickup_longitude': -73.999842, 'trip_distance': 1.4, 'distance': 0.23349003076149027}\n",
      "{'pickup_latitude': 40.774935, 'pickup_longitude': -73.963839, 'trip_distance': 0.4, 'distance': 0.22418959330441382}\n",
      "{'pickup_latitude': 40.752832, 'pickup_longitude': -73.979423, 'trip_distance': 1.1, 'distance': 0.22570352122419293}\n",
      "{'pickup_latitude': 40.732783, 'pickup_longitude': -73.985831, 'trip_distance': 0.7, 'distance': 0.2227148908582514}\n",
      "{'pickup_latitude': 40.75176, 'pickup_longitude': -73.986138, 'trip_distance': 1.76, 'distance': 0.23112748223437107}\n",
      "{'pickup_latitude': 40.772827, 'pickup_longitude': -73.981567, 'trip_distance': 2.03, 'distance': 0.2377167904419049}\n",
      "{'pickup_latitude': 40.786305, 'pickup_longitude': -73.977741, 'trip_distance': 6.2, 'distance': 0.24211144232769927}\n",
      "{'pickup_latitude': 40.71986, 'pickup_longitude': -74.01021, 'trip_distance': 5.53, 'distance': 0.24098547777822923}\n",
      "{'pickup_latitude': 40.748193, 'pickup_longitude': -73.984715, 'trip_distance': 1.3, 'distance': 0.22823139230613987}\n",
      "{'pickup_latitude': 40.734642, 'pickup_longitude': -73.992515, 'trip_distance': 4.7, 'distance': 0.229592343794388}\n",
      "{'pickup_latitude': 40.758495, 'pickup_longitude': -73.98159, 'trip_distance': 2.79, 'distance': 0.23034664882520206}\n",
      "{'pickup_latitude': 40.750711, 'pickup_longitude': -73.991913, 'trip_distance': 2.5, 'distance': 0.23579222211515072}\n",
      "{'pickup_latitude': 40.751085, 'pickup_longitude': -73.990382, 'trip_distance': 1.05, 'distance': 0.23459364622470225}\n",
      "{'pickup_latitude': 40.696647, 'pickup_longitude': -73.99152, 'trip_distance': 8.44, 'distance': 0.21661944176134978}\n",
      "{'pickup_latitude': 40.766092, 'pickup_longitude': -73.982632, 'trip_distance': 1.25, 'distance': 0.235075925453883}\n",
      "{'pickup_latitude': 40.77293, 'pickup_longitude': -73.88525, 'trip_distance': 9.41, 'distance': 0.16494075784960227}\n",
      "{'pickup_latitude': 40.644032, 'pickup_longitude': -73.790294, 'trip_distance': 23.7, 'distance': 0.009194046987051402}\n",
      "{'pickup_latitude': 40.758261, 'pickup_longitude': -73.970859, 'trip_distance': 2.1, 'distance': 0.22095208557966212}\n",
      "{'pickup_latitude': 40.778392, 'pickup_longitude': -73.985658, 'trip_distance': 0.8, 'distance': 0.24417128346306574}\n",
      "{'pickup_latitude': 40.758372, 'pickup_longitude': -73.963047, 'trip_distance': 0.72, 'distance': 0.21434084196205505}\n",
      "{'pickup_latitude': 40.752788, 'pickup_longitude': -73.975128, 'trip_distance': 6.2, 'distance': 0.2219186186150253}\n",
      "{'pickup_latitude': 40.741972, 'pickup_longitude': -74.007642, 'trip_distance': 3.05, 'distance': 0.24638209023385366}\n",
      "{'pickup_latitude': 40.764972, 'pickup_longitude': -73.977855, 'trip_distance': 0.4, 'distance': 0.23040949925947807}\n",
      "{'pickup_latitude': 40.742227, 'pickup_longitude': -73.982747, 'trip_distance': 0.72, 'distance': 0.2238222164531543}\n",
      "{'pickup_latitude': 40.743594, 'pickup_longitude': -73.979374, 'trip_distance': 3.2, 'distance': 0.22139445113192077}\n",
      "{'pickup_latitude': 40.774852, 'pickup_longitude': -73.961215, 'trip_distance': 4.83, 'distance': 0.2220079801921552}\n",
      "{'pickup_latitude': 40.786657, 'pickup_longitude': -73.975743, 'trip_distance': 13.75, 'distance': 0.2406989292414874}\n",
      "{'pickup_latitude': 40.731236, 'pickup_longitude': -74.001455, 'trip_distance': 1.7, 'distance': 0.23658542968873855}\n",
      "{'pickup_latitude': 40.724197, 'pickup_longitude': -73.978797, 'trip_distance': 4.8, 'distance': 0.21292741828614004}\n",
      "{'pickup_latitude': 40.735687, 'pickup_longitude': -74.005065, 'trip_distance': 1.51, 'distance': 0.2415861606839309}\n",
      "{'pickup_latitude': 40.724007, 'pickup_longitude': -73.978812, 'trip_distance': 3.2, 'distance': 0.21287074137373435}\n",
      "{'pickup_latitude': 40.751962, 'pickup_longitude': -73.993918, 'trip_distance': 1.7, 'distance': 0.2381453980407736}\n",
      "{'pickup_latitude': 40.744422, 'pickup_longitude': -73.976127, 'trip_distance': 2.03, 'distance': 0.21886697593059443}\n",
      "{'pickup_latitude': 40.76944, 'pickup_longitude': -73.952025, 'trip_distance': 2.11, 'distance': 0.21139079479722855}\n",
      "{'pickup_latitude': 40.755972, 'pickup_longitude': -73.972347, 'trip_distance': 2.54, 'distance': 0.22107305836080737}\n",
      "{'pickup_latitude': 40.782482, 'pickup_longitude': -73.957812, 'trip_distance': 8.47, 'distance': 0.22386047509107787}\n",
      "{'pickup_latitude': 40.739142, 'pickup_longitude': -74.00807, 'trip_distance': 1.98, 'distance': 0.2456771977697632}\n",
      "{'pickup_latitude': 40.752412, 'pickup_longitude': -73.977267, 'trip_distance': 1.31, 'distance': 0.22360984721831978}\n",
      "{'pickup_latitude': 0.0, 'pickup_longitude': 0.0, 'trip_distance': 3.2, 'distance': 84.23581962219279}\n",
      "{'pickup_latitude': 40.771168, 'pickup_longitude': -73.963929, 'trip_distance': 1.5, 'distance': 0.22210144196965376}\n",
      "{'pickup_latitude': 40.756005, 'pickup_longitude': -73.973294, 'trip_distance': 6.7, 'distance': 0.22190909616552457}\n",
      "{'pickup_latitude': 40.778415, 'pickup_longitude': -73.945392, 'trip_distance': 1.0, 'distance': 0.2116073372759111}\n",
      "{'pickup_latitude': 40.766653, 'pickup_longitude': -73.957138, 'trip_distance': 1.1, 'distance': 0.21394780137454292}\n",
      "{'pickup_latitude': 40.746032, 'pickup_longitude': -73.97976, 'trip_distance': 1.3, 'distance': 0.2228349565575401}\n",
      "{'pickup_latitude': 40.763352, 'pickup_longitude': -73.996385, 'trip_distance': 2.1, 'distance': 0.24563319862958757}\n",
      "{'pickup_latitude': 40.755782, 'pickup_longitude': -73.983322, 'trip_distance': 6.89, 'distance': 0.23053933470885743}\n",
      "{'pickup_latitude': 40.769837, 'pickup_longitude': -73.982025, 'trip_distance': 0.8, 'distance': 0.23651118162573032}\n",
      "{'pickup_latitude': 40.773009, 'pickup_longitude': -73.885269, 'trip_distance': 8.2, 'distance': 0.16501403128825104}\n",
      "{'pickup_latitude': 40.799458, 'pickup_longitude': -73.968139, 'trip_distance': 4.2, 'distance': 0.24253917033130812}\n",
      "{'pickup_latitude': 40.777555, 'pickup_longitude': -73.961237, 'trip_distance': 1.18, 'distance': 0.2236175458098045}\n",
      "{'pickup_latitude': 40.80409, 'pickup_longitude': -73.966942, 'trip_distance': 0.68, 'distance': 0.24460473679796776}\n",
      "{'pickup_latitude': 40.713948, 'pickup_longitude': -73.951672, 'trip_distance': 2.8, 'distance': 0.18393737588647427}\n",
      "{'pickup_latitude': 40.741453, 'pickup_longitude': -74.006441, 'trip_distance': 1.6, 'distance': 0.24507375430673795}\n",
      "{'pickup_latitude': 40.79858, 'pickup_longitude': -73.969018, 'trip_distance': 0.3, 'distance': 0.24266081991949934}\n",
      "{'pickup_latitude': 40.721519, 'pickup_longitude': -73.956165, 'trip_distance': 7.1, 'distance': 0.19101554404288879}\n",
      "{'pickup_latitude': 40.744341, 'pickup_longitude': -74.006568, 'trip_distance': 2.1, 'distance': 0.24634101551508203}\n",
      "{'pickup_latitude': 40.750106, 'pickup_longitude': -73.991395, 'trip_distance': 0.8, 'distance': 0.2350581491482495}\n",
      "{'pickup_latitude': 40.815817, 'pickup_longitude': -73.958397, 'trip_distance': 4.59, 'distance': 0.2461673474244785}\n",
      "{'pickup_latitude': 40.772255, 'pickup_longitude': -73.982507, 'trip_distance': 2.5, 'distance': 0.23820373984050072}\n",
      "{'pickup_latitude': 40.756412, 'pickup_longitude': -73.967363, 'trip_distance': 1.0, 'distance': 0.2170026346683443}\n",
      "{'pickup_latitude': 40.729556, 'pickup_longitude': -73.99331, 'trip_distance': 0.8, 'distance': 0.2283928062702484}\n",
      "{'pickup_latitude': 40.774627, 'pickup_longitude': -73.957909, 'trip_distance': 2.2, 'distance': 0.2192019522039028}\n",
      "{'pickup_latitude': 40.744418, 'pickup_longitude': -73.983521, 'trip_distance': 6.8, 'distance': 0.22547715810032817}\n",
      "{'pickup_latitude': 40.795953, 'pickup_longitude': -73.970739, 'trip_distance': 6.4, 'distance': 0.24235060612674034}\n",
      "{'pickup_latitude': 40.735785, 'pickup_longitude': -74.006038, 'trip_distance': 8.3, 'distance': 0.24252493597360908}\n",
      "{'pickup_latitude': 40.741275, 'pickup_longitude': -73.981362, 'trip_distance': 1.51, 'distance': 0.22216130664227599}\n",
      "{'pickup_latitude': 40.759037, 'pickup_longitude': -73.968693, 'trip_distance': 1.1, 'distance': 0.21949736913685725}\n",
      "{'pickup_latitude': 40.7642, 'pickup_longitude': -73.954807, 'trip_distance': 3.8, 'distance': 0.2106366011618175}\n",
      "{'pickup_latitude': 40.779383, 'pickup_longitude': -73.95955, 'trip_distance': 1.0, 'distance': 0.22335630380403296}\n",
      "{'pickup_latitude': 40.72638, 'pickup_longitude': -74.002, 'trip_distance': 3.42, 'distance': 0.23537003760036926}\n",
      "{'pickup_latitude': 40.716736, 'pickup_longitude': -73.997696, 'trip_distance': 1.8, 'distance': 0.22812202574938517}\n",
      "{'pickup_latitude': 40.751872, 'pickup_longitude': -73.987503, 'trip_distance': 10.74, 'distance': 0.23239045275785897}\n",
      "{'pickup_latitude': 40.774462, 'pickup_longitude': -73.988552, 'trip_distance': 1.36, 'distance': 0.24449660199683906}\n",
      "{'pickup_latitude': 40.748208, 'pickup_longitude': -74.005309, 'trip_distance': 4.3, 'distance': 0.24678171083976166}\n",
      "{'pickup_latitude': 40.756054, 'pickup_longitude': -74.005378, 'trip_distance': 0.9, 'distance': 0.25022671336209934}\n",
      "{'pickup_latitude': 40.759193, 'pickup_longitude': -73.97723, 'trip_distance': 1.0, 'distance': 0.22691340112255237}\n",
      "{'pickup_latitude': 40.7439, 'pickup_longitude': -73.999577, 'trip_distance': 0.95, 'distance': 0.2397781108212376}\n",
      "{'pickup_latitude': 40.712612, 'pickup_longitude': -73.95882, 'trip_distance': 7.04, 'distance': 0.19010356068207196}\n",
      "{'pickup_latitude': 40.751285, 'pickup_longitude': -73.9712, 'trip_distance': 1.71, 'distance': 0.21775589435191045}\n",
      "{'pickup_latitude': 40.75262, 'pickup_longitude': -73.98631, 'trip_distance': 0.79, 'distance': 0.2316783168533532}\n",
      "{'pickup_latitude': 40.728885, 'pickup_longitude': -74.000534, 'trip_distance': 2.1, 'distance': 0.2348780757776297}\n",
      "{'pickup_latitude': 40.753302, 'pickup_longitude': -73.979382, 'trip_distance': 0.5, 'distance': 0.2258924858599801}\n",
      "{'pickup_latitude': 40.759795, 'pickup_longitude': -73.968202, 'trip_distance': 0.7, 'distance': 0.21947354904179786}\n",
      "{'pickup_latitude': 40.727368, 'pickup_longitude': -74.0062, 'trip_distance': 5.1, 'distance': 0.23965316059673475}\n",
      "{'pickup_latitude': 40.7595, 'pickup_longitude': -73.96904, 'trip_distance': 0.62, 'distance': 0.22003452501824441}\n",
      "{'pickup_latitude': 40.751837, 'pickup_longitude': -73.970865, 'trip_distance': 2.5, 'distance': 0.2177339262356764}\n",
      "{'pickup_latitude': 40.742032, 'pickup_longitude': -73.97492, 'trip_distance': 1.71, 'distance': 0.21671170403095588}\n",
      "{'pickup_latitude': 40.755123, 'pickup_longitude': -73.97283, 'trip_distance': 0.2, 'distance': 0.22106673220772377}\n",
      "{'pickup_latitude': 40.726783, 'pickup_longitude': -73.980283, 'trip_distance': 1.8, 'distance': 0.21527667439367631}\n",
      "{'pickup_latitude': 40.768924, 'pickup_longitude': -73.952227, 'trip_distance': 2.2, 'distance': 0.21125097937050735}\n",
      "{'pickup_latitude': 40.748232, 'pickup_longitude': -73.988848, 'trip_distance': 1.2, 'distance': 0.2319426001578915}\n",
      "{'pickup_latitude': 40.70205, 'pickup_longitude': -74.011423, 'trip_distance': 3.93, 'distance': 0.23723721910568446}\n",
      "{'pickup_latitude': 40.763197, 'pickup_longitude': -73.989376, 'trip_distance': 0.5, 'distance': 0.23943884798628232}\n",
      "{'pickup_latitude': 40.720794, 'pickup_longitude': -74.008509, 'trip_distance': 4.3, 'distance': 0.23966301612264432}\n",
      "{'pickup_latitude': 40.760644, 'pickup_longitude': -73.984531, 'trip_distance': 0.0, 'distance': 0.2339651232064361}\n",
      "{'pickup_latitude': 40.743367, 'pickup_longitude': -73.98406, 'trip_distance': 1.2, 'distance': 0.2255005592653841}\n",
      "{'pickup_latitude': 40.749792, 'pickup_longitude': -74.00267, 'trip_distance': 8.7, 'distance': 0.24506033870049038}\n",
      "{'pickup_latitude': 40.754807, 'pickup_longitude': -73.97379, 'trip_distance': 2.63, 'distance': 0.2217429662672502}\n",
      "{'pickup_latitude': 40.64483, 'pickup_longitude': -73.781578, 'trip_distance': 7.78, 'distance': 0.0004569288784918792}\n",
      "{'pickup_latitude': 40.767759, 'pickup_longitude': -73.989694, 'trip_distance': 0.4, 'distance': 0.2419975770477898}\n",
      "{'pickup_latitude': 40.762243, 'pickup_longitude': -73.96815, 'trip_distance': 1.3, 'distance': 0.22071988131792442}\n",
      "{'pickup_latitude': 40.730735, 'pickup_longitude': -73.992072, 'trip_distance': 4.62, 'distance': 0.22768463959828078}\n",
      "{'pickup_latitude': 40.738672, 'pickup_longitude': -73.999515, 'trip_distance': 1.21, 'distance': 0.23761226893618667}\n",
      "{'pickup_latitude': 40.774752, 'pickup_longitude': -73.980465, 'trip_distance': 1.53, 'distance': 0.23783323121254377}\n",
      "{'pickup_latitude': 40.777867, 'pickup_longitude': -73.945725, 'trip_distance': 7.1, 'distance': 0.21152122293992134}\n",
      "{'pickup_latitude': 40.742502, 'pickup_longitude': -74.00424, 'trip_distance': 2.6, 'distance': 0.24347019990955762}\n",
      "{'pickup_latitude': 40.76532, 'pickup_longitude': -73.97557, 'trip_distance': 2.96, 'distance': 0.22864480160284376}\n",
      "{'pickup_latitude': 40.722856, 'pickup_longitude': -73.979826, 'trip_distance': 3.2, 'distance': 0.21338994102816197}\n",
      "{'pickup_latitude': 40.777252, 'pickup_longitude': -73.982625, 'trip_distance': 2.28, 'distance': 0.2410091539112158}\n",
      "{'pickup_latitude': 40.740912, 'pickup_longitude': -73.985925, 'trip_distance': 3.59, 'distance': 0.22612790785084327}\n",
      "{'pickup_latitude': 40.798562, 'pickup_longitude': -73.969052, 'trip_distance': 5.17, 'distance': 0.24267575236929245}\n",
      "{'pickup_latitude': 40.71422, 'pickup_longitude': -74.013452, 'trip_distance': 3.7, 'distance': 0.2423984573053253}\n",
      "{'pickup_latitude': 40.748567, 'pickup_longitude': -73.972642, 'trip_distance': 1.09, 'distance': 0.2177093957389047}\n",
      "{'pickup_latitude': 40.757222, 'pickup_longitude': -73.985682, 'trip_distance': 1.8, 'distance': 0.23330100910197513}\n",
      "{'pickup_latitude': 40.751325, 'pickup_longitude': -73.993982, 'trip_distance': 2.76, 'distance': 0.2379171966231168}\n",
      "{'pickup_latitude': 40.729357, 'pickup_longitude': -73.991875, 'trip_distance': 3.6, 'distance': 0.2269863791376006}\n",
      "{'pickup_latitude': 40.767302, 'pickup_longitude': -73.9646, 'trip_distance': 8.9, 'distance': 0.22048611712305838}\n",
      "{'pickup_latitude': 40.793391, 'pickup_longitude': -73.967215, 'trip_distance': 0.3, 'distance': 0.2379979853402118}\n",
      "{'pickup_latitude': 40.642527, 'pickup_longitude': -73.791427, 'trip_distance': 18.5, 'distance': 0.01056802242617023}\n",
      "{'pickup_latitude': 40.758769, 'pickup_longitude': -73.992404, 'trip_distance': 0.7, 'distance': 0.23994564667232207}\n",
      "{'pickup_latitude': 40.72184, 'pickup_longitude': -73.993307, 'trip_distance': 1.69, 'distance': 0.22564688154061002}\n",
      "{'pickup_latitude': 40.721116, 'pickup_longitude': -74.004308, 'trip_distance': 3.4, 'distance': 0.23578520063820677}\n",
      "{'pickup_latitude': 40.75085, 'pickup_longitude': -74.00562, 'trip_distance': 1.84, 'distance': 0.2481796133851418}\n",
      "{'pickup_latitude': 40.701535, 'pickup_longitude': -74.012503, 'trip_distance': 0.7, 'distance': 0.23816285947645013}\n",
      "{'pickup_latitude': 40.76495, 'pickup_longitude': -73.968502, 'trip_distance': 1.8, 'distance': 0.22246611765390548}\n",
      "{'pickup_latitude': 0.0, 'pickup_longitude': 0.0, 'trip_distance': 1.26, 'distance': 84.23581962219279}\n",
      "{'pickup_latitude': 40.74892, 'pickup_longitude': -73.97797, 'trip_distance': 5.79, 'distance': 0.22257483528018301}\n",
      "{'pickup_latitude': 40.77908, 'pickup_longitude': -73.98498, 'trip_distance': 1.27, 'distance': 0.24398114066459864}\n",
      "{'pickup_latitude': 40.646587, 'pickup_longitude': -73.78582, 'trip_distance': 16.79, 'distance': 0.004935515069375294}\n",
      "{'pickup_latitude': 40.739812, 'pickup_longitude': -74.00549, 'trip_distance': 0.76, 'distance': 0.2435562507594482}\n",
      "{'pickup_latitude': 40.728841, 'pickup_longitude': -73.99404, 'trip_distance': 1.5, 'distance': 0.2288080905497031}\n",
      "{'pickup_latitude': 40.752327, 'pickup_longitude': -73.97917, 'trip_distance': 1.03, 'distance': 0.22524020948534057}\n",
      "{'pickup_latitude': 40.732893, 'pickup_longitude': -73.974918, 'trip_distance': 0.0, 'distance': 0.2127744703506549}\n",
      "{'pickup_latitude': 40.769041, 'pickup_longitude': -73.988708, 'trip_distance': 1.7, 'distance': 0.2418035855089887}\n",
      "{'pickup_latitude': 40.782595, 'pickup_longitude': -73.953385, 'trip_distance': 2.32, 'distance': 0.2204541477269148}\n",
      "{'pickup_latitude': 40.744757, 'pickup_longitude': -73.984962, 'trip_distance': 0.92, 'distance': 0.22692021865184175}\n",
      "{'pickup_latitude': 40.752422, 'pickup_longitude': -73.98375, 'trip_distance': 4.99, 'distance': 0.2293215965058725}\n",
      "{'pickup_latitude': 40.760963, 'pickup_longitude': -73.975273, 'trip_distance': 0.7, 'distance': 0.2261271232249707}\n",
      "{'pickup_latitude': 40.68118, 'pickup_longitude': -73.980602, 'trip_distance': 3.2, 'distance': 0.20270869839255298}\n",
      "{'pickup_latitude': 40.758312, 'pickup_longitude': -73.97752, 'trip_distance': 1.1, 'distance': 0.22672241306055274}\n",
      "{'pickup_latitude': 40.71897, 'pickup_longitude': -73.997061, 'trip_distance': 0.8, 'distance': 0.22823365291078834}\n",
      "{'pickup_latitude': 40.723912, 'pickup_longitude': -73.991242, 'trip_distance': 1.78, 'distance': 0.22442667075907236}\n",
      "{'pickup_latitude': 40.756415, 'pickup_longitude': -73.975227, 'trip_distance': 0.42, 'distance': 0.22378876771188075}\n",
      "{'pickup_latitude': 40.751115, 'pickup_longitude': -73.994153, 'trip_distance': 3.7, 'distance': 0.23797645604975282}\n",
      "{'pickup_latitude': 40.785935, 'pickup_longitude': -73.979897, 'trip_distance': 3.03, 'distance': 0.24365110924024033}\n",
      "{'pickup_latitude': 40.760434, 'pickup_longitude': -74.002849, 'trip_distance': 1.6, 'distance': 0.24995552351768432}\n",
      "{'pickup_latitude': 40.71597, 'pickup_longitude': -74.015138, 'trip_distance': 5.05, 'distance': 0.24451696166932507}\n",
      "{'pickup_latitude': 40.76767, 'pickup_longitude': -73.96166, 'trip_distance': 21.24, 'distance': 0.21825270330513658}\n",
      "{'pickup_latitude': 40.771907, 'pickup_longitude': -73.95626, 'trip_distance': 9.22, 'distance': 0.2162670501694629}\n",
      "{'pickup_latitude': 40.778537, 'pickup_longitude': -73.981967, 'trip_distance': 0.41, 'distance': 0.24116854831839143}\n",
      "{'pickup_latitude': 40.73111, 'pickup_longitude': -74.00658, 'trip_distance': 0.47, 'distance': 0.24131999357699624}\n",
      "{'pickup_latitude': 40.755756, 'pickup_longitude': -73.884413, 'trip_distance': 1.0, 'distance': 0.15143432214989852}\n",
      "{'pickup_latitude': 40.791595, 'pickup_longitude': -73.968651, 'trip_distance': 0.4, 'distance': 0.23801187160727788}\n",
      "{'pickup_latitude': 40.750117, 'pickup_longitude': -74.002532, 'trip_distance': 1.24, 'distance': 0.24507483765781238}\n",
      "{'pickup_latitude': 40.71242, 'pickup_longitude': -74.00953, 'trip_distance': 2.15, 'distance': 0.23812649852547038}\n",
      "{'pickup_latitude': 40.761311, 'pickup_longitude': -73.972672, 'trip_distance': 1.4, 'distance': 0.22407867262415268}\n",
      "{'pickup_latitude': 40.71592, 'pickup_longitude': -74.015208, 'trip_distance': 9.1, 'distance': 0.24456944262111263}\n",
      "{'pickup_latitude': 40.712097, 'pickup_longitude': -73.94075, 'trip_distance': 3.6, 'distance': 0.1731343681912959}\n",
      "{'pickup_latitude': 40.729574, 'pickup_longitude': -73.991874, 'trip_distance': 1.0, 'distance': 0.22706619570512807}\n",
      "{'pickup_latitude': 40.75377, 'pickup_longitude': -73.969407, 'trip_distance': 1.4, 'distance': 0.2174253583393698}\n",
      "{'pickup_latitude': 40.72269, 'pickup_longitude': -73.9992, 'trip_distance': 0.73, 'distance': 0.2314802205373113}\n",
      "{'pickup_latitude': 40.722982, 'pickup_longitude': -73.982842, 'trip_distance': 1.4, 'distance': 0.2162461905514261}\n",
      "{'pickup_latitude': 40.773595, 'pickup_longitude': -73.870591, 'trip_distance': 8.7, 'distance': 0.15664909353712037}\n",
      "{'pickup_latitude': 40.767875, 'pickup_longitude': -73.98311, 'trip_distance': 1.06, 'distance': 0.23640762429540854}\n",
      "{'pickup_latitude': 40.768197, 'pickup_longitude': -73.952871, 'trip_distance': 1.6, 'distance': 0.21134821193944825}\n",
      "{'pickup_latitude': 40.745547, 'pickup_longitude': -73.998795, 'trip_distance': 3.62, 'distance': 0.2397520725124235}\n",
      "{'pickup_latitude': 40.768712, 'pickup_longitude': -73.963437, 'trip_distance': 0.8, 'distance': 0.22030815612001528}\n",
      "{'pickup_latitude': 40.757889, 'pickup_longitude': -73.968702, 'trip_distance': 1.8, 'distance': 0.2189107966843994}\n",
      "{'pickup_latitude': 40.72067, 'pickup_longitude': -74.009983, 'trip_distance': 3.59, 'distance': 0.2410228293938227}\n",
      "{'pickup_latitude': 40.763362, 'pickup_longitude': -73.971497, 'trip_distance': 3.46, 'distance': 0.22415153533491852}\n",
      "{'pickup_latitude': 40.75185, 'pickup_longitude': -73.97495, 'trip_distance': 1.5, 'distance': 0.2213086071530057}\n",
      "{'pickup_latitude': 40.73385, 'pickup_longitude': -74.0027, 'trip_distance': 0.81, 'distance': 0.23870589037558926}\n",
      "{'pickup_latitude': 40.768718, 'pickup_longitude': -73.96833, 'trip_distance': 1.3, 'distance': 0.2243768490375047}\n",
      "{'pickup_latitude': 40.787222, 'pickup_longitude': -73.971638, 'trip_distance': 1.38, 'distance': 0.2377301410591445}\n",
      "{'pickup_latitude': 40.782367, 'pickup_longitude': -73.97884, 'trip_distance': 0.77, 'distance': 0.24073590556666782}\n",
      "{'pickup_latitude': 40.751801, 'pickup_longitude': -73.933138, 'trip_distance': 1.5, 'distance': 0.18576582534201758}\n",
      "{'pickup_latitude': 40.756307, 'pickup_longitude': -73.991625, 'trip_distance': 9.64, 'distance': 0.23809913925506102}\n",
      "{'pickup_latitude': 40.755034, 'pickup_longitude': -73.974168, 'trip_distance': 1.2, 'distance': 0.2221837758703457}\n",
      "{'pickup_latitude': 40.712003, 'pickup_longitude': -73.945566, 'trip_distance': 5.9, 'distance': 0.1775481997233464}\n",
      "{'pickup_latitude': 40.750283, 'pickup_longitude': -73.994667, 'trip_distance': 3.3, 'distance': 0.23806748021938026}\n",
      "{'pickup_latitude': 40.740555, 'pickup_longitude': -73.994539, 'trip_distance': 1.1, 'distance': 0.23381089484025946}\n",
      "{'pickup_latitude': 40.798792, 'pickup_longitude': -73.963192, 'trip_distance': 2.13, 'distance': 0.2383156414673683}\n",
      "{'pickup_latitude': 40.715947, 'pickup_longitude': -74.016737, 'trip_distance': 1.76, 'distance': 0.24604091208171963}\n",
      "{'pickup_latitude': 40.70746, 'pickup_longitude': -74.004712, 'trip_distance': 4.76, 'distance': 0.23212597602164264}\n",
      "{'pickup_latitude': 40.76306, 'pickup_longitude': -73.996785, 'trip_distance': 1.66, 'distance': 0.2458434016299874}\n",
      "{'pickup_latitude': 40.707022, 'pickup_longitude': -74.013361, 'trip_distance': 3.4, 'distance': 0.240353734202328}\n",
      "{'pickup_latitude': 40.760955, 'pickup_longitude': -73.969252, 'trip_distance': 0.6, 'distance': 0.22097566297898258}\n",
      "{'pickup_latitude': 40.758719, 'pickup_longitude': -74.000013, 'trip_distance': 0.8, 'distance': 0.2466481263054706}\n",
      "{'pickup_latitude': 40.763425, 'pickup_longitude': -73.989107, 'trip_distance': 2.4, 'distance': 0.23931770321896928}\n",
      "{'pickup_latitude': 40.743667, 'pickup_longitude': -73.983815, 'trip_distance': 0.54, 'distance': 0.22541129642057559}\n",
      "{'pickup_latitude': 40.743297, 'pickup_longitude': -73.98832, 'trip_distance': 1.49, 'distance': 0.2293113061953155}\n",
      "{'pickup_latitude': 40.748887, 'pickup_longitude': -73.992042, 'trip_distance': 1.3, 'distance': 0.23509577255450856}\n",
      "{'pickup_latitude': 40.74506, 'pickup_longitude': -73.99125, 'trip_distance': 1.83, 'distance': 0.23271444927206225}\n",
      "{'pickup_latitude': 40.783298, 'pickup_longitude': -73.955095, 'trip_distance': 1.4, 'distance': 0.2222295342410674}\n",
      "{'pickup_latitude': 40.79338, 'pickup_longitude': -73.967217, 'trip_distance': 3.01, 'distance': 0.2379926902007767}\n",
      "{'pickup_latitude': 40.759725, 'pickup_longitude': -73.973278, 'trip_distance': 3.12, 'distance': 0.22377955359907095}\n",
      "{'pickup_latitude': 40.789342, 'pickup_longitude': -73.948455, 'trip_distance': 7.27, 'distance': 0.22097163376551077}\n",
      "{'pickup_latitude': 40.717302, 'pickup_longitude': -73.994352, 'trip_distance': 1.18, 'distance': 0.2251313353311876}\n",
      "{'pickup_latitude': 40.759305, 'pickup_longitude': -73.986923, 'trip_distance': 0.75, 'distance': 0.23539423687508298}\n",
      "{'pickup_latitude': 40.75966, 'pickup_longitude': -73.96785, 'trip_distance': 2.7, 'distance': 0.21910294133123806}\n",
      "{'pickup_latitude': 40.763645, 'pickup_longitude': -73.985125, 'trip_distance': 3.1, 'distance': 0.23597629044037277}\n",
      "{'pickup_latitude': 40.75375, 'pickup_longitude': -73.99242, 'trip_distance': 0.42, 'distance': 0.2376210228494079}\n",
      "{'pickup_latitude': 40.754554, 'pickup_longitude': -73.993513, 'trip_distance': 0.7, 'distance': 0.23896090446974413}\n",
      "{'pickup_latitude': 40.733659, 'pickup_longitude': -74.002772, 'trip_distance': 1.4, 'distance': 0.2387017018058291}\n",
      "{'pickup_latitude': 40.747263, 'pickup_longitude': -73.974266, 'trip_distance': 0.8, 'distance': 0.21852587028770906}\n",
      "{'pickup_latitude': 0.0, 'pickup_longitude': 0.0, 'trip_distance': 0.8, 'distance': 84.23581962219279}\n",
      "{'pickup_latitude': 40.789094, 'pickup_longitude': -73.975968, 'trip_distance': 0.9, 'distance': 0.24232213258387855}\n",
      "{'pickup_latitude': 40.77409, 'pickup_longitude': -73.87317, 'trip_distance': 9.21, 'distance': 0.15853860854694424}\n",
      "{'pickup_latitude': 40.744275, 'pickup_longitude': -74.006706, 'trip_distance': 0.7, 'distance': 0.24644070353940967}\n",
      "{'pickup_latitude': 40.739702, 'pickup_longitude': -74.006372, 'trip_distance': 1.29, 'distance': 0.2443262413822986}\n",
      "{'pickup_latitude': 40.75873, 'pickup_longitude': -73.99349, 'trip_distance': 2.02, 'distance': 0.24088392059246905}\n",
      "{'pickup_latitude': 40.749452, 'pickup_longitude': -73.991202, 'trip_distance': 3.41, 'distance': 0.23459358931565355}\n",
      "{'pickup_latitude': 40.754753, 'pickup_longitude': -73.968547, 'trip_distance': 5.3, 'distance': 0.2171763149563087}\n",
      "{'pickup_latitude': 40.751248, 'pickup_longitude': -73.994112, 'trip_distance': 0.6, 'distance': 0.23799910925884}\n",
      "{'pickup_latitude': 40.709411, 'pickup_longitude': -74.01484, 'trip_distance': 3.9, 'distance': 0.2424068508541065}\n",
      "{'pickup_latitude': 40.783943, 'pickup_longitude': -73.977602, 'trip_distance': 0.8, 'distance': 0.24062694053867553}\n",
      "{'pickup_latitude': 40.754177, 'pickup_longitude': -73.995672, 'trip_distance': 2.26, 'distance': 0.2407103850127798}\n",
      "{'pickup_latitude': 40.762551, 'pickup_longitude': -73.968469, 'trip_distance': 3.3, 'distance': 0.22115378468839575}\n",
      "{'pickup_latitude': 40.709595, 'pickup_longitude': -74.006713, 'trip_distance': 2.1, 'distance': 0.23463263411981658}\n",
      "{'pickup_latitude': 40.75531, 'pickup_longitude': -73.979295, 'trip_distance': 1.1, 'distance': 0.2267861182369834}\n",
      "{'pickup_latitude': 40.744349, 'pickup_longitude': -73.985564, 'trip_distance': 1.3, 'distance': 0.2272824108394662}\n",
      "{'pickup_latitude': 40.767895, 'pickup_longitude': -73.981112, 'trip_distance': 0.69, 'distance': 0.23471352851721275}\n",
      "{'pickup_latitude': 40.754248, 'pickup_longitude': -73.972058, 'trip_distance': 0.5, 'distance': 0.21996175810354437}\n",
      "{'pickup_latitude': 40.754852, 'pickup_longitude': -73.968343, 'trip_distance': 2.02, 'distance': 0.21705040495931543}\n",
      "{'pickup_latitude': 40.774487, 'pickup_longitude': -73.872417, 'trip_distance': 8.86, 'distance': 0.15842707564681147}\n",
      "{'pickup_latitude': 40.779426, 'pickup_longitude': -73.977379, 'trip_distance': 3.0, 'distance': 0.23786310881891962}\n",
      "{'pickup_latitude': 40.767777, 'pickup_longitude': -73.955538, 'trip_distance': 1.24, 'distance': 0.2132787422904665}\n",
      "{'pickup_latitude': 40.77365, 'pickup_longitude': -73.870572, 'trip_distance': 8.3, 'distance': 0.1566834058986488}\n",
      "{'pickup_latitude': 40.750417, 'pickup_longitude': -73.994658, 'trip_distance': 1.02, 'distance': 0.23811870651631228}\n",
      "{'pickup_latitude': 40.737117, 'pickup_longitude': -73.988687, 'trip_distance': 2.09, 'distance': 0.22706604875674494}\n",
      "{'pickup_latitude': 40.738447, 'pickup_longitude': -74.003779, 'trip_distance': 1.5, 'distance': 0.24144954439799454}\n",
      "{'pickup_latitude': 40.75681, 'pickup_longitude': -73.96498, 'trip_distance': 0.7, 'distance': 0.21516779800890395}\n",
      "{'pickup_latitude': 40.788362, 'pickup_longitude': -73.978052, 'trip_distance': 1.2, 'distance': 0.24356914416239836}\n",
      "{'pickup_latitude': 40.742219, 'pickup_longitude': -73.994123, 'trip_distance': 1.6, 'distance': 0.23411744311349797}\n",
      "{'pickup_latitude': 40.747881, 'pickup_longitude': -73.993024, 'trip_distance': 2.5, 'distance': 0.23553587785516591}\n",
      "{'pickup_latitude': 40.763835, 'pickup_longitude': -73.915012, 'trip_distance': 0.4, 'distance': 0.1790060587494237}\n",
      "{'pickup_latitude': 40.778885, 'pickup_longitude': -73.958245, 'trip_distance': 2.41, 'distance': 0.22201466179062065}\n",
      "{'pickup_latitude': 40.76556, 'pickup_longitude': -73.983765, 'trip_distance': 2.8, 'distance': 0.23577523857479962}\n",
      "{'pickup_latitude': 40.745032, 'pickup_longitude': -73.995287, 'trip_distance': 3.19, 'distance': 0.23635366832990728}\n",
      "{'pickup_latitude': 40.736197, 'pickup_longitude': -73.981978, 'trip_distance': 9.28, 'distance': 0.22056881564038017}\n",
      "{'pickup_latitude': 40.758157, 'pickup_longitude': -73.968752, 'trip_distance': 1.3, 'distance': 0.21909194483823155}\n",
      "{'pickup_latitude': 40.719997, 'pickup_longitude': -73.99825, 'trip_distance': 1.14, 'distance': 0.2296920983599584}\n",
      "{'pickup_latitude': 40.752447, 'pickup_longitude': -73.970462, 'trip_distance': 2.66, 'distance': 0.2176833484513679}\n",
      "{'pickup_latitude': 40.714814, 'pickup_longitude': -74.016124, 'trip_distance': 1.8, 'distance': 0.24512888783658984}\n",
      "{'pickup_latitude': 40.754756, 'pickup_longitude': -73.984038, 'trip_distance': 3.8, 'distance': 0.23067751364188213}\n",
      "{'pickup_latitude': 40.799892, 'pickup_longitude': -73.969787, 'trip_distance': 4.87, 'distance': 0.24408717166823812}\n",
      "{'pickup_latitude': 40.759859, 'pickup_longitude': -73.973301, 'trip_distance': 9.0, 'distance': 0.22386802800311495}\n",
      "{'pickup_latitude': 40.689592, 'pickup_longitude': -73.992087, 'trip_distance': 3.0, 'distance': 0.2156009192304159}\n",
      "{'pickup_latitude': 40.776253, 'pickup_longitude': -73.962066, 'trip_distance': 1.6, 'distance': 0.22351862165152567}\n",
      "{'pickup_latitude': 40.749577, 'pickup_longitude': -73.992082, 'trip_distance': 1.0, 'distance': 0.23543735725878406}\n",
      "{'pickup_latitude': 40.777566, 'pickup_longitude': -73.950919, 'trip_distance': 1.8, 'distance': 0.21540173893680814}\n",
      "{'pickup_latitude': 40.749747, 'pickup_longitude': -73.991562, 'trip_distance': 0.86, 'distance': 0.23504731181828484}\n",
      "{'pickup_latitude': 40.742145, 'pickup_longitude': -73.984962, 'trip_distance': 0.7, 'distance': 0.22578402372400008}\n",
      "{'pickup_latitude': 40.746859, 'pickup_longitude': -73.988366, 'trip_distance': 1.7, 'distance': 0.23090206542385275}\n",
      "{'pickup_latitude': 40.7699, 'pickup_longitude': -73.984203, 'trip_distance': 3.8, 'distance': 0.23839678879758167}\n",
      "{'pickup_latitude': 40.737429, 'pickup_longitude': -73.987573, 'trip_distance': 2.9, 'distance': 0.22617564778286842}\n",
      "{'pickup_latitude': 40.76952, 'pickup_longitude': -73.99197, 'trip_distance': 9.21, 'distance': 0.2448525950444456}\n",
      "{'pickup_latitude': 40.7169, 'pickup_longitude': -74.0127, 'trip_distance': 1.3, 'distance': 0.24245917305806294}\n",
      "{'pickup_latitude': 40.718208, 'pickup_longitude': -73.986443, 'trip_distance': 1.3, 'distance': 0.21795892129710717}\n",
      "{'pickup_latitude': 40.775985, 'pickup_longitude': -73.947142, 'trip_distance': 0.3, 'distance': 0.21145456743471058}\n",
      "{'pickup_latitude': 40.774893, 'pickup_longitude': -73.988128, 'trip_distance': 1.2, 'distance': 0.2443658771043993}\n",
      "{'pickup_latitude': 40.750512, 'pickup_longitude': -73.98313, 'trip_distance': 2.99, 'distance': 0.2278833317379807}\n",
      "{'pickup_latitude': 40.73824, 'pickup_longitude': -73.993005, 'trip_distance': 1.08, 'distance': 0.2314694440417558}\n",
      "{'pickup_latitude': 40.749935, 'pickup_longitude': -73.979155, 'trip_distance': 11.1, 'distance': 0.22409692780135063}\n",
      "{'pickup_latitude': 40.759445, 'pickup_longitude': -73.995501, 'trip_distance': 2.0, 'distance': 0.24299444073065377}\n",
      "{'pickup_latitude': 40.725862, 'pickup_longitude': -73.997705, 'trip_distance': 3.18, 'distance': 0.23116303426153528}\n",
      "{'pickup_latitude': 40.720402, 'pickup_longitude': -73.99803, 'trip_distance': 1.51, 'distance': 0.2296168638057785}\n",
      "{'pickup_latitude': 40.725668, 'pickup_longitude': -73.996852, 'trip_distance': 3.2, 'distance': 0.23029609742243357}\n",
      "{'pickup_latitude': 40.761712, 'pickup_longitude': -73.972542, 'trip_distance': 0.85, 'distance': 0.22417609807471348}\n",
      "{'pickup_latitude': 40.767342, 'pickup_longitude': -73.954357, 'trip_distance': 2.48, 'distance': 0.21206290753689475}\n",
      "{'pickup_latitude': 40.751985, 'pickup_longitude': -73.993582, 'trip_distance': 1.38, 'distance': 0.23785559621123575}\n",
      "{'pickup_latitude': 40.725807, 'pickup_longitude': -73.992454, 'trip_distance': 1.7, 'distance': 0.22623166866068914}\n",
      "{'pickup_latitude': 40.798907, 'pickup_longitude': -73.959587, 'trip_distance': 5.41, 'distance': 0.23564847943069953}\n",
      "{'pickup_latitude': 40.763502, 'pickup_longitude': -73.96952, 'trip_distance': 2.56, 'distance': 0.22254965972565074}\n",
      "{'pickup_latitude': 40.76514, 'pickup_longitude': -73.886932, 'trip_distance': 1.77, 'distance': 0.16008077343641747}\n",
      "{'pickup_latitude': 40.725613, 'pickup_longitude': -74.003947, 'trip_distance': 1.58, 'distance': 0.23693579581397237}\n",
      "{'pickup_latitude': 40.787654, 'pickup_longitude': -73.952104, 'trip_distance': 0.2, 'distance': 0.22266182208004145}\n",
      "{'pickup_latitude': 40.749559, 'pickup_longitude': -73.975903, 'trip_distance': 0.3, 'distance': 0.22105068823688787}\n",
      "{'pickup_latitude': 40.746946, 'pickup_longitude': -73.99348, 'trip_distance': 4.7, 'distance': 0.23553992195804918}\n",
      "{'pickup_latitude': 40.750173, 'pickup_longitude': -73.986297, 'trip_distance': 1.9, 'distance': 0.23054013771575205}\n",
      "{'pickup_latitude': 40.743896, 'pickup_longitude': -73.971551, 'trip_distance': 2.8, 'distance': 0.21455753922200713}\n",
      "{'pickup_latitude': 40.767159, 'pickup_longitude': -73.986233, 'trip_distance': 2.2, 'distance': 0.23871384846715674}\n",
      "{'pickup_latitude': 40.777596, 'pickup_longitude': -73.98351, 'trip_distance': 0.2, 'distance': 0.24193784498502957}\n",
      "{'pickup_latitude': 40.74933, 'pickup_longitude': -73.97076, 'trip_distance': 1.08, 'distance': 0.21642270606385278}\n",
      "{'pickup_latitude': 40.758162, 'pickup_longitude': -73.992067, 'trip_distance': 2.84, 'distance': 0.23936140556280905}\n",
      "{'pickup_latitude': 40.75726, 'pickup_longitude': -73.97158, 'trip_distance': 1.41, 'distance': 0.22106138921123908}\n",
      "{'pickup_latitude': 40.752815, 'pickup_longitude': -73.989645, 'trip_distance': 2.78, 'distance': 0.23472621423692602}\n",
      "{'pickup_latitude': 40.734912, 'pickup_longitude': -73.99062, 'trip_distance': 0.67, 'distance': 0.22795536182332835}\n",
      "{'pickup_latitude': 40.76102, 'pickup_longitude': -73.967407, 'trip_distance': 1.2, 'distance': 0.21944163449309162}\n",
      "{'pickup_latitude': 40.704517, 'pickup_longitude': -74.008685, 'trip_distance': 4.51, 'distance': 0.23519277189999221}\n",
      "{'pickup_latitude': 40.760057, 'pickup_longitude': -73.968163, 'trip_distance': 2.01, 'distance': 0.21957749579135735}\n",
      "{'pickup_latitude': 40.80307, 'pickup_longitude': -73.967911, 'trip_distance': 0.8, 'distance': 0.2446813387265179}\n",
      "{'pickup_latitude': 40.755706, 'pickup_longitude': -73.975209, 'trip_distance': 3.7, 'distance': 0.22342096619835095}\n",
      "{'pickup_latitude': 40.774172, 'pickup_longitude': -73.959412, 'trip_distance': 3.68, 'distance': 0.22014842667618897}\n",
      "{'pickup_latitude': 40.757185, 'pickup_longitude': -73.99723, 'trip_distance': 1.28, 'distance': 0.24347132156581028}\n",
      "{'pickup_latitude': 40.750685, 'pickup_longitude': -74.002108, 'trip_distance': 0.71, 'distance': 0.24493646275923053}\n",
      "{'pickup_latitude': 40.75321, 'pickup_longitude': -73.996418, 'trip_distance': 2.0, 'distance': 0.24093957795265694}\n",
      "{'pickup_latitude': 40.771724, 'pickup_longitude': -73.981772, 'trip_distance': 8.6, 'distance': 0.23729874344379429}\n",
      "{'pickup_latitude': 40.72224, 'pickup_longitude': -74.00319, 'trip_distance': 3.4, 'distance': 0.2350942876805027}\n",
      "{'pickup_latitude': 40.765242, 'pickup_longitude': -73.960702, 'trip_distance': 0.43, 'distance': 0.21610058817134337}\n",
      "{'pickup_latitude': 40.776315, 'pickup_longitude': -73.952995, 'trip_distance': 3.25, 'distance': 0.21627981794425657}\n",
      "{'pickup_latitude': 40.761082, 'pickup_longitude': -73.961535, 'trip_distance': 1.05, 'distance': 0.21451363753617353}\n",
      "{'pickup_latitude': 40.76559, 'pickup_longitude': -73.98198, 'trip_distance': 2.68, 'distance': 0.23425850870352452}\n",
      "{'pickup_latitude': 40.719963, 'pickup_longitude': -73.987997, 'trip_distance': 3.3, 'distance': 0.22001507252458508}\n",
      "{'pickup_latitude': 40.732639, 'pickup_longitude': -73.986721, 'trip_distance': 1.4, 'distance': 0.2234765832072845}\n",
      "{'pickup_latitude': 40.718726, 'pickup_longitude': -73.992612, 'trip_distance': 2.7, 'distance': 0.2239490458564144}\n",
      "{'pickup_latitude': 40.774015, 'pickup_longitude': -73.961737, 'trip_distance': 2.52, 'distance': 0.2219439460629657}\n",
      "{'pickup_latitude': 40.750555, 'pickup_longitude': -73.991287, 'trip_distance': 1.01, 'distance': 0.2351627691493724}\n",
      "{'pickup_latitude': 40.741115, 'pickup_longitude': -74.00577, 'trip_distance': 0.31, 'distance': 0.2443238834518657}\n",
      "{'pickup_latitude': 40.727002, 'pickup_longitude': -73.994739, 'trip_distance': 4.2, 'distance': 0.22879298298898798}\n",
      "{'pickup_latitude': 40.77177, 'pickup_longitude': -73.98188, 'trip_distance': 2.74, 'distance': 0.23741461896859262}\n",
      "{'pickup_latitude': 40.753392, 'pickup_longitude': -73.966885, 'trip_distance': 1.4, 'distance': 0.21505460662120826}\n",
      "{'pickup_latitude': 40.764207, 'pickup_longitude': -73.9772, 'trip_distance': 0.87, 'distance': 0.2294521640538603}\n",
      "{'pickup_latitude': 0.0, 'pickup_longitude': 0.0, 'trip_distance': 10.4, 'distance': 84.23581962219279}\n",
      "{'pickup_latitude': 40.774341, 'pickup_longitude': -73.963669, 'trip_distance': 0.8, 'distance': 0.223707099936501}\n",
      "{'pickup_latitude': 40.756705, 'pickup_longitude': -73.97462, 'trip_distance': 9.84, 'distance': 0.22340743525004078}\n",
      "{'pickup_latitude': 40.728314, 'pickup_longitude': -74.007189, 'trip_distance': 5.6, 'distance': 0.24090769704805953}\n",
      "{'pickup_latitude': 40.73845, 'pickup_longitude': -74.003702, 'trip_distance': 1.52, 'distance': 0.2413797098018045}\n",
      "{'pickup_latitude': 40.763247, 'pickup_longitude': -73.97241, 'trip_distance': 1.95, 'distance': 0.224866862051748}\n",
      "{'pickup_latitude': 40.741825, 'pickup_longitude': -74.004707, 'trip_distance': 1.7, 'distance': 0.24362830187398085}\n",
      "{'pickup_latitude': 40.7649, 'pickup_longitude': -73.9612, 'trip_distance': 3.04, 'distance': 0.21632478036508532}\n",
      "{'pickup_latitude': 40.744682, 'pickup_longitude': -73.978817, 'trip_distance': 3.02, 'distance': 0.22138368899492883}\n",
      "{'pickup_latitude': 40.717487, 'pickup_longitude': -73.99113, 'trip_distance': 3.0, 'distance': 0.22214278158202766}\n",
      "{'pickup_latitude': 40.729872, 'pickup_longitude': -74.002195, 'trip_distance': 1.06, 'distance': 0.23678227541140343}\n",
      "{'pickup_latitude': 40.745205, 'pickup_longitude': -73.982578, 'trip_distance': 14.6, 'distance': 0.22498063340875044}\n",
      "{'pickup_latitude': 40.773118, 'pickup_longitude': -73.885322, 'trip_distance': 9.55, 'distance': 0.16513203798173234}\n",
      "{'pickup_latitude': 40.744085, 'pickup_longitude': -73.981935, 'trip_distance': 3.27, 'distance': 0.22390720231827774}\n",
      "{'pickup_latitude': 40.800642, 'pickup_longitude': -73.967692, 'trip_distance': 0.46, 'distance': 0.2429515648601633}\n",
      "{'pickup_latitude': 40.770492, 'pickup_longitude': -73.966807, 'trip_distance': 0.78, 'distance': 0.22409657215808015}\n",
      "{'pickup_latitude': 40.751325, 'pickup_longitude': -73.978132, 'trip_distance': 1.12, 'distance': 0.2238504870421382}\n",
      "{'pickup_latitude': 40.764456, 'pickup_longitude': -73.976194, 'trip_distance': 5.0, 'distance': 0.22872316693331385}\n",
      "{'pickup_latitude': 40.763968, 'pickup_longitude': -73.979264, 'trip_distance': 1.5, 'distance': 0.23109504858391317}\n",
      "{'pickup_latitude': 40.745711, 'pickup_longitude': -74.008496, 'trip_distance': 0.6, 'distance': 0.24865824650913695}\n",
      "{'pickup_latitude': 40.78232, 'pickup_longitude': -73.951423, 'trip_distance': 1.34, 'distance': 0.21875196782886916}\n",
      "{'pickup_latitude': 40.722958, 'pickup_longitude': -73.987498, 'trip_distance': 2.2, 'distance': 0.22058673153207117}\n",
      "{'pickup_latitude': 40.690387, 'pickup_longitude': -74.177668, 'trip_distance': 0.0, 'distance': 0.3991082709403558}\n",
      "{'pickup_latitude': 40.761305, 'pickup_longitude': -73.989083, 'trip_distance': 2.4, 'distance': 0.23825472023445582}\n",
      "{'pickup_latitude': 40.754549, 'pickup_longitude': -73.993151, 'trip_distance': 0.7, 'distance': 0.23863695958924663}\n",
      "{'pickup_latitude': 40.77408, 'pickup_longitude': -73.874527, 'trip_distance': 7.65, 'distance': 0.15932197660398323}\n",
      "{'pickup_latitude': 40.735602, 'pickup_longitude': -73.98864, 'trip_distance': 1.77, 'distance': 0.2264125319941521}\n",
      "{'pickup_latitude': 40.772117, 'pickup_longitude': -73.982692, 'trip_distance': 0.87, 'distance': 0.23828649120963988}\n",
      "{'pickup_latitude': 40.736892, 'pickup_longitude': -73.98462, 'trip_distance': 1.23, 'distance': 0.223262219159453}\n",
      "{'pickup_latitude': 40.705808, 'pickup_longitude': -74.006866, 'trip_distance': 0.8, 'distance': 0.2337659979124471}\n",
      "{'pickup_latitude': 40.797627, 'pickup_longitude': -73.960347, 'trip_distance': 1.82, 'distance': 0.23539247774302455}\n",
      "{'pickup_latitude': 40.745217, 'pickup_longitude': -73.978587, 'trip_distance': 1.4, 'distance': 0.22142000925391195}\n",
      "{'pickup_latitude': 40.776247, 'pickup_longitude': -73.94696, 'trip_distance': 0.7, 'distance': 0.21147424464695924}\n",
      "{'pickup_latitude': 40.780255, 'pickup_longitude': -73.9876, 'trip_distance': 1.67, 'distance': 0.2468161719276124}\n",
      "{'pickup_latitude': 40.77277, 'pickup_longitude': -73.982488, 'trip_distance': 1.0, 'distance': 0.23846324380080702}\n",
      "{'pickup_latitude': 40.772207, 'pickup_longitude': -73.94992, 'trip_distance': 2.29, 'distance': 0.21134681920720627}\n",
      "{'pickup_latitude': 40.758277, 'pickup_longitude': -73.937715, 'trip_distance': 10.72, 'distance': 0.19325253838953863}\n",
      "{'pickup_latitude': 40.721757, 'pickup_longitude': -73.99204, 'trip_distance': 3.58, 'distance': 0.22442763731100973}\n",
      "{'pickup_latitude': 40.74909, 'pickup_longitude': -73.970552, 'trip_distance': 4.16, 'distance': 0.21612479636543552}\n",
      "{'pickup_latitude': 40.753807, 'pickup_longitude': -73.979327, 'trip_distance': 1.08, 'distance': 0.2260868479544993}\n",
      "{'pickup_latitude': 40.771288, 'pickup_longitude': -73.98333, 'trip_distance': 2.63, 'distance': 0.2383861095030476}\n",
      "{'pickup_latitude': 40.715183, 'pickup_longitude': -74.009752, 'trip_distance': 2.11, 'distance': 0.23913580169645177}\n",
      "{'pickup_latitude': 40.77827, 'pickup_longitude': -73.982238, 'trip_distance': 3.6, 'distance': 0.2412466417258471}\n",
      "{'pickup_latitude': 40.774696, 'pickup_longitude': -73.982317, 'trip_distance': 1.2, 'distance': 0.2393570728535067}\n",
      "{'pickup_latitude': 40.74408, 'pickup_longitude': -73.984265, 'trip_distance': 1.56, 'distance': 0.22599675069566394}\n",
      "{'pickup_latitude': 40.720975, 'pickup_longitude': -73.993653, 'trip_distance': 2.1, 'distance': 0.22567951886247814}\n",
      "{'pickup_latitude': 40.73918, 'pickup_longitude': -73.98305, 'trip_distance': 3.79, 'distance': 0.22278995960321732}\n",
      "{'pickup_latitude': 40.764142, 'pickup_longitude': -73.95442, 'trip_distance': 2.27, 'distance': 0.2102847878568507}\n",
      "{'pickup_latitude': 40.725785, 'pickup_longitude': -73.996472, 'trip_distance': 2.81, 'distance': 0.22998129425890385}\n",
      "{'pickup_latitude': 40.773538, 'pickup_longitude': -73.98794, 'trip_distance': 0.8, 'distance': 0.24348858783113372}\n",
      "{'pickup_latitude': 40.726065, 'pickup_longitude': -73.989278, 'trip_distance': 4.84, 'distance': 0.22336163504281709}\n",
      "{'pickup_latitude': 40.728097, 'pickup_longitude': -73.986215, 'trip_distance': 2.9, 'distance': 0.2212655139736006}\n",
      "{'pickup_latitude': 40.745012, 'pickup_longitude': -73.978387, 'trip_distance': 1.18, 'distance': 0.22114889701963478}\n",
      "{'pickup_latitude': 40.774312, 'pickup_longitude': -73.989205, 'trip_distance': 2.0, 'distance': 0.24497155489770886}\n",
      "{'pickup_latitude': 40.761926, 'pickup_longitude': -73.958256, 'trip_distance': 2.9, 'distance': 0.21222762151049948}\n",
      "{'pickup_latitude': 40.7297, 'pickup_longitude': -73.99328, 'trip_distance': 2.39, 'distance': 0.22841830268172691}\n",
      "{'pickup_latitude': 40.76393, 'pickup_longitude': -73.97328, 'trip_distance': 1.84, 'distance': 0.2259660605046757}\n",
      "{'pickup_latitude': 40.78277, 'pickup_longitude': -73.948383, 'trip_distance': 2.3, 'distance': 0.21667995913098015}\n",
      "{'pickup_latitude': 40.759347, 'pickup_longitude': -73.981522, 'trip_distance': 2.73, 'distance': 0.23070860806003798}\n",
      "{'pickup_latitude': 40.725635, 'pickup_longitude': -73.996771, 'trip_distance': 2.0, 'distance': 0.23020866983239133}\n",
      "{'pickup_latitude': 40.751109, 'pickup_longitude': -73.980176, 'trip_distance': 3.5, 'distance': 0.22554953078426324}\n",
      "{'pickup_latitude': 40.73672, 'pickup_longitude': -74.001152, 'trip_distance': 0.98, 'distance': 0.23835954544343976}\n",
      "{'pickup_latitude': 40.74207, 'pickup_longitude': -74.00089, 'trip_distance': 2.33, 'distance': 0.24022946114080257}\n",
      "{'pickup_latitude': 40.75857, 'pickup_longitude': -73.992855, 'trip_distance': 0.65, 'distance': 0.24024866997551436}\n",
      "{'pickup_latitude': 40.727227, 'pickup_longitude': -73.996435, 'trip_distance': 2.64, 'distance': 0.23045727455214682}\n",
      "{'pickup_latitude': 40.741078, 'pickup_longitude': -73.9899, 'trip_distance': 0.9, 'distance': 0.2298031032079509}\n",
      "{'pickup_latitude': 40.748019, 'pickup_longitude': -73.98097, 'trip_distance': 5.6, 'distance': 0.2248177200333659}\n",
      "{'pickup_latitude': 40.762081, 'pickup_longitude': -73.978908, 'trip_distance': 10.5, 'distance': 0.22982282054879455}\n",
      "{'pickup_latitude': 40.746683, 'pickup_longitude': -73.979712, 'trip_distance': 1.1, 'distance': 0.22308817560104638}\n",
      "{'pickup_latitude': 40.75576, 'pickup_longitude': -73.98858, 'trip_distance': 1.3, 'distance': 0.23515356216736633}\n",
      "{'pickup_latitude': 40.737382, 'pickup_longitude': -73.997073, 'trip_distance': 0.88, 'distance': 0.23485958271486596}\n",
      "{'pickup_latitude': 40.773777, 'pickup_longitude': -73.870957, 'trip_distance': 10.33, 'distance': 0.15700760687941853}\n",
      "{'pickup_latitude': 40.762767, 'pickup_longitude': -73.982293, 'trip_distance': 1.4, 'distance': 0.23308781216099644}\n",
      "{'pickup_latitude': 40.788335, 'pickup_longitude': -73.97625, 'trip_distance': 2.06, 'distance': 0.2420987381730802}\n",
      "{'pickup_latitude': 40.708292, 'pickup_longitude': -73.939932, 'trip_distance': 5.75, 'distance': 0.17093527057924798}\n",
      "{'pickup_latitude': 40.737012, 'pickup_longitude': -73.99704, 'trip_distance': 0.47, 'distance': 0.23468391633003047}\n",
      "{'pickup_latitude': 40.785612, 'pickup_longitude': -73.951147, 'trip_distance': 0.4, 'distance': 0.22062077620433504}\n",
      "{'pickup_latitude': 40.763332, 'pickup_longitude': -73.965163, 'trip_distance': 1.8, 'distance': 0.2187821133753907}\n",
      "{'pickup_latitude': 40.757283, 'pickup_longitude': -73.984915, 'trip_distance': 0.7, 'distance': 0.23265831829960854}\n",
      "{'pickup_latitude': 40.769862, 'pickup_longitude': -73.962567, 'trip_distance': 1.65, 'distance': 0.22023883461597915}\n",
      "{'pickup_latitude': 40.763994, 'pickup_longitude': -73.973275, 'trip_distance': 1.2, 'distance': 0.22599550358580345}\n",
      "{'pickup_latitude': 40.719707, 'pickup_longitude': -74.001687, 'trip_distance': 3.88, 'distance': 0.2328501631049529}\n",
      "{'pickup_latitude': 40.763028, 'pickup_longitude': -73.959639, 'trip_distance': 1.4, 'distance': 0.21398900103743487}\n",
      "{'pickup_latitude': 40.780782, 'pickup_longitude': -73.958628, 'trip_distance': 1.42, 'distance': 0.22346791212163625}\n",
      "{'pickup_latitude': 40.756066, 'pickup_longitude': -73.980939, 'trip_distance': 10.9, 'distance': 0.22859029353190666}\n",
      "{'pickup_latitude': 40.79712, 'pickup_longitude': -73.964465, 'trip_distance': 1.02, 'distance': 0.23821823214229976}\n",
      "{'pickup_latitude': 40.772652, 'pickup_longitude': -73.885138, 'trip_distance': 11.98, 'distance': 0.16465445754063396}\n",
      "{'pickup_latitude': 40.782582, 'pickup_longitude': -73.951088, 'trip_distance': 2.03, 'distance': 0.21865608225704605}\n",
      "{'pickup_latitude': 40.754822, 'pickup_longitude': -73.971017, 'trip_distance': 1.93, 'distance': 0.21934572234944982}\n",
      "{'pickup_latitude': 40.722532, 'pickup_longitude': -73.987428, 'trip_distance': 2.88, 'distance': 0.2203709941167375}\n",
      "{'pickup_latitude': 40.760442, 'pickup_longitude': -73.980648, 'trip_distance': 12.7, 'distance': 0.23049645617232742}\n",
      "{'pickup_latitude': 40.764282, 'pickup_longitude': -73.984948, 'trip_distance': 18.6, 'distance': 0.23614446016792956}\n",
      "{'pickup_latitude': 40.746333, 'pickup_longitude': -73.978038, 'trip_distance': 2.2, 'distance': 0.22143912976933525}\n",
      "{'pickup_latitude': 40.770377, 'pickup_longitude': -73.987478, 'trip_distance': 2.82, 'distance': 0.24143973027031101}\n",
      "{'pickup_latitude': 40.763152, 'pickup_longitude': -73.962962, 'trip_distance': 2.11, 'distance': 0.2168360246545818}\n",
      "{'pickup_latitude': 40.75781, 'pickup_longitude': -73.975233, 'trip_distance': 2.1, 'distance': 0.22449178891220553}\n",
      "{'pickup_latitude': 40.745593, 'pickup_longitude': -73.986817, 'trip_distance': 1.9, 'distance': 0.2289538785388929}\n",
      "{'pickup_latitude': 40.783545, 'pickup_longitude': -73.954963, 'trip_distance': 1.26, 'distance': 0.22228010930805858}\n",
      "{'pickup_latitude': 40.757605, 'pickup_longitude': -73.97543, 'trip_distance': 0.77, 'distance': 0.22455924969816315}\n",
      "{'pickup_latitude': 40.75899, 'pickup_longitude': -73.973248, 'trip_distance': 1.02, 'distance': 0.22337780015928152}\n",
      "{'pickup_latitude': 40.713662, 'pickup_longitude': -74.008577, 'trip_distance': 2.3, 'distance': 0.23756869304056577}\n",
      "{'pickup_latitude': 40.776252, 'pickup_longitude': -73.958072, 'trip_distance': 0.74, 'distance': 0.22029776832278974}\n",
      "{'pickup_latitude': 40.764, 'pickup_longitude': -73.97666, 'trip_distance': 2.56, 'distance': 0.22888324578264835}\n",
      "{'pickup_latitude': 40.74787, 'pickup_longitude': -74.003975, 'trip_distance': 1.27, 'distance': 0.24542875753464571}\n",
      "{'pickup_latitude': 40.748717, 'pickup_longitude': -73.992417, 'trip_distance': 2.18, 'distance': 0.23535725146679165}\n",
      "{'pickup_latitude': 40.771905, 'pickup_longitude': -73.965624, 'trip_distance': 2.7, 'distance': 0.22391532752583596}\n",
      "{'pickup_latitude': 40.783138, 'pickup_longitude': -73.947885, 'trip_distance': 3.01, 'distance': 0.2165304369574892}\n",
      "{'pickup_latitude': 40.75708, 'pickup_longitude': -73.96923, 'trip_distance': 0.72, 'distance': 0.21894806347625048}\n",
      "{'pickup_latitude': 40.848462, 'pickup_longitude': -73.937645, 'trip_distance': 1.0, 'distance': 0.25669347441842233}\n",
      "{'pickup_latitude': 40.744697, 'pickup_longitude': -73.98626, 'trip_distance': 0.49, 'distance': 0.22806051378746475}\n",
      "{'pickup_latitude': 40.768147, 'pickup_longitude': -73.968142, 'trip_distance': 6.52, 'distance': 0.22390545931933217}\n",
      "{'pickup_latitude': 40.741328, 'pickup_longitude': -73.989642, 'trip_distance': 0.8, 'distance': 0.22967351677545103}\n",
      "{'pickup_latitude': 40.77847, 'pickup_longitude': -73.98185, 'trip_distance': 2.07, 'distance': 0.24103402332450644}\n",
      "{'pickup_latitude': 40.782873, 'pickup_longitude': -73.948122, 'trip_distance': 4.8, 'distance': 0.21654415363385135}\n",
      "{'pickup_latitude': 40.78711, 'pickup_longitude': -73.954356, 'trip_distance': 2.6, 'distance': 0.2240500230662835}\n",
      "{'pickup_latitude': 40.762862, 'pickup_longitude': -73.985855, 'trip_distance': 1.93, 'distance': 0.23621588729169196}\n",
      "{'pickup_latitude': 40.78579, 'pickup_longitude': -73.976302, 'trip_distance': 5.79, 'distance': 0.24064277072873494}\n",
      "{'pickup_latitude': 40.782512, 'pickup_longitude': -73.95305, 'trip_distance': 2.62, 'distance': 0.22014066067858049}\n",
      "{'pickup_latitude': 40.771552, 'pickup_longitude': -73.953405, 'trip_distance': 4.9, 'distance': 0.21375154939555957}\n",
      "{'pickup_latitude': 40.759172, 'pickup_longitude': -73.968517, 'trip_distance': 5.37, 'distance': 0.21941723226083054}\n",
      "{'pickup_latitude': 40.740622, 'pickup_longitude': -74.007735, 'trip_distance': 2.46, 'distance': 0.24593950810921045}\n",
      "{'pickup_latitude': 40.750938, 'pickup_longitude': -73.974878, 'trip_distance': 1.5, 'distance': 0.22080651414304417}\n",
      "{'pickup_latitude': 40.77435, 'pickup_longitude': -73.963497, 'trip_distance': 1.8, 'distance': 0.22357199737221606}\n",
      "{'pickup_latitude': 40.77831, 'pickup_longitude': -73.9454, 'trip_distance': 1.33, 'distance': 0.21154735852759446}\n",
      "{'pickup_latitude': 40.760477, 'pickup_longitude': -73.998625, 'trip_distance': 2.48, 'distance': 0.24623692410766426}\n",
      "{'pickup_latitude': 40.77338, 'pickup_longitude': -73.954888, 'trip_distance': 0.53, 'distance': 0.21602982373737395}\n",
      "{'pickup_latitude': 40.760643, 'pickup_longitude': -73.962616, 'trip_distance': 0.5, 'distance': 0.21518718726959685}\n",
      "{'pickup_latitude': 40.68703, 'pickup_longitude': -73.98489, 'trip_distance': 6.07, 'distance': 0.20803208694814002}\n",
      "{'pickup_latitude': 40.77164, 'pickup_longitude': -73.98298, 'trip_distance': 2.27, 'distance': 0.23827625018033147}\n",
      "{'pickup_latitude': 40.764902, 'pickup_longitude': -73.97692, 'trip_distance': 1.67, 'distance': 0.22957521783503515}\n",
      "{'pickup_latitude': 40.767331, 'pickup_longitude': -73.962998, 'trip_distance': 0.8, 'distance': 0.21917120108490643}\n",
      "{'pickup_latitude': 40.77919, 'pickup_longitude': -73.954987, 'trip_distance': 0.5, 'distance': 0.21961088900371506}\n",
      "{'pickup_latitude': 40.763407, 'pickup_longitude': -73.974485, 'trip_distance': 4.52, 'distance': 0.22671790426431263}\n",
      "{'pickup_latitude': 40.751124, 'pickup_longitude': -73.975967, 'trip_distance': 3.9, 'distance': 0.22185150313892307}\n",
      "{'pickup_latitude': 40.73599, 'pickup_longitude': -74.000955, 'trip_distance': 1.5, 'distance': 0.23789753681995895}\n",
      "{'pickup_latitude': 40.761058, 'pickup_longitude': -73.985524, 'trip_distance': 2.2, 'distance': 0.2350330030017066}\n",
      "{'pickup_latitude': 40.745909, 'pickup_longitude': -73.998101, 'trip_distance': 1.3, 'distance': 0.23927469770538487}\n",
      "{'pickup_latitude': 40.744849, 'pickup_longitude': -73.991395, 'trip_distance': 1.1, 'distance': 0.23275476344427545}\n",
      "{'pickup_latitude': 40.750342, 'pickup_longitude': -73.994657, 'trip_distance': 4.28, 'distance': 0.23808461301185282}\n",
      "{'pickup_latitude': 40.763665, 'pickup_longitude': -73.986105, 'trip_distance': 1.3, 'distance': 0.23683392419583818}\n",
      "{'pickup_latitude': 40.765862, 'pickup_longitude': -73.9606, 'trip_distance': 2.65, 'distance': 0.21636160214788724}\n",
      "{'pickup_latitude': 40.75729, 'pickup_longitude': -73.98991, 'trip_distance': 1.56, 'distance': 0.2370485764563851}\n",
      "{'pickup_latitude': 40.763148, 'pickup_longitude': -73.979234, 'trip_distance': 1.1, 'distance': 0.23064818234706222}\n",
      "{'pickup_latitude': 40.70626, 'pickup_longitude': -74.004265, 'trip_distance': 1.62, 'distance': 0.23137483900589362}\n",
      "{'pickup_latitude': 40.782011, 'pickup_longitude': -73.956252, 'trip_distance': 3.6, 'distance': 0.222340875335604}\n",
      "{'pickup_latitude': 40.671487, 'pickup_longitude': -73.984354, 'trip_distance': 0.6, 'distance': 0.204924270463505}\n",
      "{'pickup_latitude': 40.753034, 'pickup_longitude': -73.989329, 'trip_distance': 1.2, 'distance': 0.23454637489631006}\n",
      "{'pickup_latitude': 40.744997, 'pickup_longitude': -73.981732, 'trip_distance': 0.81, 'distance': 0.22413062881498022}\n",
      "{'pickup_latitude': 40.721882, 'pickup_longitude': -73.989213, 'trip_distance': 4.11, 'distance': 0.22181657204321825}\n",
      "{'pickup_latitude': 40.752342, 'pickup_longitude': -73.974746, 'trip_distance': 7.6, 'distance': 0.22136816193843123}\n",
      "{'pickup_latitude': 40.709415, 'pickup_longitude': -74.008147, 'trip_distance': 3.3, 'distance': 0.23596232460712607}\n",
      "{'pickup_latitude': 40.755637, 'pickup_longitude': -73.96482, 'trip_distance': 0.58, 'distance': 0.2144234770471797}\n",
      "{'pickup_latitude': 40.780847, 'pickup_longitude': -73.981522, 'trip_distance': 1.0, 'distance': 0.24208689108045692}\n",
      "{'pickup_latitude': 40.73668, 'pickup_longitude': -73.995368, 'trip_distance': 1.1, 'distance': 0.2330158956466297}\n",
      "{'pickup_latitude': 40.707517, 'pickup_longitude': -74.004445, 'trip_distance': 7.8, 'distance': 0.2318842011737834}\n",
      "{'pickup_latitude': 40.73706, 'pickup_longitude': -73.99012, 'trip_distance': 1.09, 'distance': 0.22835355438443086}\n",
      "{'pickup_latitude': 40.769119, 'pickup_longitude': -73.987085, 'trip_distance': 4.1, 'distance': 0.24045214256895173}\n",
      "{'pickup_latitude': 40.750492, 'pickup_longitude': -73.99465, 'trip_distance': 2.64, 'distance': 0.23814475010799352}\n",
      "{'pickup_latitude': 40.779416, 'pickup_longitude': -73.957448, 'trip_distance': 11.3, 'distance': 0.2217010019824005}\n",
      "{'pickup_latitude': 40.779454, 'pickup_longitude': -73.961831, 'trip_distance': 1.7, 'distance': 0.22522475675867176}\n",
      "{'pickup_latitude': 40.773952, 'pickup_longitude': -73.871235, 'trip_distance': 8.12, 'distance': 0.15731021794213085}\n",
      "{'pickup_latitude': 40.756805, 'pickup_longitude': -73.990317, 'trip_distance': 0.8, 'distance': 0.23717805150140536}\n",
      "{'pickup_latitude': 40.766251, 'pickup_longitude': -73.98011, 'trip_distance': 0.2, 'distance': 0.23300066892822238}\n",
      "{'pickup_latitude': 40.747098, 'pickup_longitude': -73.98622, 'trip_distance': 4.6, 'distance': 0.229084588228896}\n",
      "{'pickup_latitude': 40.774347, 'pickup_longitude': -73.963485, 'trip_distance': 0.9, 'distance': 0.2235604743106504}\n",
      "{'pickup_latitude': 40.73735, 'pickup_longitude': -73.988662, 'trip_distance': 3.05, 'distance': 0.22713784304691137}\n",
      "{'pickup_latitude': 40.755507, 'pickup_longitude': -73.976157, 'trip_distance': 1.03, 'distance': 0.2241466871002154}\n",
      "{'pickup_latitude': 0.0, 'pickup_longitude': 0.0, 'trip_distance': 1.09, 'distance': 84.23581962219279}\n",
      "{'pickup_latitude': 40.77734, 'pickup_longitude': -73.978578, 'trip_distance': 2.2, 'distance': 0.23768537541043935}\n",
      "{'pickup_latitude': 40.730313, 'pickup_longitude': -74.00019, 'trip_distance': 1.1, 'distance': 0.2350713422112602}\n",
      "{'pickup_latitude': 40.770965, 'pickup_longitude': -73.964002, 'trip_distance': 0.78, 'distance': 0.2220462891583601}\n",
      "{'pickup_latitude': 40.747897, 'pickup_longitude': -74.003746, 'trip_distance': 1.3, 'distance': 0.24523219581654615}\n",
      "{'pickup_latitude': 40.743013, 'pickup_longitude': -73.992796, 'trip_distance': 3.5, 'distance': 0.2332435161906978}\n",
      "{'pickup_latitude': 40.757036, 'pickup_longitude': -73.976146, 'trip_distance': 2.5, 'distance': 0.22489496688899274}\n",
      "{'pickup_latitude': 40.75083, 'pickup_longitude': -73.990808, 'trip_distance': 1.27, 'distance': 0.2348586437923928}\n",
      "{'pickup_latitude': 40.747865, 'pickup_longitude': -73.99322, 'trip_distance': 0.63, 'distance': 0.23570521955399765}\n",
      "{'pickup_latitude': 40.758215, 'pickup_longitude': -73.937667, 'trip_distance': 1.66, 'distance': 0.19317730693330024}\n",
      "{'pickup_latitude': 40.750687, 'pickup_longitude': -73.943522, 'trip_distance': 2.38, 'distance': 0.1937434442581256}\n",
      "{'pickup_latitude': 40.734432, 'pickup_longitude': -73.99974, 'trip_distance': 1.82, 'distance': 0.2361809887861475}\n",
      "{'pickup_latitude': 40.766799, 'pickup_longitude': -73.983307, 'trip_distance': 2.1, 'distance': 0.2360188236772644}\n",
      "{'pickup_latitude': 40.752133, 'pickup_longitude': -74.004754, 'trip_distance': 1.9, 'distance': 0.24794832377937964}\n",
      "{'pickup_latitude': 40.719627, 'pickup_longitude': -74.00689, 'trip_distance': 1.4, 'distance': 0.23775876296995077}\n",
      "{'pickup_latitude': 40.77012, 'pickup_longitude': -73.86361, 'trip_distance': 12.55, 'distance': 0.14985716032275284}\n",
      "{'pickup_latitude': 40.753714, 'pickup_longitude': -73.992042, 'trip_distance': 0.3, 'distance': 0.23726850579038294}\n",
      "{'pickup_latitude': 40.779378, 'pickup_longitude': -73.97747, 'trip_distance': 1.0, 'distance': 0.2379110694019939}\n",
      "{'pickup_latitude': 40.764967, 'pickup_longitude': -73.989047, 'trip_distance': 1.5, 'distance': 0.24003258765842772}\n",
      "{'pickup_latitude': 40.724772, 'pickup_longitude': -73.990509, 'trip_distance': 3.9, 'distance': 0.22404543825974874}\n",
      "{'pickup_latitude': 40.734817, 'pickup_longitude': -73.990455, 'trip_distance': 2.18, 'distance': 0.2277662682532252}\n",
      "{'pickup_latitude': 40.751752, 'pickup_longitude': -73.990012, 'trip_distance': 0.3, 'distance': 0.23456653573772876}\n",
      "{'pickup_latitude': 40.756564, 'pickup_longitude': -73.994046, 'trip_distance': 1.2, 'distance': 0.2403611122706826}\n",
      "{'pickup_latitude': 40.742736, 'pickup_longitude': -74.000354, 'trip_distance': 1.5, 'distance': 0.2400097375774622}\n",
      "{'pickup_latitude': 0.0, 'pickup_longitude': 0.0, 'trip_distance': 9.7, 'distance': 84.23581962219279}\n",
      "{'pickup_latitude': 40.741672, 'pickup_longitude': -74.004627, 'trip_distance': 1.28, 'distance': 0.2434941039388868}\n",
      "{'pickup_latitude': 40.72597, 'pickup_longitude': -73.99738, 'trip_distance': 1.4, 'distance': 0.23089645579783993}\n",
      "{'pickup_latitude': 40.743772, 'pickup_longitude': -73.992388, 'trip_distance': 1.2, 'distance': 0.2331938596275718}\n",
      "{'pickup_latitude': 40.71032, 'pickup_longitude': -74.009677, 'trip_distance': 0.9, 'distance': 0.23768171706927788}\n",
      "{'pickup_latitude': 40.710885, 'pickup_longitude': -74.010269, 'trip_distance': 3.2, 'distance': 0.23840651666009133}\n",
      "{'pickup_latitude': 40.768567, 'pickup_longitude': -73.969685, 'trip_distance': 1.46, 'distance': 0.22542564440187363}\n",
      "{'pickup_latitude': 40.755322, 'pickup_longitude': -73.987748, 'trip_distance': 4.19, 'distance': 0.23421332974021733}\n",
      "{'pickup_latitude': 40.750872, 'pickup_longitude': -73.993015, 'trip_distance': 2.3, 'distance': 0.23684969104687797}\n",
      "{'pickup_latitude': 40.691887, 'pickup_longitude': -73.982322, 'trip_distance': 5.8, 'distance': 0.20656597540011276}\n",
      "{'pickup_latitude': 40.753002, 'pickup_longitude': -73.996735, 'trip_distance': 1.33, 'distance': 0.2411296007731161}\n",
      "{'pickup_latitude': 40.765657, 'pickup_longitude': -73.970445, 'trip_distance': 0.34, 'distance': 0.2244841239687116}\n",
      "{'pickup_latitude': 40.718429, 'pickup_longitude': -73.987265, 'trip_distance': 2.3, 'distance': 0.21880740377327}\n",
      "{'pickup_latitude': 40.75261, 'pickup_longitude': -73.978503, 'trip_distance': 0.55, 'distance': 0.22478939256335487}\n",
      "{'pickup_latitude': 40.774841, 'pickup_longitude': -73.963199, 'trip_distance': 0.4, 'distance': 0.2236137755193156}\n",
      "{'pickup_latitude': 40.820267, 'pickup_longitude': -73.955068, 'trip_distance': 0.9, 'distance': 0.24692002238174326}\n",
      "{'pickup_latitude': 40.749905, 'pickup_longitude': -73.995245, 'trip_distance': 1.98, 'distance': 0.23841943345709007}\n",
      "{'pickup_latitude': 40.790222, 'pickup_longitude': -73.976825, 'trip_distance': 1.55, 'distance': 0.24368225099297514}\n",
      "{'pickup_latitude': 40.751243, 'pickup_longitude': -73.993928, 'trip_distance': 0.7, 'distance': 0.2378322461168808}\n",
      "{'pickup_latitude': 40.769372, 'pickup_longitude': -73.984837, 'trip_distance': 0.5, 'distance': 0.23866142523038816}\n",
      "{'pickup_latitude': 40.802452, 'pickup_longitude': -73.9623, 'trip_distance': 2.9, 'distance': 0.24002000738272136}\n",
      "{'pickup_latitude': 40.740012, 'pickup_longitude': -73.99121, 'trip_distance': 1.13, 'distance': 0.23055234564844365}\n",
      "{'pickup_latitude': 40.724477, 'pickup_longitude': -73.98706, 'trip_distance': 1.79, 'distance': 0.2207195307828495}\n",
      "{'pickup_latitude': 40.649679, 'pickup_longitude': -73.804526, 'trip_distance': 1.4, 'distance': 0.02384164627285503}\n",
      "{'pickup_latitude': 40.763434, 'pickup_longitude': -73.965213, 'trip_distance': 1.0, 'distance': 0.21887934828348357}\n",
      "{'pickup_latitude': 40.813836, 'pickup_longitude': -73.936919, 'trip_distance': 0.8, 'distance': 0.2297236450107013}\n",
      "{'pickup_latitude': 40.748613, 'pickup_longitude': -73.983003, 'trip_distance': 4.4, 'distance': 0.22689724488851712}\n",
      "{'pickup_latitude': 40.756067, 'pickup_longitude': -73.990297, 'trip_distance': 1.51, 'distance': 0.23681336013409593}\n",
      "{'pickup_latitude': 40.751127, 'pickup_longitude': -73.993905, 'trip_distance': 0.96, 'distance': 0.23775986371547217}\n",
      "{'pickup_latitude': 40.757541, 'pickup_longitude': -73.974641, 'trip_distance': 10.9, 'distance': 0.22384480043548957}\n",
      "{'pickup_latitude': 40.783417, 'pickup_longitude': -73.951313, 'trip_distance': 1.0, 'distance': 0.2193569713913848}\n",
      "{'pickup_latitude': 40.755617, 'pickup_longitude': -73.962448, 'trip_distance': 0.9, 'distance': 0.2123847874330917}\n",
      "{'pickup_latitude': 40.770837, 'pickup_longitude': -73.991015, 'trip_distance': 1.5, 'distance': 0.24470550797643137}\n",
      "{'pickup_latitude': 40.770932, 'pickup_longitude': -73.86622, 'trip_distance': 2.55, 'distance': 0.15198122339289416}\n",
      "{'pickup_latitude': 40.742625, 'pickup_longitude': -73.995955, 'trip_distance': 0.7, 'distance': 0.23595292168142074}\n",
      "{'pickup_latitude': 40.767386, 'pickup_longitude': -73.98615, 'trip_distance': 4.9, 'distance': 0.23875883400619918}\n",
      "{'pickup_latitude': 40.729417, 'pickup_longitude': -73.98997, 'trip_distance': 1.62, 'distance': 0.22524144984660543}\n",
      "{'pickup_latitude': 0.0, 'pickup_longitude': 0.0, 'trip_distance': 1.4, 'distance': 84.23581962219279}\n",
      "{'pickup_latitude': 40.76026, 'pickup_longitude': -73.97671, 'trip_distance': 3.38, 'distance': 0.22700415524831416}\n",
      "{'pickup_latitude': 40.748453, 'pickup_longitude': -73.973209, 'trip_distance': 1.6, 'distance': 0.21815419283158352}\n",
      "{'pickup_latitude': 40.763605, 'pickup_longitude': -73.98895, 'trip_distance': 6.5, 'distance': 0.2392704708588214}\n",
      "{'pickup_latitude': 40.735872, 'pickup_longitude': -74.006705, 'trip_distance': 0.81, 'distance': 0.24317605957207233}\n",
      "{'pickup_latitude': 40.761363, 'pickup_longitude': -73.969672, 'trip_distance': 0.25, 'distance': 0.22154733041272012}\n",
      "{'pickup_latitude': 40.661145, 'pickup_longitude': -73.997122, 'trip_distance': 2.86, 'distance': 0.21657536519420512}\n",
      "{'pickup_latitude': 40.748542, 'pickup_longitude': -73.987952, 'trip_distance': 1.05, 'distance': 0.23127923362897151}\n",
      "{'pickup_latitude': 40.781112, 'pickup_longitude': -73.954135, 'trip_distance': 3.7, 'distance': 0.2201204422787649}\n",
      "{'pickup_latitude': 40.762465, 'pickup_longitude': -73.957122, 'trip_distance': 1.0, 'distance': 0.21158100200396132}\n",
      "{'pickup_latitude': 40.74805, 'pickup_longitude': -74.00412, 'trip_distance': 2.27, 'distance': 0.24563587787617974}\n",
      "{'pickup_latitude': 40.780242, 'pickup_longitude': -73.959577, 'trip_distance': 0.9, 'distance': 0.2238957298230586}\n",
      "{'pickup_latitude': 40.764726, 'pickup_longitude': -73.976783, 'trip_distance': 3.1, 'distance': 0.2293664761577007}\n",
      "{'pickup_latitude': 40.733294, 'pickup_longitude': -74.002744, 'trip_distance': 0.2, 'distance': 0.23854034722034909}\n",
      "{'pickup_latitude': 40.74976, 'pickup_longitude': -73.993847, 'trip_distance': 1.08, 'distance': 0.23710075223204763}\n",
      "{'pickup_latitude': 40.753168, 'pickup_longitude': -73.969728, 'trip_distance': 1.7, 'distance': 0.21740317791606237}\n",
      "{'pickup_latitude': 40.764099, 'pickup_longitude': -73.973033, 'trip_distance': 0.8, 'distance': 0.22584516724960493}\n",
      "{'pickup_latitude': 40.796757, 'pickup_longitude': -73.970537, 'trip_distance': 6.8, 'distance': 0.242694577726818}\n",
      "{'pickup_latitude': 40.765015, 'pickup_longitude': -73.976836, 'trip_distance': 1.1, 'distance': 0.22956265206039758}\n",
      "{'pickup_latitude': 40.722397, 'pickup_longitude': -73.988933, 'trip_distance': 0.6, 'distance': 0.22173321523398956}\n",
      "{'pickup_latitude': 40.784722, 'pickup_longitude': -73.958018, 'trip_distance': 1.48, 'distance': 0.22540479419923667}\n",
      "{'pickup_latitude': 40.734082, 'pickup_longitude': -74.006202, 'trip_distance': 2.03, 'distance': 0.24204501062406236}\n",
      "{'pickup_latitude': 40.74772, 'pickup_longitude': -73.98274, 'trip_distance': 0.56, 'distance': 0.22625644963183772}\n",
      "{'pickup_latitude': 40.774329, 'pickup_longitude': -73.988897, 'trip_distance': 2.3, 'distance': 0.24471900810929964}\n",
      "{'pickup_latitude': 40.742366, 'pickup_longitude': -73.99317, 'trip_distance': 0.6, 'distance': 0.23331216379778297}\n",
      "{'pickup_latitude': 40.739342, 'pickup_longitude': -74.001677, 'trip_distance': 0.7, 'distance': 0.2398634145362772}\n",
      "{'pickup_latitude': 40.756363, 'pickup_longitude': -73.985773, 'trip_distance': 1.4, 'distance': 0.2329689190814931}\n",
      "{'pickup_latitude': 40.738254, 'pickup_longitude': -73.983499, 'trip_distance': 3.8, 'distance': 0.22280774559471406}\n",
      "{'pickup_latitude': 40.735046, 'pickup_longitude': -73.990119, 'trip_distance': 1.1, 'distance': 0.227548074254659}\n",
      "{'pickup_latitude': 40.755857, 'pickup_longitude': -73.997045, 'trip_distance': 3.1, 'distance': 0.2426976363997004}\n",
      "{'pickup_latitude': 40.772357, 'pickup_longitude': -73.960927, 'trip_distance': 0.88, 'distance': 0.22032276872352616}\n",
      "{'pickup_latitude': 40.775272, 'pickup_longitude': -73.95043, 'trip_distance': 1.78, 'distance': 0.21360973274642817}\n",
      "{'pickup_latitude': 40.763642, 'pickup_longitude': -73.988995, 'trip_distance': 7.68, 'distance': 0.2393278945902501}\n",
      "{'pickup_latitude': 40.768787, 'pickup_longitude': -73.862845, 'trip_distance': 12.15, 'distance': 0.14832319519886364}\n",
      "{'pickup_latitude': 40.772327, 'pickup_longitude': -73.952635, 'trip_distance': 0.83, 'distance': 0.21359264218132767}\n",
      "{'pickup_latitude': 40.750617, 'pickup_longitude': -73.97391, 'trip_distance': 1.6, 'distance': 0.2198032773390841}\n",
      "{'pickup_latitude': 40.74049, 'pickup_longitude': -73.998152, 'trip_distance': 4.2, 'distance': 0.23708673097413882}\n",
      "{'pickup_latitude': 40.759067, 'pickup_longitude': -73.977369, 'trip_distance': 1.1, 'distance': 0.22697016960384928}\n",
      "{'pickup_latitude': 40.762444, 'pickup_longitude': -73.98244, 'trip_distance': 0.8, 'distance': 0.23305172433603788}\n",
      "{'pickup_latitude': 40.774087, 'pickup_longitude': -73.874592, 'trip_distance': 9.25, 'distance': 0.1593657515685297}\n",
      "{'pickup_latitude': 40.781736, 'pickup_longitude': -73.981283, 'trip_distance': 0.4, 'distance': 0.2423895340253037}\n",
      "{'pickup_latitude': 40.757812, 'pickup_longitude': -73.989042, 'trip_distance': 1.46, 'distance': 0.23653305762197543}\n",
      "{'pickup_latitude': 40.787172, 'pickup_longitude': -73.97763, 'trip_distance': 0.53, 'distance': 0.2425285787778478}\n"
     ]
    },
    {
     "ename": "AttributeError",
     "evalue": "'list' object has no attribute 'sorted'",
     "output_type": "error",
     "traceback": [
      "\u001b[0;31m\u001b[0m",
      "\u001b[0;31mAttributeError\u001b[0mTraceback (most recent call last)",
      "\u001b[0;32m<ipython-input-41-09da5e6ba786>\u001b[0m in \u001b[0;36m<module>\u001b[0;34m()\u001b[0m\n\u001b[1;32m      4\u001b[0m \u001b[0;34m\u001b[0m\u001b[0m\n\u001b[1;32m      5\u001b[0m \u001b[0;34m\u001b[0m\u001b[0m\n\u001b[0;32m----> 6\u001b[0;31m \u001b[0mnearest_neighbors\u001b[0m\u001b[0;34m(\u001b[0m\u001b[0mselected_trip\u001b[0m\u001b[0;34m,\u001b[0m \u001b[0mparsed_trips\u001b[0m \u001b[0;32mor\u001b[0m \u001b[0;34m[\u001b[0m\u001b[0;34m]\u001b[0m\u001b[0;34m,\u001b[0m \u001b[0mnumber\u001b[0m \u001b[0;34m=\u001b[0m \u001b[0;36m3\u001b[0m\u001b[0;34m)\u001b[0m\u001b[0;34m\u001b[0m\u001b[0m\n\u001b[0m\u001b[1;32m      7\u001b[0m \u001b[0;34m\u001b[0m\u001b[0m\n\u001b[1;32m      8\u001b[0m \u001b[0;31m# [{'distance': 0.0004569288784918792,\u001b[0m\u001b[0;34m\u001b[0m\u001b[0;34m\u001b[0m\u001b[0m\n",
      "\u001b[0;32m<ipython-input-40-266fc00d5dae>\u001b[0m in \u001b[0;36mnearest_neighbors\u001b[0;34m(selected_individual, neighbors, number)\u001b[0m\n\u001b[1;32m     10\u001b[0m         \u001b[0mneighbors_list\u001b[0m\u001b[0;34m.\u001b[0m\u001b[0mappend\u001b[0m\u001b[0;34m(\u001b[0m\u001b[0mnew_item\u001b[0m\u001b[0;34m)\u001b[0m\u001b[0;34m\u001b[0m\u001b[0m\n\u001b[1;32m     11\u001b[0m \u001b[0;34m\u001b[0m\u001b[0m\n\u001b[0;32m---> 12\u001b[0;31m     \u001b[0;32mreturn\u001b[0m \u001b[0mneighbors_list\u001b[0m\u001b[0;34m.\u001b[0m\u001b[0msorted\u001b[0m\u001b[0;34m\u001b[0m\u001b[0m\n\u001b[0m\u001b[1;32m     13\u001b[0m \u001b[0;31m#     pass\u001b[0m\u001b[0;34m\u001b[0m\u001b[0;34m\u001b[0m\u001b[0m\n",
      "\u001b[0;31mAttributeError\u001b[0m: 'list' object has no attribute 'sorted'"
     ]
    }
   ],
   "source": [
    "selected_trip = {'pickup_latitude': 40.64499,\n",
    "'pickup_longitude': -73.78115,\n",
    "'trip_distance': 18.38}\n",
    "\n",
    "\n",
    "nearest_neighbors(selected_trip, parsed_trips or [], number = 3)\n",
    "\n",
    "# [{'distance': 0.0004569288784918792,\n",
    "#   'pickup_latitude': 40.64483,\n",
    "#   'pickup_longitude': -73.781578,\n",
    "#   'trip_distance': 7.78},\n",
    "#  {'distance': 0.0011292165425673159,\n",
    "#   'pickup_latitude': 40.644657,\n",
    "#   'pickup_longitude': -73.782229,\n",
    "#   'trip_distance': 12.7},\n",
    "#  {'distance': 0.0042359798158141185,\n",
    "#   'pickup_latitude': 40.648509,\n",
    "#   'pickup_longitude': -73.783508,\n",
    "#   'trip_distance': 17.3}]"
   ]
  },
  {
   "cell_type": "markdown",
   "metadata": {},
   "source": [
    "### Choosing the correct number of neighbors"
   ]
  },
  {
   "cell_type": "markdown",
   "metadata": {},
   "source": [
    "Now in working with a nearest neighbors formula, one tricky question is how many neighbors we should use.  Remember that our guess is that trips that have similar pickup locations will have similar lengths of trips.  Then we will just take the median of the trip lengths of this group together to make a prediction.  \n",
    "\n",
    "If we choose too many neighbors, then we'll be averaging together distances from all over town, and we won't really be differentiating between locations.  But if we  look at the trip distances of the three neighbors above, this may be small.  Take a look at the `trip_distances` of the 3 neighbors above.  It's hard to tell if the trip distance of 7 is more typical than the distance of 17.  In other words, our sample size is small.\n",
    "\n",
    "The choice of the correct number of neighbors is called choosing the correct $k$, as that the variable often assigned to the number of neighbors.  We'll experiment with the our $k$ size throughout the rest of this lab."
   ]
  },
  {
   "cell_type": "markdown",
   "metadata": {},
   "source": [
    "Let's increase the number of our neighbors to see what happens. "
   ]
  },
  {
   "cell_type": "code",
   "execution_count": 128,
   "metadata": {
    "collapsed": true
   },
   "outputs": [],
   "source": [
    "seven_closest = nearest_neighbors(selected_trip, parsed_trips or [], number = 7)\n",
    "seven_closest"
   ]
  },
  {
   "cell_type": "markdown",
   "metadata": {},
   "source": [
    "Notice that most of the data is a distance of .0045 away, so going to the top 7 nearest neighbors didn't seem to give us neighbors too far from each other, which is a good sign.  Still, it's hard to know what distance in latitude and longitude really look like, so let's try mapping the data.  "
   ]
  },
  {
   "cell_type": "code",
   "execution_count": 129,
   "metadata": {
    "collapsed": true
   },
   "outputs": [],
   "source": [
    "# seven_lats = trip_latitudes(seven_closest)\n",
    "# seven_longs = trip_longitudes(seven_closest)"
   ]
  },
  {
   "cell_type": "code",
   "execution_count": 130,
   "metadata": {
    "collapsed": true
   },
   "outputs": [],
   "source": [
    "# gmap = gmplot.GoogleMapPlotter(first_trip['pickup_latitude'], first_trip['pickup_longitude'], 15)\n",
    "# gmap.scatter(seven_lats, seven_longs, 'cornflowerblue', edge_width=10)\n",
    "# gmap.draw(\"nearestneighbors.html\")"
   ]
  },
  {
   "cell_type": "markdown",
   "metadata": {},
   "source": [
    "![](./airportdata.png)"
   ]
  },
  {
   "cell_type": "markdown",
   "metadata": {},
   "source": [
    "Well, it looks like we can't really make an assessment of a good $k$ size with this data.  Our location is the airport, which is probably not a very typical place to see if our $k$ size is good for predicting trip lengths.\n",
    "\n",
    "Let's choose another spot that we expect to be less atypical.  Fifty-first street and 7th Avenue is at $40.761710, -73.982760$.  Now let's again try to see if seven locations is a good spread, but this time starting from midtown."
   ]
  },
  {
   "cell_type": "code",
   "execution_count": 131,
   "metadata": {
    "collapsed": true
   },
   "outputs": [],
   "source": [
    "# midtown_loc = {'pickup_latitude': 40.761710, 'pickup_longitude': -73.982760}\n",
    "# midtown_neighbors = nearest_neighbors(midtown_loc, parsed_trips, number = 7)\n",
    "# list(map(lambda trip: trip['distance'], midtown_neighbors))"
   ]
  },
  {
   "cell_type": "markdown",
   "metadata": {},
   "source": [
    "The distances between neighbors double in size as our $k$ goes from four to five.  How far is this distance really?"
   ]
  },
  {
   "cell_type": "code",
   "execution_count": 132,
   "metadata": {
    "collapsed": true
   },
   "outputs": [],
   "source": [
    "# gmap = gmplot.GoogleMapPlotter(midtown_loc['pickup_latitude'], midtown_loc['pickup_longitude'], 15)\n",
    "# closest_lats = trip_latitudes(midtown_neighbors)\n",
    "# closest_longs = trip_longitudes(midtown_neighbors)\n",
    "\n",
    "# gmap.scatter(closest_lats, closest_longs, 'cornflowerblue', edge_width=10)\n",
    "# gmap.draw(\"nearestmidtown.html\")"
   ]
  },
  {
   "cell_type": "markdown",
   "metadata": {},
   "source": [
    "![](./midtown.png)"
   ]
  },
  {
   "cell_type": "markdown",
   "metadata": {},
   "source": [
    "So essentially this is one or two blocks away from our location of 51st and 7th.  Not too bad.  Looking at the length of the trip for our seven it seems like our neighbor size, $k$, is large enough so we can start to see what would be an expected trip distance."
   ]
  },
  {
   "cell_type": "code",
   "execution_count": 133,
   "metadata": {
    "collapsed": true
   },
   "outputs": [],
   "source": [
    "# midtown_neighbors"
   ]
  },
  {
   "cell_type": "markdown",
   "metadata": {},
   "source": [
    "### Calculating an expected trip distance"
   ]
  },
  {
   "cell_type": "markdown",
   "metadata": {},
   "source": [
    "Another way of thinking about the number of neighbors we should choose, is to think the deviation from the median distance.  We want to make sure our number is not so large so that when we choose a location, it just looks like the expected distance across all taxi trips in Manhattan. \n",
    "\n",
    "Let's write a function called `median_of` that takes a list of trips, and returns the median `trip_distance`."
   ]
  },
  {
   "cell_type": "code",
   "execution_count": 134,
   "metadata": {
    "collapsed": true
   },
   "outputs": [],
   "source": [
    "import statistics\n",
    "def median_of(neighbors):\n",
    "    pass"
   ]
  },
  {
   "cell_type": "code",
   "execution_count": 135,
   "metadata": {
    "collapsed": true
   },
   "outputs": [],
   "source": [
    "median_of(parsed_trips or [])"
   ]
  },
  {
   "cell_type": "markdown",
   "metadata": {},
   "source": [
    "So when we compare this with our `midtown_neighbors`, we can see that the number is different.  So our number of neighbors is not so large so that we look like the median."
   ]
  },
  {
   "cell_type": "code",
   "execution_count": 136,
   "metadata": {
    "collapsed": true
   },
   "outputs": [],
   "source": [
    "# median_of(midtown_neighbors)"
   ]
  },
  {
   "cell_type": "markdown",
   "metadata": {},
   "source": [
    "Still, if we begin to change the number of neighbors from seven to ten, our median really starts to change."
   ]
  },
  {
   "cell_type": "code",
   "execution_count": 137,
   "metadata": {
    "collapsed": true
   },
   "outputs": [],
   "source": [
    "# median_of(nearest_neighbors(midtown_loc, parsed_trips, number = 10))"
   ]
  },
  {
   "cell_type": "markdown",
   "metadata": {},
   "source": [
    "Notice however, that between 15 to 20, to 25, our formula begins to give us a similar result.  "
   ]
  },
  {
   "cell_type": "code",
   "execution_count": 138,
   "metadata": {
    "collapsed": true
   },
   "outputs": [],
   "source": [
    "# median_of(nearest_neighbors(midtown_loc, parsed_trips, number = 25))"
   ]
  },
  {
   "cell_type": "markdown",
   "metadata": {},
   "source": [
    "So it appears that around 20 could be a sweet spot. Let's try another location to see how we do."
   ]
  },
  {
   "cell_type": "code",
   "execution_count": 139,
   "metadata": {
    "collapsed": true
   },
   "outputs": [],
   "source": [
    "# uws_loc = {'pickup_latitude': 40.786430, 'pickup_longitude': -73.975979}"
   ]
  },
  {
   "cell_type": "code",
   "execution_count": 140,
   "metadata": {
    "collapsed": true
   },
   "outputs": [],
   "source": [
    "# median_of(nearest_neighbors(uws_loc, parsed_trips, number = 20))"
   ]
  },
  {
   "cell_type": "code",
   "execution_count": 141,
   "metadata": {
    "collapsed": true
   },
   "outputs": [],
   "source": [
    "# downtown_loc = {'pickup_latitude': 40.713186, 'pickup_longitude': -74.007243}"
   ]
  },
  {
   "cell_type": "code",
   "execution_count": 142,
   "metadata": {
    "collapsed": true
   },
   "outputs": [],
   "source": [
    "# median_of(nearest_neighbors(downtown_loc, parsed_trips, number = 20))"
   ]
  },
  {
   "cell_type": "markdown",
   "metadata": {},
   "source": [
    "### Summary"
   ]
  },
  {
   "cell_type": "markdown",
   "metadata": {},
   "source": [
    "Alright, at this point we should be pretty happy as we can make a recommendation to LiftOff.  We can tell LiftOff the neighborhoods in Manhattan that will have the largest expected distance."
   ]
  }
 ],
 "metadata": {
  "kernelspec": {
   "display_name": "Python 3",
   "language": "python",
   "name": "python3"
  },
  "language_info": {
   "codemirror_mode": {
    "name": "ipython",
    "version": 3
   },
   "file_extension": ".py",
   "mimetype": "text/x-python",
   "name": "python",
   "nbconvert_exporter": "python",
   "pygments_lexer": "ipython3",
   "version": "3.6.4"
  }
 },
 "nbformat": 4,
 "nbformat_minor": 2
}
