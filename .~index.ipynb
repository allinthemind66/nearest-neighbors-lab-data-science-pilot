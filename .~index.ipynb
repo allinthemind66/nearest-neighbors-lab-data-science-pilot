{
 "cells": [
  {
   "cell_type": "markdown",
   "metadata": {},
   "source": [
    "# Nearest Neighbors Lab"
   ]
  },
  {
   "cell_type": "markdown",
   "metadata": {},
   "source": [
    "### Introduction\n",
    "\n",
    "In this lab, you apply nearest neighbors technique to help a taxi company predict the length of their rides.  Imagine that we are hired to consult for LiftOff, a limo and taxi service that is just opening up.  It wants to do some initial research on NYC trips.  LiftOff has a theory that the pickup location of a taxi ride can help predict the length of the ride.  So the hypothesis is that trips that have a similar pickup location will have a similar trip length. It wants to target the locations that generally have longer rides, as it makes more money that way.\n",
    "\n",
    "LiftOff asks us to do some analysis. Lucky for us, information about NYC taxi trips is available on [it's website](https://data.cityofnewyork.us/Transportation/2014-Yellow-Taxi-Trip-Data/gn7m-em8n).  "
   ]
  },
  {
   "cell_type": "markdown",
   "metadata": {},
   "source": [
    "### A little different"
   ]
  },
  {
   "cell_type": "markdown",
   "metadata": {},
   "source": [
    "Before we get started, note that our problem here is a little bit different than what we worked with previously.  \n",
    "\n",
    "Before our job would be complete upon finding the closest trips to a given location -- that is, upon finding our nearest neighbors.  Now, we still need to find the closest trips, but then we also need to use this data to predict the length of the trip.  As you'll see, to predict a trip length from a given location, we'll find the trips that occurred nearest to the given location, then take the median of those nearest trips, to make a prediction about trip length.\n",
    "\n",
    "The second new thing that we'll see with our problem is the task of choosing the correct number of neighbors or trips.  Say we choose the 500 closest neighbors to a given point.  Well in a dataset of only 1000 trips, we would be including trips from all over the map, and our nearest neighbors formula wouldn't tell us too much about how a specific point is different.  However, if we only choose one neighbor at a given point and assume that the one neighbor's trip distance predicts the length of our trip, then we run the risk of that trip just being a special case and not the norm for that area.  So how to choose the correct number of neighbors, referred to as $k$, is something that we'll need to explore.   "
   ]
  },
  {
   "cell_type": "markdown",
   "metadata": {},
   "source": [
    "### Exploring and Gathering the Data"
   ]
  },
  {
   "cell_type": "markdown",
   "metadata": {},
   "source": [
    "If you go to [NYC Open Data](https://opendata.cityofnewyork.us/), you can find NYC taxi data after a quick search [it's website](https://data.cityofnewyork.us/Transportation/2014-Yellow-Taxi-Trip-Data/gn7m-em8n) if you click on the button, \"API\", you'll find the data that we'll be working with.  For you're reading pleasure, the data has already been moved to the \"trips.json\" file in this lab."
   ]
  },
  {
   "cell_type": "markdown",
   "metadata": {
    "collapsed": true
   },
   "source": [
    "```python\n",
    "[\n",
    "  {\n",
    "    \"dropoff_datetime\": \"2014-11-26T22:31:00.000\",\n",
    "    \"dropoff_latitude\": \"40.746769999999998\",\n",
    "    \"dropoff_longitude\": \"-73.997450000000001\",\n",
    "    \"fare_amount\": \"52\",\n",
    "    \"imp_surcharge\": \"0\",\n",
    "    \"mta_tax\": \"0.5\",\n",
    "    \"passenger_count\": \"1\",\n",
    "    \"payment_type\": \"CSH\",\n",
    "    \"pickup_datetime\": \"2014-11-26T21:59:00.000\",\n",
    "    \"pickup_latitude\": \"40.64499\",\n",
    "    \"pickup_longitude\": \"-73.781149999999997\",\n",
    "    \"rate_code\": \"2\",\n",
    "    \"tip_amount\": \"0\",\n",
    "    \"tolls_amount\": \"5.3300000000000001\",\n",
    "    \"total_amount\": \"57.829999999999998\",\n",
    "    \"trip_distance\": \"18.379999999999999\",\n",
    "    \"vendor_id\": \"VTS\"\n",
    "  },\n",
    "...\n",
    "...\n",
    "]\n",
    "```"
   ]
  },
  {
   "cell_type": "markdown",
   "metadata": {
    "collapsed": true
   },
   "source": [
    "### Document Retrieval "
   ]
  },
  {
   "cell_type": "markdown",
   "metadata": {},
   "source": [
    "Now, we like the amount of data, but we don't need all of the attributes provided.  We decide that all we need for this exploration is `pickup_latitude`, and `pickup_longitude`."
   ]
  },
  {
   "cell_type": "markdown",
   "metadata": {},
   "source": [
    "The first step is to load the data from a JSON file, which can be a little tricky in python.  We'll write a function to do it for you - using the pandas library. "
   ]
  },
  {
   "cell_type": "code",
   "execution_count": 5,
   "metadata": {},
   "outputs": [
    {
     "name": "stdout",
     "output_type": "stream",
     "text": [
      "Requirement already satisfied: gmplot in /opt/conda/lib/python3.6/site-packages (1.2.0)\n",
      "Requirement already satisfied: requests in /opt/conda/lib/python3.6/site-packages (from gmplot) (2.18.4)\n",
      "Requirement already satisfied: chardet<3.1.0,>=3.0.2 in /opt/conda/lib/python3.6/site-packages (from requests->gmplot) (3.0.4)\n",
      "Requirement already satisfied: idna<2.7,>=2.5 in /opt/conda/lib/python3.6/site-packages (from requests->gmplot) (2.6)\n",
      "Requirement already satisfied: urllib3<1.23,>=1.21.1 in /opt/conda/lib/python3.6/site-packages (from requests->gmplot) (1.22)\n",
      "Requirement already satisfied: certifi>=2017.4.17 in /opt/conda/lib/python3.6/site-packages (from requests->gmplot) (2018.4.16)\n",
      "\u001b[31mmkl-random 1.0.1 requires cython, which is not installed.\u001b[0m\n",
      "\u001b[31mmkl-fft 1.0.2 requires cython, which is not installed.\u001b[0m\n"
     ]
    }
   ],
   "source": [
    "import pandas\n",
    "!pip install gmplot\n",
    "def parse_file(fileName):\n",
    "    trips_df = pandas.read_json(fileName)\n",
    "    return trips_df.to_dict('records')\n",
    "\n",
    "trips = parse_file('trips.json')"
   ]
  },
  {
   "cell_type": "code",
   "execution_count": 6,
   "metadata": {},
   "outputs": [
    {
     "data": {
      "text/plain": [
       "{'dropoff_datetime': '2014-11-26T22:31:00.000',\n",
       " 'dropoff_latitude': 40.74677,\n",
       " 'dropoff_longitude': -73.99745,\n",
       " 'fare_amount': 52.0,\n",
       " 'imp_surcharge': 0.0,\n",
       " 'mta_tax': 0.5,\n",
       " 'passenger_count': 1,\n",
       " 'payment_type': 'CSH',\n",
       " 'pickup_datetime': '2014-11-26T21:59:00.000',\n",
       " 'pickup_latitude': 40.64499,\n",
       " 'pickup_longitude': -73.78115,\n",
       " 'rate_code': 2,\n",
       " 'store_and_fwd_flag': nan,\n",
       " 'tip_amount': 0.0,\n",
       " 'tolls_amount': 5.33,\n",
       " 'total_amount': 57.83,\n",
       " 'trip_distance': 18.38,\n",
       " 'vendor_id': 'VTS'}"
      ]
     },
     "execution_count": 6,
     "metadata": {},
     "output_type": "execute_result"
    }
   ],
   "source": [
    "trips[0]"
   ]
  },
  {
   "cell_type": "code",
   "execution_count": 7,
   "metadata": {},
   "outputs": [
    {
     "data": {
      "text/plain": [
       "1000"
      ]
     },
     "execution_count": 7,
     "metadata": {},
     "output_type": "execute_result"
    }
   ],
   "source": [
    "len(trips)"
   ]
  },
  {
   "cell_type": "markdown",
   "metadata": {
    "collapsed": true
   },
   "source": [
    "Ok, so as you can see from above, the `trips` variable returns an array of dictionaries with each dictionary representing a trip.  Write a function called `parse_trips(trips)` that returns an array of the trips with just the following attributes: `trip_distance`, `pickup_latitude`, `pickup_longitude`.  \n",
    "\n",
    "Run the `index-tests.py` file to ensure that you wrote it correctly."
   ]
  },
  {
   "cell_type": "code",
   "execution_count": 8,
   "metadata": {},
   "outputs": [],
   "source": [
    "def parse_trips(trips):\n",
    "    trips_array = []\n",
    "    for trip in trips:\n",
    "#         print({'pickup_latitude': trip['pickup_latitude'], 'pickup_longitude': trip['pickup_longitude'],'trip_distance': trip['trip_distance']})\n",
    "        trips_array.append({'pickup_latitude': trip['pickup_latitude'], 'pickup_longitude': trip['pickup_longitude'],'trip_distance': trip['trip_distance']})\n",
    "    return trips_array"
   ]
  },
  {
   "cell_type": "code",
   "execution_count": 9,
   "metadata": {},
   "outputs": [
    {
     "data": {
      "text/plain": [
       "{'pickup_latitude', 'pickup_longitude', 'trip_distance'}"
      ]
     },
     "execution_count": 9,
     "metadata": {},
     "output_type": "execute_result"
    }
   ],
   "source": [
    "parsed_trips = parse_trips(trips)\n",
    "parsed_trips[0]\n",
    "    # {'pickup_latitude': 40.64499,\n",
    "    #  'pickup_longitude': -73.78115,\n",
    "    #  'trip_distance': 18.38}\n",
    "\n",
    "len(parsed_trips)\n",
    "    # 1000\n",
    "\n",
    "\n",
    "set([key for trip in parsed_trips for key in list(trip.keys())])\n",
    "    # {'pickup_latitude', 'pickup_longitude', 'trip_distance'}"
   ]
  },
  {
   "cell_type": "markdown",
   "metadata": {},
   "source": [
    "### Exploring the Data"
   ]
  },
  {
   "cell_type": "markdown",
   "metadata": {},
   "source": [
    "Now that we have paired down our data, let's answer some initial questions.  Here is where our data will go. "
   ]
  },
  {
   "cell_type": "code",
   "execution_count": 10,
   "metadata": {},
   "outputs": [],
   "source": [
    "\n",
    "import gmplot\n",
    "gmap = gmplot.GoogleMapPlotter(40.758896, -73.985130, 12)\n",
    "gmap.draw(\"mymap.html\")"
   ]
  },
  {
   "cell_type": "markdown",
   "metadata": {},
   "source": [
    "![](./Manhattan.png)"
   ]
  },
  {
   "cell_type": "markdown",
   "metadata": {},
   "source": [
    "Now, plotting the data feeds into the following function.\n",
    "```python\n",
    "gmap.plot(latitudes, longitudes, 'cornflowerblue', edge_width=10)\n",
    "```\n",
    "So we'll need an array of latitudes, each element representing the latitude of a trip, and an array of longitudes, each representing the longitudes associated with a trip.  Write a function called `trip_latitudes` that given a list of trips returns a list of latitudes, and `trip_longitudes` that given a list of trips, returns a list of `longitudes` accordingly.  Run the file `nearest-neighbor-lab-tests.py` to get feedback.  "
   ]
  },
  {
   "cell_type": "code",
   "execution_count": 19,
   "metadata": {},
   "outputs": [],
   "source": [
    "def trip_latitudes(trips):\n",
    "    arr = []\n",
    "    for item in trips:\n",
    "        arr.append(item['pickup_longitude'])\n",
    "    return arr"
   ]
  },
  {
   "cell_type": "code",
   "execution_count": 20,
   "metadata": {},
   "outputs": [],
   "source": [
    "def trip_longitudes(trips):\n",
    "    arr = []\n",
    "    for item in trips:\n",
    "        arr.append(item['pickup_latitude'])\n",
    "    return arr"
   ]
  },
  {
   "cell_type": "code",
   "execution_count": 21,
   "metadata": {},
   "outputs": [
    {
     "data": {
      "text/plain": [
       "[-73.78115,\n",
       " -73.982098,\n",
       " -73.951902,\n",
       " -73.971049,\n",
       " -73.967782,\n",
       " -73.991572,\n",
       " -73.968098,\n",
       " -73.783508,\n",
       " -73.983493,\n",
       " -73.972224,\n",
       " -73.978619,\n",
       " -73.844435,\n",
       " -74.001682,\n",
       " -73.961478,\n",
       " -73.962446,\n",
       " -73.971476,\n",
       " -73.964878,\n",
       " -74.011587,\n",
       " -73.874597,\n",
       " -73.99887,\n",
       " -73.976688,\n",
       " -73.967095,\n",
       " -73.960222,\n",
       " -73.988065,\n",
       " -73.973606,\n",
       " -73.985846,\n",
       " -73.978341,\n",
       " -73.98862,\n",
       " -73.964842,\n",
       " -74.008287,\n",
       " -73.97627,\n",
       " -74.001817,\n",
       " -73.985247,\n",
       " -73.782229,\n",
       " -74.0086,\n",
       " -73.871065,\n",
       " -73.97686,\n",
       " -73.967897,\n",
       " -73.989602,\n",
       " -73.983432,\n",
       " -73.947765,\n",
       " -73.978487,\n",
       " -73.94328,\n",
       " -74.003578,\n",
       " -73.862679,\n",
       " -73.976387,\n",
       " -73.986852,\n",
       " -73.987204,\n",
       " -73.976186,\n",
       " -74.005201,\n",
       " -73.985352,\n",
       " -73.9697,\n",
       " -74.000759,\n",
       " -73.97607,\n",
       " -73.995992,\n",
       " -73.929485,\n",
       " -73.981978,\n",
       " -73.978153,\n",
       " -73.95285,\n",
       " -73.981975,\n",
       " -73.988232,\n",
       " -73.964735,\n",
       " -73.975402,\n",
       " -73.992548,\n",
       " -73.998627,\n",
       " -73.990523,\n",
       " 0.0,\n",
       " -73.989672,\n",
       " -73.972809,\n",
       " -73.987398,\n",
       " -73.98447,\n",
       " -73.994847,\n",
       " -73.964102,\n",
       " -73.969549,\n",
       " -73.968447,\n",
       " -73.86443,\n",
       " -73.982419,\n",
       " -73.982668,\n",
       " -73.78641,\n",
       " -73.97835,\n",
       " -73.988555,\n",
       " -73.988558,\n",
       " -73.993645,\n",
       " -73.991628,\n",
       " -73.958405,\n",
       " -73.98314,\n",
       " -73.992905,\n",
       " -74.004106,\n",
       " -73.991849,\n",
       " -73.985259,\n",
       " -73.982082,\n",
       " -73.984852,\n",
       " -73.982234,\n",
       " -73.95388,\n",
       " -73.981214,\n",
       " -73.952092,\n",
       " -73.871055,\n",
       " -73.959023,\n",
       " -73.961478,\n",
       " -73.972212,\n",
       " -73.959533,\n",
       " -73.9839,\n",
       " -73.994315,\n",
       " -74.006652,\n",
       " -73.955068,\n",
       " -73.994962,\n",
       " -73.999885,\n",
       " -73.961987,\n",
       " -73.972513,\n",
       " -73.982262,\n",
       " -73.976727,\n",
       " -74.004093,\n",
       " -73.97546,\n",
       " -74.002757,\n",
       " -74.005513,\n",
       " -74.00601,\n",
       " -74.013518,\n",
       " -73.995427,\n",
       " -73.983502,\n",
       " -73.986289,\n",
       " -73.977834,\n",
       " -73.987273,\n",
       " -73.989949,\n",
       " -73.992617,\n",
       " -73.984105,\n",
       " -73.968083,\n",
       " -73.991325,\n",
       " -73.992155,\n",
       " -73.9478,\n",
       " -73.969015,\n",
       " 0.0,\n",
       " -73.987223,\n",
       " -73.997097,\n",
       " -73.974092,\n",
       " -73.972048,\n",
       " -73.9716,\n",
       " -74.009981,\n",
       " -73.98696,\n",
       " -74.0073,\n",
       " -73.872166,\n",
       " -74.003545,\n",
       " -73.97979,\n",
       " -73.871275,\n",
       " -73.994232,\n",
       " -73.977199,\n",
       " -73.990757,\n",
       " -73.98984,\n",
       " -74.006124,\n",
       " -73.986287,\n",
       " -73.988899,\n",
       " -73.97703,\n",
       " -73.960596,\n",
       " -73.997131,\n",
       " -73.989398,\n",
       " -73.97669,\n",
       " -73.962703,\n",
       " -73.966972,\n",
       " -73.97804,\n",
       " -73.888215,\n",
       " -73.967522,\n",
       " -73.977714,\n",
       " -73.982805,\n",
       " -73.98728,\n",
       " -73.984663,\n",
       " -73.976404,\n",
       " -74.000952,\n",
       " -73.981375,\n",
       " -73.96322,\n",
       " -73.984942,\n",
       " -73.95948,\n",
       " -73.958237,\n",
       " -73.788935,\n",
       " -73.98666,\n",
       " -74.004372,\n",
       " -73.968992,\n",
       " -73.960554,\n",
       " -73.874625,\n",
       " -74.009875,\n",
       " -73.969831,\n",
       " -73.78482,\n",
       " -74.001527,\n",
       " -73.928025,\n",
       " -73.97835,\n",
       " -73.982,\n",
       " -73.980957,\n",
       " -73.97166,\n",
       " -73.980198,\n",
       " -73.956815,\n",
       " -73.952306,\n",
       " -73.999686,\n",
       " -73.980152,\n",
       " -74.007947,\n",
       " -73.987032,\n",
       " -74.000877,\n",
       " -73.954283,\n",
       " -74.005494,\n",
       " -73.967298,\n",
       " -73.988783,\n",
       " -73.989064,\n",
       " -73.970231,\n",
       " -73.954641,\n",
       " -73.988827,\n",
       " -73.982602,\n",
       " -73.995492,\n",
       " -73.975745,\n",
       " -73.993292,\n",
       " -73.98479,\n",
       " -73.953967,\n",
       " -74.004942,\n",
       " -73.982005,\n",
       " -73.983751,\n",
       " -73.987253,\n",
       " -73.98395,\n",
       " -73.978314,\n",
       " -73.986383,\n",
       " -73.991082,\n",
       " -73.993911,\n",
       " -73.991593,\n",
       " -73.962047,\n",
       " -74.00677,\n",
       " -73.987503,\n",
       " -74.011263,\n",
       " -73.977049,\n",
       " -73.98921,\n",
       " -73.96467,\n",
       " -73.959979,\n",
       " -73.975066,\n",
       " -73.97822,\n",
       " -73.987652,\n",
       " -73.978275,\n",
       " -73.940565,\n",
       " -73.968438,\n",
       " -73.9969,\n",
       " -73.988666,\n",
       " -73.986395,\n",
       " -73.973152,\n",
       " -73.837699,\n",
       " -73.973988,\n",
       " -73.98674,\n",
       " -73.923155,\n",
       " -73.993035,\n",
       " -73.979713,\n",
       " -73.89876,\n",
       " -73.986142,\n",
       " -74.008841,\n",
       " -73.946522,\n",
       " -73.993449,\n",
       " -73.988398,\n",
       " -73.98729,\n",
       " -73.93467,\n",
       " -73.98004,\n",
       " -73.992049,\n",
       " -73.985065,\n",
       " -73.983538,\n",
       " -73.973026,\n",
       " -73.993857,\n",
       " -73.899785,\n",
       " -73.954179,\n",
       " -73.963908,\n",
       " -73.956843,\n",
       " -73.982933,\n",
       " -74.004672,\n",
       " -74.007585,\n",
       " -73.776765,\n",
       " -73.994967,\n",
       " 0.0,\n",
       " -73.99289,\n",
       " -73.994472,\n",
       " -73.971834,\n",
       " -73.991152,\n",
       " -74.004042,\n",
       " 0.0,\n",
       " -73.966812,\n",
       " -73.969822,\n",
       " -73.776652,\n",
       " -74.003233,\n",
       " -73.983683,\n",
       " -73.931531,\n",
       " -73.981767,\n",
       " -73.973285,\n",
       " -73.990504,\n",
       " -73.97814,\n",
       " -73.999779,\n",
       " -73.974282,\n",
       " -73.967915,\n",
       " -73.97427,\n",
       " -73.97771,\n",
       " -73.98533,\n",
       " -74.006024,\n",
       " 0.0,\n",
       " 0.0,\n",
       " -74.04442,\n",
       " -73.994987,\n",
       " -73.987553,\n",
       " -74.006987,\n",
       " -73.970472,\n",
       " -73.984182,\n",
       " -73.992037,\n",
       " -73.990472,\n",
       " -73.984852,\n",
       " -73.989088,\n",
       " -73.964789,\n",
       " -73.975275,\n",
       " -74.005581,\n",
       " -73.97707,\n",
       " -73.987538,\n",
       " -73.991953,\n",
       " -73.954822,\n",
       " -73.973926,\n",
       " -73.970895,\n",
       " -73.977187,\n",
       " -73.8755,\n",
       " -73.9918,\n",
       " -73.789035,\n",
       " -73.953623,\n",
       " -74.000932,\n",
       " -73.991095,\n",
       " -73.963893,\n",
       " -73.98354,\n",
       " -73.97311,\n",
       " -73.986165,\n",
       " -73.985232,\n",
       " -73.969385,\n",
       " -73.947283,\n",
       " -73.989435,\n",
       " -73.776808,\n",
       " -73.983233,\n",
       " -73.975755,\n",
       " -73.865913,\n",
       " -73.967307,\n",
       " -74.00007,\n",
       " -73.985488,\n",
       " -73.954177,\n",
       " -73.990548,\n",
       " -73.989531,\n",
       " -73.880385,\n",
       " -73.992772,\n",
       " -73.981141,\n",
       " -73.966882,\n",
       " -73.967735,\n",
       " -73.994031,\n",
       " -73.961519,\n",
       " -73.981952,\n",
       " -73.982178,\n",
       " -73.934415,\n",
       " -73.987027,\n",
       " -74.00809,\n",
       " -73.98233,\n",
       " -73.96788,\n",
       " -73.99842,\n",
       " -73.97585,\n",
       " -73.992069,\n",
       " -73.945825,\n",
       " 0.0,\n",
       " -74.015592,\n",
       " -73.97968,\n",
       " -73.973007,\n",
       " -73.873092,\n",
       " -73.959905,\n",
       " -74.005399,\n",
       " -73.979116,\n",
       " -73.983402,\n",
       " -73.965817,\n",
       " -73.990203,\n",
       " -73.979222,\n",
       " -73.997073,\n",
       " -73.957862,\n",
       " -73.9853,\n",
       " -73.982127,\n",
       " -73.983681,\n",
       " -73.99235,\n",
       " -73.952442,\n",
       " -73.99898,\n",
       " -73.788912,\n",
       " -73.969071,\n",
       " -73.98593,\n",
       " -73.999288,\n",
       " -73.957142,\n",
       " -73.998967,\n",
       " -73.998358,\n",
       " -73.985687,\n",
       " -73.977196,\n",
       " -73.966721,\n",
       " -73.994388,\n",
       " -73.989232,\n",
       " -73.959298,\n",
       " -73.991668,\n",
       " -73.97751,\n",
       " -74.016717,\n",
       " -73.99125,\n",
       " -73.948801,\n",
       " -73.77668,\n",
       " -73.97205,\n",
       " -73.971439,\n",
       " -73.979668,\n",
       " -73.976395,\n",
       " -73.9819,\n",
       " -73.977033,\n",
       " -73.982345,\n",
       " 0.0,\n",
       " -73.989973,\n",
       " -73.979288,\n",
       " -73.963752,\n",
       " -73.994115,\n",
       " -73.986173,\n",
       " -73.965495,\n",
       " -73.961915,\n",
       " -73.952653,\n",
       " -73.995547,\n",
       " -73.99179,\n",
       " -73.986202,\n",
       " -73.956903,\n",
       " -73.95672,\n",
       " -73.973482,\n",
       " -74.013591,\n",
       " -73.984523,\n",
       " -73.999842,\n",
       " -73.963839,\n",
       " -73.979423,\n",
       " -73.985831,\n",
       " -73.986138,\n",
       " -73.981567,\n",
       " -73.977741,\n",
       " -74.01021,\n",
       " -73.984715,\n",
       " -73.992515,\n",
       " -73.98159,\n",
       " -73.991913,\n",
       " -73.990382,\n",
       " -73.99152,\n",
       " -73.982632,\n",
       " -73.88525,\n",
       " -73.790294,\n",
       " -73.970859,\n",
       " -73.985658,\n",
       " -73.963047,\n",
       " -73.975128,\n",
       " -74.007642,\n",
       " -73.977855,\n",
       " -73.982747,\n",
       " -73.979374,\n",
       " -73.961215,\n",
       " -73.975743,\n",
       " -74.001455,\n",
       " -73.978797,\n",
       " -74.005065,\n",
       " -73.978812,\n",
       " -73.993918,\n",
       " -73.976127,\n",
       " -73.952025,\n",
       " -73.972347,\n",
       " -73.957812,\n",
       " -74.00807,\n",
       " -73.977267,\n",
       " 0.0,\n",
       " -73.963929,\n",
       " -73.973294,\n",
       " -73.945392,\n",
       " -73.957138,\n",
       " -73.97976,\n",
       " -73.996385,\n",
       " -73.983322,\n",
       " -73.982025,\n",
       " -73.885269,\n",
       " -73.968139,\n",
       " -73.961237,\n",
       " -73.966942,\n",
       " -73.951672,\n",
       " -74.006441,\n",
       " -73.969018,\n",
       " -73.956165,\n",
       " -74.006568,\n",
       " -73.991395,\n",
       " -73.958397,\n",
       " -73.982507,\n",
       " -73.967363,\n",
       " -73.99331,\n",
       " -73.957909,\n",
       " -73.983521,\n",
       " -73.970739,\n",
       " -74.006038,\n",
       " -73.981362,\n",
       " -73.968693,\n",
       " -73.954807,\n",
       " -73.95955,\n",
       " -74.002,\n",
       " -73.997696,\n",
       " -73.987503,\n",
       " -73.988552,\n",
       " -74.005309,\n",
       " -74.005378,\n",
       " -73.97723,\n",
       " -73.999577,\n",
       " -73.95882,\n",
       " -73.9712,\n",
       " -73.98631,\n",
       " -74.000534,\n",
       " -73.979382,\n",
       " -73.968202,\n",
       " -74.0062,\n",
       " -73.96904,\n",
       " -73.970865,\n",
       " -73.97492,\n",
       " -73.97283,\n",
       " -73.980283,\n",
       " -73.952227,\n",
       " -73.988848,\n",
       " -74.011423,\n",
       " -73.989376,\n",
       " -74.008509,\n",
       " -73.984531,\n",
       " -73.98406,\n",
       " -74.00267,\n",
       " -73.97379,\n",
       " -73.781578,\n",
       " -73.989694,\n",
       " -73.96815,\n",
       " -73.992072,\n",
       " -73.999515,\n",
       " -73.980465,\n",
       " -73.945725,\n",
       " -74.00424,\n",
       " -73.97557,\n",
       " -73.979826,\n",
       " -73.982625,\n",
       " -73.985925,\n",
       " -73.969052,\n",
       " -74.013452,\n",
       " -73.972642,\n",
       " -73.985682,\n",
       " -73.993982,\n",
       " -73.991875,\n",
       " -73.9646,\n",
       " -73.967215,\n",
       " -73.791427,\n",
       " -73.992404,\n",
       " -73.993307,\n",
       " -74.004308,\n",
       " -74.00562,\n",
       " -74.012503,\n",
       " -73.968502,\n",
       " 0.0,\n",
       " -73.97797,\n",
       " -73.98498,\n",
       " -73.78582,\n",
       " -74.00549,\n",
       " -73.99404,\n",
       " -73.97917,\n",
       " -73.974918,\n",
       " -73.988708,\n",
       " -73.953385,\n",
       " -73.984962,\n",
       " -73.98375,\n",
       " -73.975273,\n",
       " -73.980602,\n",
       " -73.97752,\n",
       " -73.997061,\n",
       " -73.991242,\n",
       " -73.975227,\n",
       " -73.994153,\n",
       " -73.979897,\n",
       " -74.002849,\n",
       " -74.015138,\n",
       " -73.96166,\n",
       " -73.95626,\n",
       " -73.981967,\n",
       " -74.00658,\n",
       " -73.884413,\n",
       " -73.968651,\n",
       " -74.002532,\n",
       " -74.00953,\n",
       " -73.972672,\n",
       " -74.015208,\n",
       " -73.94075,\n",
       " -73.991874,\n",
       " -73.969407,\n",
       " -73.9992,\n",
       " -73.982842,\n",
       " -73.870591,\n",
       " -73.98311,\n",
       " -73.952871,\n",
       " -73.998795,\n",
       " -73.963437,\n",
       " -73.968702,\n",
       " -74.009983,\n",
       " -73.971497,\n",
       " -73.97495,\n",
       " -74.0027,\n",
       " -73.96833,\n",
       " -73.971638,\n",
       " -73.97884,\n",
       " -73.933138,\n",
       " -73.991625,\n",
       " -73.974168,\n",
       " -73.945566,\n",
       " -73.994667,\n",
       " -73.994539,\n",
       " -73.963192,\n",
       " -74.016737,\n",
       " -74.004712,\n",
       " -73.996785,\n",
       " -74.013361,\n",
       " -73.969252,\n",
       " -74.000013,\n",
       " -73.989107,\n",
       " -73.983815,\n",
       " -73.98832,\n",
       " -73.992042,\n",
       " -73.99125,\n",
       " -73.955095,\n",
       " -73.967217,\n",
       " -73.973278,\n",
       " -73.948455,\n",
       " -73.994352,\n",
       " -73.986923,\n",
       " -73.96785,\n",
       " -73.985125,\n",
       " -73.99242,\n",
       " -73.993513,\n",
       " -74.002772,\n",
       " -73.974266,\n",
       " 0.0,\n",
       " -73.975968,\n",
       " -73.87317,\n",
       " -74.006706,\n",
       " -74.006372,\n",
       " -73.99349,\n",
       " -73.991202,\n",
       " -73.968547,\n",
       " -73.994112,\n",
       " -74.01484,\n",
       " -73.977602,\n",
       " -73.995672,\n",
       " -73.968469,\n",
       " -74.006713,\n",
       " -73.979295,\n",
       " -73.985564,\n",
       " -73.981112,\n",
       " -73.972058,\n",
       " -73.968343,\n",
       " -73.872417,\n",
       " -73.977379,\n",
       " -73.955538,\n",
       " -73.870572,\n",
       " -73.994658,\n",
       " -73.988687,\n",
       " -74.003779,\n",
       " -73.96498,\n",
       " -73.978052,\n",
       " -73.994123,\n",
       " -73.993024,\n",
       " -73.915012,\n",
       " -73.958245,\n",
       " -73.983765,\n",
       " -73.995287,\n",
       " -73.981978,\n",
       " -73.968752,\n",
       " -73.99825,\n",
       " -73.970462,\n",
       " -74.016124,\n",
       " -73.984038,\n",
       " -73.969787,\n",
       " -73.973301,\n",
       " -73.992087,\n",
       " -73.962066,\n",
       " -73.992082,\n",
       " -73.950919,\n",
       " -73.991562,\n",
       " -73.984962,\n",
       " -73.988366,\n",
       " -73.984203,\n",
       " -73.987573,\n",
       " -73.99197,\n",
       " -74.0127,\n",
       " -73.986443,\n",
       " -73.947142,\n",
       " -73.988128,\n",
       " -73.98313,\n",
       " -73.993005,\n",
       " -73.979155,\n",
       " -73.995501,\n",
       " -73.997705,\n",
       " -73.99803,\n",
       " -73.996852,\n",
       " -73.972542,\n",
       " -73.954357,\n",
       " -73.993582,\n",
       " -73.992454,\n",
       " -73.959587,\n",
       " -73.96952,\n",
       " -73.886932,\n",
       " -74.003947,\n",
       " -73.952104,\n",
       " -73.975903,\n",
       " -73.99348,\n",
       " -73.986297,\n",
       " -73.971551,\n",
       " -73.986233,\n",
       " -73.98351,\n",
       " -73.97076,\n",
       " -73.992067,\n",
       " -73.97158,\n",
       " -73.989645,\n",
       " -73.99062,\n",
       " -73.967407,\n",
       " -74.008685,\n",
       " -73.968163,\n",
       " -73.967911,\n",
       " -73.975209,\n",
       " -73.959412,\n",
       " -73.99723,\n",
       " -74.002108,\n",
       " -73.996418,\n",
       " -73.981772,\n",
       " -74.00319,\n",
       " -73.960702,\n",
       " -73.952995,\n",
       " -73.961535,\n",
       " -73.98198,\n",
       " -73.987997,\n",
       " -73.986721,\n",
       " -73.992612,\n",
       " -73.961737,\n",
       " -73.991287,\n",
       " -74.00577,\n",
       " -73.994739,\n",
       " -73.98188,\n",
       " -73.966885,\n",
       " -73.9772,\n",
       " 0.0,\n",
       " -73.963669,\n",
       " -73.97462,\n",
       " -74.007189,\n",
       " -74.003702,\n",
       " -73.97241,\n",
       " -74.004707,\n",
       " -73.9612,\n",
       " -73.978817,\n",
       " -73.99113,\n",
       " -74.002195,\n",
       " -73.982578,\n",
       " -73.885322,\n",
       " -73.981935,\n",
       " -73.967692,\n",
       " -73.966807,\n",
       " -73.978132,\n",
       " -73.976194,\n",
       " -73.979264,\n",
       " -74.008496,\n",
       " -73.951423,\n",
       " -73.987498,\n",
       " -74.177668,\n",
       " -73.989083,\n",
       " -73.993151,\n",
       " -73.874527,\n",
       " -73.98864,\n",
       " -73.982692,\n",
       " -73.98462,\n",
       " -74.006866,\n",
       " -73.960347,\n",
       " -73.978587,\n",
       " -73.94696,\n",
       " -73.9876,\n",
       " -73.982488,\n",
       " -73.94992,\n",
       " -73.937715,\n",
       " -73.99204,\n",
       " -73.970552,\n",
       " -73.979327,\n",
       " -73.98333,\n",
       " -74.009752,\n",
       " -73.982238,\n",
       " -73.982317,\n",
       " -73.984265,\n",
       " -73.993653,\n",
       " -73.98305,\n",
       " -73.95442,\n",
       " -73.996472,\n",
       " -73.98794,\n",
       " -73.989278,\n",
       " -73.986215,\n",
       " -73.978387,\n",
       " -73.989205,\n",
       " -73.958256,\n",
       " -73.99328,\n",
       " -73.97328,\n",
       " -73.948383,\n",
       " -73.981522,\n",
       " -73.996771,\n",
       " -73.980176,\n",
       " -74.001152,\n",
       " -74.00089,\n",
       " -73.992855,\n",
       " -73.996435,\n",
       " -73.9899,\n",
       " -73.98097,\n",
       " -73.978908,\n",
       " -73.979712,\n",
       " -73.98858,\n",
       " -73.997073,\n",
       " -73.870957,\n",
       " -73.982293,\n",
       " -73.97625,\n",
       " -73.939932,\n",
       " -73.99704,\n",
       " -73.951147,\n",
       " -73.965163,\n",
       " -73.984915,\n",
       " -73.962567,\n",
       " -73.973275,\n",
       " -74.001687,\n",
       " -73.959639,\n",
       " -73.958628,\n",
       " -73.980939,\n",
       " -73.964465,\n",
       " -73.885138,\n",
       " -73.951088,\n",
       " -73.971017,\n",
       " -73.987428,\n",
       " -73.980648,\n",
       " -73.984948,\n",
       " -73.978038,\n",
       " -73.987478,\n",
       " -73.962962,\n",
       " -73.975233,\n",
       " -73.986817,\n",
       " -73.954963,\n",
       " -73.97543,\n",
       " -73.973248,\n",
       " -74.008577,\n",
       " -73.958072,\n",
       " -73.97666,\n",
       " -74.003975,\n",
       " -73.992417,\n",
       " -73.965624,\n",
       " -73.947885,\n",
       " -73.96923,\n",
       " -73.937645,\n",
       " -73.98626,\n",
       " -73.968142,\n",
       " -73.989642,\n",
       " -73.98185,\n",
       " -73.948122,\n",
       " -73.954356,\n",
       " -73.985855,\n",
       " -73.976302,\n",
       " -73.95305,\n",
       " -73.953405,\n",
       " -73.968517,\n",
       " -74.007735,\n",
       " -73.974878,\n",
       " -73.963497,\n",
       " -73.9454,\n",
       " -73.998625,\n",
       " -73.954888,\n",
       " -73.962616,\n",
       " -73.98489,\n",
       " -73.98298,\n",
       " -73.97692,\n",
       " -73.962998,\n",
       " -73.954987,\n",
       " -73.974485,\n",
       " -73.975967,\n",
       " -74.000955,\n",
       " -73.985524,\n",
       " -73.998101,\n",
       " -73.991395,\n",
       " -73.994657,\n",
       " -73.986105,\n",
       " -73.9606,\n",
       " -73.98991,\n",
       " -73.979234,\n",
       " -74.004265,\n",
       " -73.956252,\n",
       " -73.984354,\n",
       " -73.989329,\n",
       " -73.981732,\n",
       " -73.989213,\n",
       " -73.974746,\n",
       " -74.008147,\n",
       " -73.96482,\n",
       " -73.981522,\n",
       " -73.995368,\n",
       " -74.004445,\n",
       " -73.99012,\n",
       " -73.987085,\n",
       " -73.99465,\n",
       " -73.957448,\n",
       " -73.961831,\n",
       " -73.871235,\n",
       " -73.990317,\n",
       " -73.98011,\n",
       " -73.98622,\n",
       " -73.963485,\n",
       " -73.988662,\n",
       " -73.976157,\n",
       " 0.0,\n",
       " -73.978578,\n",
       " -74.00019,\n",
       " -73.964002,\n",
       " -74.003746,\n",
       " -73.992796,\n",
       " -73.976146,\n",
       " -73.990808,\n",
       " -73.99322,\n",
       " -73.937667,\n",
       " -73.943522,\n",
       " -73.99974,\n",
       " -73.983307,\n",
       " -74.004754,\n",
       " -74.00689,\n",
       " -73.86361,\n",
       " -73.992042,\n",
       " -73.97747,\n",
       " -73.989047,\n",
       " -73.990509,\n",
       " -73.990455,\n",
       " -73.990012,\n",
       " -73.994046,\n",
       " -74.000354,\n",
       " 0.0,\n",
       " -74.004627,\n",
       " -73.99738,\n",
       " -73.992388,\n",
       " -74.009677,\n",
       " -74.010269,\n",
       " -73.969685,\n",
       " -73.987748,\n",
       " -73.993015,\n",
       " -73.982322,\n",
       " -73.996735,\n",
       " -73.970445,\n",
       " -73.987265,\n",
       " -73.978503,\n",
       " -73.963199,\n",
       " -73.955068,\n",
       " -73.995245,\n",
       " -73.976825,\n",
       " -73.993928,\n",
       " -73.984837,\n",
       " -73.9623,\n",
       " -73.99121,\n",
       " -73.98706,\n",
       " -73.804526,\n",
       " -73.965213,\n",
       " -73.936919,\n",
       " -73.983003,\n",
       " -73.990297,\n",
       " -73.993905,\n",
       " -73.974641,\n",
       " -73.951313,\n",
       " -73.962448,\n",
       " -73.991015,\n",
       " -73.86622,\n",
       " -73.995955,\n",
       " -73.98615,\n",
       " -73.98997,\n",
       " 0.0,\n",
       " -73.97671,\n",
       " -73.973209,\n",
       " -73.98895,\n",
       " -74.006705,\n",
       " -73.969672,\n",
       " -73.997122,\n",
       " -73.987952,\n",
       " -73.954135,\n",
       " -73.957122,\n",
       " -74.00412,\n",
       " -73.959577,\n",
       " -73.976783,\n",
       " -74.002744,\n",
       " -73.993847,\n",
       " -73.969728,\n",
       " -73.973033,\n",
       " -73.970537,\n",
       " -73.976836,\n",
       " -73.988933,\n",
       " -73.958018,\n",
       " -74.006202,\n",
       " -73.98274,\n",
       " -73.988897,\n",
       " -73.99317,\n",
       " -74.001677,\n",
       " -73.985773,\n",
       " -73.983499,\n",
       " -73.990119,\n",
       " -73.997045,\n",
       " -73.960927,\n",
       " -73.95043,\n",
       " -73.988995,\n",
       " -73.862845,\n",
       " -73.952635,\n",
       " -73.97391,\n",
       " -73.998152,\n",
       " -73.977369,\n",
       " -73.98244,\n",
       " -73.874592,\n",
       " -73.981283,\n",
       " -73.989042,\n",
       " -73.97763]"
      ]
     },
     "execution_count": 21,
     "metadata": {},
     "output_type": "execute_result"
    }
   ],
   "source": [
    "latitudes = trip_latitudes(parsed_trips)\n",
    "longitudes = trip_longitudes(parsed_trips)\n",
    "latitudes"
   ]
  },
  {
   "cell_type": "code",
   "execution_count": 22,
   "metadata": {},
   "outputs": [
    {
     "data": {
      "text/plain": [
       "1000"
      ]
     },
     "execution_count": 22,
     "metadata": {},
     "output_type": "execute_result"
    }
   ],
   "source": [
    "len(latitudes) \n",
    "# 1000"
   ]
  },
  {
   "cell_type": "code",
   "execution_count": 23,
   "metadata": {},
   "outputs": [],
   "source": [
    "gmap.plot(latitudes or [], longitudes or [], 'cornflowerblue', edge_width=10)\n",
    "gmap.draw(\"myplot.html\")"
   ]
  },
  {
   "cell_type": "markdown",
   "metadata": {},
   "source": [
    "Plotting the trips give you the following."
   ]
  },
  {
   "cell_type": "markdown",
   "metadata": {
    "collapsed": true
   },
   "source": [
    "![](./map-plotting.png)"
   ]
  },
  {
   "cell_type": "markdown",
   "metadata": {},
   "source": [
    "### Using Nearest Neighbors"
   ]
  },
  {
   "cell_type": "markdown",
   "metadata": {},
   "source": [
    "Ok, let's write a function that given a latitude and longitude will predict the fare distance for us.  We'll do this by first finding the nearest trips given a latitude and longitude. "
   ]
  },
  {
   "cell_type": "markdown",
   "metadata": {},
   "source": [
    " First write a method `distance_location` that calculates the distance between two individuals."
   ]
  },
  {
   "cell_type": "code",
   "execution_count": 1,
   "metadata": {},
   "outputs": [],
   "source": [
    "import math\n",
    "\n",
    "def distance_location(selected_individual, neighbor):\n",
    "    distance_squared = selected_individual['pickup_latitude'] - neighbor['pickup_latitude']**2 + selected_individual['pickup_longitude'] - neighbor['pickup_longitude']**2\n",
    "    return sqrt(distance_squared)\n",
    "#     pass"
   ]
  },
  {
   "cell_type": "code",
   "execution_count": 2,
   "metadata": {},
   "outputs": [
    {
     "ename": "NameError",
     "evalue": "name 'parsed_trips' is not defined",
     "output_type": "error",
     "traceback": [
      "\u001b[0;31m\u001b[0m",
      "\u001b[0;31mNameError\u001b[0mTraceback (most recent call last)",
      "\u001b[0;32m<ipython-input-2-cdb09cc38916>\u001b[0m in \u001b[0;36m<module>\u001b[0;34m()\u001b[0m\n\u001b[0;32m----> 1\u001b[0;31m \u001b[0mfirst_trip\u001b[0m \u001b[0;34m=\u001b[0m \u001b[0mparsed_trips\u001b[0m\u001b[0;34m[\u001b[0m\u001b[0;36m0\u001b[0m\u001b[0;34m]\u001b[0m\u001b[0;34m\u001b[0m\u001b[0m\n\u001b[0m\u001b[1;32m      2\u001b[0m \u001b[0msecond_trip\u001b[0m \u001b[0;34m=\u001b[0m \u001b[0mparsed_trips\u001b[0m\u001b[0;34m[\u001b[0m\u001b[0;36m1\u001b[0m\u001b[0;34m]\u001b[0m\u001b[0;34m\u001b[0m\u001b[0m\n\u001b[1;32m      3\u001b[0m \u001b[0;34m\u001b[0m\u001b[0m\n\u001b[1;32m      4\u001b[0m \u001b[0mdistance_location\u001b[0m\u001b[0;34m(\u001b[0m\u001b[0mfirst_trip\u001b[0m\u001b[0;34m,\u001b[0m \u001b[0msecond_trip\u001b[0m\u001b[0;34m)\u001b[0m\u001b[0;34m\u001b[0m\u001b[0m\n\u001b[1;32m      5\u001b[0m     \u001b[0;31m# 0.23505256047318146\u001b[0m\u001b[0;34m\u001b[0m\u001b[0;34m\u001b[0m\u001b[0m\n",
      "\u001b[0;31mNameError\u001b[0m: name 'parsed_trips' is not defined"
     ]
    }
   ],
   "source": [
    "first_trip = parsed_trips[0]\n",
    "second_trip = parsed_trips[1]\n",
    "\n",
    "distance_location(first_trip, second_trip) \n",
    "    # 0.23505256047318146"
   ]
  },
  {
   "cell_type": "markdown",
   "metadata": {},
   "source": [
    "Write the nearest neighbors formula.  If no number is provided, it should return the top 3 neighbors."
   ]
  },
  {
   "cell_type": "code",
   "execution_count": 126,
   "metadata": {
    "collapsed": true
   },
   "outputs": [],
   "source": [
    "def nearest_neighbors(selected_individual, neighbors, number = 3):\n",
    "    pass"
   ]
  },
  {
   "cell_type": "code",
   "execution_count": 127,
   "metadata": {
    "collapsed": true
   },
   "outputs": [],
   "source": [
    "selected_trip = {'pickup_latitude': 40.64499,\n",
    "'pickup_longitude': -73.78115,\n",
    "'trip_distance': 18.38}\n",
    "\n",
    "\n",
    "nearest_neighbors(selected_trip, parsed_trips or [], number = 3)\n",
    "\n",
    "# [{'distance': 0.0004569288784918792,\n",
    "#   'pickup_latitude': 40.64483,\n",
    "#   'pickup_longitude': -73.781578,\n",
    "#   'trip_distance': 7.78},\n",
    "#  {'distance': 0.0011292165425673159,\n",
    "#   'pickup_latitude': 40.644657,\n",
    "#   'pickup_longitude': -73.782229,\n",
    "#   'trip_distance': 12.7},\n",
    "#  {'distance': 0.0042359798158141185,\n",
    "#   'pickup_latitude': 40.648509,\n",
    "#   'pickup_longitude': -73.783508,\n",
    "#   'trip_distance': 17.3}]"
   ]
  },
  {
   "cell_type": "markdown",
   "metadata": {},
   "source": [
    "### Choosing the correct number of neighbors"
   ]
  },
  {
   "cell_type": "markdown",
   "metadata": {},
   "source": [
    "Now in working with a nearest neighbors formula, one tricky question is how many neighbors we should use.  Remember that our guess is that trips that have similar pickup locations will have similar lengths of trips.  Then we will just take the median of the trip lengths of this group together to make a prediction.  \n",
    "\n",
    "If we choose too many neighbors, then we'll be averaging together distances from all over town, and we won't really be differentiating between locations.  But if we  look at the trip distances of the three neighbors above, this may be small.  Take a look at the `trip_distances` of the 3 neighbors above.  It's hard to tell if the trip distance of 7 is more typical than the distance of 17.  In other words, our sample size is small.\n",
    "\n",
    "The choice of the correct number of neighbors is called choosing the correct $k$, as that the variable often assigned to the number of neighbors.  We'll experiment with the our $k$ size throughout the rest of this lab."
   ]
  },
  {
   "cell_type": "markdown",
   "metadata": {},
   "source": [
    "Let's increase the number of our neighbors to see what happens. "
   ]
  },
  {
   "cell_type": "code",
   "execution_count": 128,
   "metadata": {
    "collapsed": true
   },
   "outputs": [],
   "source": [
    "seven_closest = nearest_neighbors(selected_trip, parsed_trips or [], number = 7)\n",
    "seven_closest"
   ]
  },
  {
   "cell_type": "markdown",
   "metadata": {},
   "source": [
    "Notice that most of the data is a distance of .0045 away, so going to the top 7 nearest neighbors didn't seem to give us neighbors too far from each other, which is a good sign.  Still, it's hard to know what distance in latitude and longitude really look like, so let's try mapping the data.  "
   ]
  },
  {
   "cell_type": "code",
   "execution_count": 129,
   "metadata": {
    "collapsed": true
   },
   "outputs": [],
   "source": [
    "# seven_lats = trip_latitudes(seven_closest)\n",
    "# seven_longs = trip_longitudes(seven_closest)"
   ]
  },
  {
   "cell_type": "code",
   "execution_count": 130,
   "metadata": {
    "collapsed": true
   },
   "outputs": [],
   "source": [
    "# gmap = gmplot.GoogleMapPlotter(first_trip['pickup_latitude'], first_trip['pickup_longitude'], 15)\n",
    "# gmap.scatter(seven_lats, seven_longs, 'cornflowerblue', edge_width=10)\n",
    "# gmap.draw(\"nearestneighbors.html\")"
   ]
  },
  {
   "cell_type": "markdown",
   "metadata": {},
   "source": [
    "![](./airportdata.png)"
   ]
  },
  {
   "cell_type": "markdown",
   "metadata": {},
   "source": [
    "Well, it looks like we can't really make an assessment of a good $k$ size with this data.  Our location is the airport, which is probably not a very typical place to see if our $k$ size is good for predicting trip lengths.\n",
    "\n",
    "Let's choose another spot that we expect to be less atypical.  Fifty-first street and 7th Avenue is at $40.761710, -73.982760$.  Now let's again try to see if seven locations is a good spread, but this time starting from midtown."
   ]
  },
  {
   "cell_type": "code",
   "execution_count": 131,
   "metadata": {
    "collapsed": true
   },
   "outputs": [],
   "source": [
    "# midtown_loc = {'pickup_latitude': 40.761710, 'pickup_longitude': -73.982760}\n",
    "# midtown_neighbors = nearest_neighbors(midtown_loc, parsed_trips, number = 7)\n",
    "# list(map(lambda trip: trip['distance'], midtown_neighbors))"
   ]
  },
  {
   "cell_type": "markdown",
   "metadata": {},
   "source": [
    "The distances between neighbors double in size as our $k$ goes from four to five.  How far is this distance really?"
   ]
  },
  {
   "cell_type": "code",
   "execution_count": 132,
   "metadata": {
    "collapsed": true
   },
   "outputs": [],
   "source": [
    "# gmap = gmplot.GoogleMapPlotter(midtown_loc['pickup_latitude'], midtown_loc['pickup_longitude'], 15)\n",
    "# closest_lats = trip_latitudes(midtown_neighbors)\n",
    "# closest_longs = trip_longitudes(midtown_neighbors)\n",
    "\n",
    "# gmap.scatter(closest_lats, closest_longs, 'cornflowerblue', edge_width=10)\n",
    "# gmap.draw(\"nearestmidtown.html\")"
   ]
  },
  {
   "cell_type": "markdown",
   "metadata": {},
   "source": [
    "![](./midtown.png)"
   ]
  },
  {
   "cell_type": "markdown",
   "metadata": {},
   "source": [
    "So essentially this is one or two blocks away from our location of 51st and 7th.  Not too bad.  Looking at the length of the trip for our seven it seems like our neighbor size, $k$, is large enough so we can start to see what would be an expected trip distance."
   ]
  },
  {
   "cell_type": "code",
   "execution_count": 133,
   "metadata": {
    "collapsed": true
   },
   "outputs": [],
   "source": [
    "# midtown_neighbors"
   ]
  },
  {
   "cell_type": "markdown",
   "metadata": {},
   "source": [
    "### Calculating an expected trip distance"
   ]
  },
  {
   "cell_type": "markdown",
   "metadata": {},
   "source": [
    "Another way of thinking about the number of neighbors we should choose, is to think the deviation from the median distance.  We want to make sure our number is not so large so that when we choose a location, it just looks like the expected distance across all taxi trips in Manhattan. \n",
    "\n",
    "Let's write a function called `median_of` that takes a list of trips, and returns the median `trip_distance`."
   ]
  },
  {
   "cell_type": "code",
   "execution_count": 134,
   "metadata": {
    "collapsed": true
   },
   "outputs": [],
   "source": [
    "import statistics\n",
    "def median_of(neighbors):\n",
    "    pass"
   ]
  },
  {
   "cell_type": "code",
   "execution_count": 135,
   "metadata": {
    "collapsed": true
   },
   "outputs": [],
   "source": [
    "median_of(parsed_trips or [])"
   ]
  },
  {
   "cell_type": "markdown",
   "metadata": {},
   "source": [
    "So when we compare this with our `midtown_neighbors`, we can see that the number is different.  So our number of neighbors is not so large so that we look like the median."
   ]
  },
  {
   "cell_type": "code",
   "execution_count": 136,
   "metadata": {
    "collapsed": true
   },
   "outputs": [],
   "source": [
    "# median_of(midtown_neighbors)"
   ]
  },
  {
   "cell_type": "markdown",
   "metadata": {},
   "source": [
    "Still, if we begin to change the number of neighbors from seven to ten, our median really starts to change."
   ]
  },
  {
   "cell_type": "code",
   "execution_count": 137,
   "metadata": {
    "collapsed": true
   },
   "outputs": [],
   "source": [
    "# median_of(nearest_neighbors(midtown_loc, parsed_trips, number = 10))"
   ]
  },
  {
   "cell_type": "markdown",
   "metadata": {},
   "source": [
    "Notice however, that between 15 to 20, to 25, our formula begins to give us a similar result.  "
   ]
  },
  {
   "cell_type": "code",
   "execution_count": 138,
   "metadata": {
    "collapsed": true
   },
   "outputs": [],
   "source": [
    "# median_of(nearest_neighbors(midtown_loc, parsed_trips, number = 25))"
   ]
  },
  {
   "cell_type": "markdown",
   "metadata": {},
   "source": [
    "So it appears that around 20 could be a sweet spot. Let's try another location to see how we do."
   ]
  },
  {
   "cell_type": "code",
   "execution_count": 139,
   "metadata": {
    "collapsed": true
   },
   "outputs": [],
   "source": [
    "# uws_loc = {'pickup_latitude': 40.786430, 'pickup_longitude': -73.975979}"
   ]
  },
  {
   "cell_type": "code",
   "execution_count": 140,
   "metadata": {
    "collapsed": true
   },
   "outputs": [],
   "source": [
    "# median_of(nearest_neighbors(uws_loc, parsed_trips, number = 20))"
   ]
  },
  {
   "cell_type": "code",
   "execution_count": 141,
   "metadata": {
    "collapsed": true
   },
   "outputs": [],
   "source": [
    "# downtown_loc = {'pickup_latitude': 40.713186, 'pickup_longitude': -74.007243}"
   ]
  },
  {
   "cell_type": "code",
   "execution_count": 142,
   "metadata": {
    "collapsed": true
   },
   "outputs": [],
   "source": [
    "# median_of(nearest_neighbors(downtown_loc, parsed_trips, number = 20))"
   ]
  },
  {
   "cell_type": "markdown",
   "metadata": {},
   "source": [
    "### Summary"
   ]
  },
  {
   "cell_type": "markdown",
   "metadata": {},
   "source": [
    "Alright, at this point we should be pretty happy as we can make a recommendation to LiftOff.  We can tell LiftOff the neighborhoods in Manhattan that will have the largest expected distance."
   ]
  }
 ],
 "metadata": {
  "kernelspec": {
   "display_name": "Python 3",
   "language": "python",
   "name": "python3"
  },
  "language_info": {
   "codemirror_mode": {
    "name": "ipython",
    "version": 3
   },
   "file_extension": ".py",
   "mimetype": "text/x-python",
   "name": "python",
   "nbconvert_exporter": "python",
   "pygments_lexer": "ipython3",
   "version": "3.6.4"
  }
 },
 "nbformat": 4,
 "nbformat_minor": 2
}
